{
 "cells": [
  {
   "attachments": {},
   "cell_type": "markdown",
   "metadata": {},
   "source": [
    "# Quick Guide"
   ]
  },
  {
   "attachments": {},
   "cell_type": "markdown",
   "metadata": {},
   "source": [
    "If you have not yet installed {{ Triumvirate }}, please follow the instructions\n",
    "in ['Installation'](../installation.rst)."
   ]
  },
  {
   "attachments": {},
   "cell_type": "markdown",
   "metadata": {},
   "source": [
    "## Using the Python package"
   ]
  },
  {
   "attachments": {},
   "cell_type": "markdown",
   "metadata": {},
   "source": [
    "### Preamble"
   ]
  },
  {
   "attachments": {},
   "cell_type": "markdown",
   "metadata": {},
   "source": [
    "Load needed classes and functions from the relevant package modules:"
   ]
  },
  {
   "cell_type": "code",
   "execution_count": 1,
   "metadata": {},
   "outputs": [],
   "source": [
    "from triumvirate.catalogue import ParticleCatalogue\n",
    "from triumvirate.logger import setup_logger\n",
    "from triumvirate.parameters import ParameterSet\n",
    "from triumvirate.threept import compute_bispec_in_gpp_box"
   ]
  },
  {
   "attachments": {},
   "cell_type": "markdown",
   "metadata": {},
   "source": [
    "### Optional logger"
   ]
  },
  {
   "attachments": {},
   "cell_type": "markdown",
   "metadata": {},
   "source": [
    "A logger is useful for program tracking, and can be set up easily and passed\n",
    "to callables that accept a ``logger`` argument:"
   ]
  },
  {
   "cell_type": "code",
   "execution_count": 2,
   "metadata": {},
   "outputs": [],
   "source": [
    "trv_logger = setup_logger()"
   ]
  },
  {
   "attachments": {},
   "cell_type": "markdown",
   "metadata": {},
   "source": [
    "```{seealso}\n",
    "See the ['Customised Logger'](./Logger.ipynb) tutorial for more details."
   ]
  },
  {
   "attachments": {},
   "cell_type": "markdown",
   "metadata": {},
   "source": [
    "### Parameter configuration"
   ]
  },
  {
   "attachments": {},
   "cell_type": "markdown",
   "metadata": {},
   "source": [
    "The simplest way to initialise an instance of the parameter set class\n",
    "{py:class}`~triumvirate.parameters.ParameterSet` is by loading an external\n",
    "``.yml`` file. A template parameter file ``\"params_template.yml\"`` can be\n",
    "downloaded from [here](../_static/params_template.yml), but the relevant\n",
    "parameters need to be changed accordingly for your use.\n",
    "\n",
    "```{seealso}\n",
    "See ['Parameter Configuration'](./Configuration.ipynb) and\n",
    "['Parameter Set'](./Parameters.ipynb) tutorials for more details.\n",
    "```"
   ]
  },
  {
   "cell_type": "code",
   "execution_count": 3,
   "metadata": {
    "tags": [
     "remove-cell"
    ]
   },
   "outputs": [],
   "source": [
    "import yaml\n",
    "\n",
    "from triumvirate.parameters import fetch_paramset_template\n",
    "\n",
    "params_dict = fetch_paramset_template('dict')\n",
    "\n",
    "for ax_name in ['x', 'y', 'z']:\n",
    "    params_dict['boxsize'][ax_name] = 1000.\n",
    "    params_dict['ngrid'][ax_name] = 64\n",
    "\n",
    "params_dict.update({\n",
    "    'assignment'    : 'cic',\n",
    "    'catalogue_type': 'survey',\n",
    "    'statistic_type': 'bispec',\n",
    "    'degrees'       : {'ell1': 0, 'ell2': 0, 'ELL': 0},\n",
    "    'range'         : [0.005, 0.105],\n",
    "    'num_bins'      : 10,\n",
    "})\n",
    "\n",
    "with open(\"params_template.yml\", 'w') as params_file:\n",
    "    yaml.dump(params_dict, params_file, default_flow_style=False)"
   ]
  },
  {
   "attachments": {},
   "cell_type": "markdown",
   "metadata": {},
   "source": [
    "Assuming the parameter file is in the current working directory, read the\n",
    "parameter set from file:"
   ]
  },
  {
   "cell_type": "code",
   "execution_count": 4,
   "metadata": {},
   "outputs": [
    {
     "name": "stdout",
     "output_type": "stream",
     "text": [
      "[2023-02-26 02:00:52 (+00:00:00) INFO] Validating parameters... (entering C++)\n",
      "[2023-02-26 02:00:52 (+00:00:00) INFO] ... validated parameters. (exited C++)\n",
      "[2023-02-26 02:00:52 (+00:00:00) STAT C++] Parameters validated.\n"
     ]
    }
   ],
   "source": [
    "parameter_set = ParameterSet(\"params_template.yml\", logger=trv_logger)"
   ]
  },
  {
   "attachments": {},
   "cell_type": "markdown",
   "metadata": {},
   "source": [
    "The parameters used here are (possibly printed in a different order):"
   ]
  },
  {
   "cell_type": "code",
   "execution_count": 5,
   "metadata": {},
   "outputs": [
    {
     "name": "stdout",
     "output_type": "stream",
     "text": [
      "{'alignment': 'centre',\n",
      " 'assignment': 'cic',\n",
      " 'binning': 'lin',\n",
      " 'boxsize': {'x': 1000.0, 'y': 1000.0, 'z': 1000.0},\n",
      " 'catalogue_type': 'survey',\n",
      " 'degrees': {'ELL': 0, 'ell1': 0, 'ell2': 0},\n",
      " 'directories': {'catalogues': None, 'measurements': None},\n",
      " 'files': {'data_catalogue': None, 'rand_catalogue': None},\n",
      " 'form': 'diag',\n",
      " 'idx_bin': None,\n",
      " 'interlace': 'false',\n",
      " 'ngrid': {'x': 64, 'y': 64, 'z': 64},\n",
      " 'norm_convention': 'particle',\n",
      " 'num_bins': 10,\n",
      " 'padfactor': None,\n",
      " 'padscale': 'box',\n",
      " 'range': [0.005, 0.105],\n",
      " 'statistic_type': 'bispec',\n",
      " 'tags': {'output': None},\n",
      " 'verbose': 20,\n",
      " 'wa_orders': {'i': None, 'j': None},\n",
      " 'npoint': '3pt',\n",
      " 'space': 'fourier'}\n"
     ]
    }
   ],
   "source": [
    "parameter_set.print()"
   ]
  },
  {
   "attachments": {},
   "cell_type": "markdown",
   "metadata": {},
   "source": [
    "### Catalogue data"
   ]
  },
  {
   "attachments": {},
   "cell_type": "markdown",
   "metadata": {},
   "source": [
    "We will measure clustering statistics from a single simulation-like catalogue\n",
    "file ``\"mock_catalogue_sim.dat\"``, which contains three data columns ``'x'``,\n",
    "``'y'`` and ``'z'`` for the Cartesian coordinates of particles."
   ]
  },
  {
   "cell_type": "code",
   "execution_count": 6,
   "metadata": {
    "tags": [
     "remove-cell"
    ]
   },
   "outputs": [],
   "source": [
    "import numpy as np\n",
    "from nbodykit.cosmology import Cosmology\n",
    "\n",
    "# Cosmology, matter power spectrum and bias at given redshift\n",
    "cosmo = Cosmology(\n",
    "    h=0.6736, Omega0_b=0.04930, Omega0_cdm=0.2645, A_s=2.083e-09, n_s=0.9649\n",
    ")\n",
    "redshift = 1.\n",
    "bias = 2.\n",
    "\n",
    "# Catalogue properties\n",
    "density = 5.e-4\n",
    "boxsize = 1000.\n",
    "\n",
    "# Catalogue selectors\n",
    "def cut_to_sphere(coords, boxsize):\n",
    "    return np.less_equal(np.sqrt(np.sum(coords**2, axis=-1)), boxsize/2.)\n",
    "\n",
    "# Create simulation-like catalogue, or load if existing.\n",
    "catalogue_sim_filepath = \"mock_catalogue_sim.dat\"\n",
    "\n",
    "try:\n",
    "    catalogue_sim = np.loadtxt(\n",
    "        catalogue_sim_filepath,\n",
    "        dtype=[(axis, np.float64) for axis in ['x', 'y', 'z']]\n",
    "    )\n",
    "except FileNotFoundError:\n",
    "    from nbodykit.lab import LinearPower, LogNormalCatalog\n",
    "    powspec = LinearPower(cosmo, redshift)\n",
    "    catalogue_sim = LogNormalCatalog(\n",
    "        powspec, density, boxsize, bias=bias, Nmesh=256, seed=42\n",
    "    )\n",
    "    catalogue_sim['Position'] -= boxsize/2.\n",
    "    np.savetxt(catalogue_sim_filepath, catalogue_sim['Position'].compute())"
   ]
  },
  {
   "attachments": {},
   "cell_type": "markdown",
   "metadata": {},
   "source": [
    "Read the catalogue data from file:"
   ]
  },
  {
   "cell_type": "code",
   "execution_count": 7,
   "metadata": {},
   "outputs": [
    {
     "name": "stdout",
     "output_type": "stream",
     "text": [
      "[2023-02-26 02:00:58 (+00:00:06) INFO] Original extents of particle coordinates: {'x': (-499.998, 499.998), 'y': (-500.000, 499.998), 'z': (-499.999, 500.000)} (ParticleCatalogue(source=extfile:mock_catalogue_sim.dat)).\n",
      "[2023-02-26 02:00:58 (+00:00:06) INFO] Catalogue loaded: 499214 particles with total sample weight 499214.000 (ParticleCatalogue(source=extfile:mock_catalogue_sim.dat)).\n",
      "Catalogue 'nz' field is not provided and thus set to zero, which may raise errors in some computations.\n",
      "Catalogue 'ws' field is not provided, so is set to unity.\n",
      "Catalogue 'wc' field is not provided, so is set to unity.\n"
     ]
    }
   ],
   "source": [
    "# DEMO: warning messages are captured and reprinted here for demonstration.\n",
    "\n",
    "import warnings  # DEMO\n",
    "\n",
    "with warnings.catch_warnings(record=True) as demo_warnings:\n",
    "    catalogue = ParticleCatalogue.read_from_file(\n",
    "        \"mock_catalogue_sim.dat\",\n",
    "        names=['x', 'y', 'z'],\n",
    "        logger=trv_logger\n",
    "    )\n",
    "    for demo_warning in demo_warnings:\n",
    "        print(demo_warning.message)"
   ]
  },
  {
   "attachments": {},
   "cell_type": "markdown",
   "metadata": {},
   "source": [
    "```{hint}\n",
    "As seen in the warning messages, catalogues should usually contain more\n",
    "data columns than just the Cartesian coordinates. For a cuboid-box catalogue\n",
    "of unweighted particles like above, the Cartesian coordinates are the only\n",
    "necessary input data.\n",
    "```\n",
    "\n",
    "```{seealso}\n",
    "See the ['Particle Catalogue'](./Catalogue.ipynb) tutorial for more details.\n",
    "```"
   ]
  },
  {
   "attachments": {},
   "cell_type": "markdown",
   "metadata": {},
   "source": [
    "### Clustering measurements"
   ]
  },
  {
   "attachments": {},
   "cell_type": "markdown",
   "metadata": {},
   "source": [
    "As an example, we measure the diagonal global plane-parallel bispectrum\n",
    "monopole $(\\ell_1, \\ell_2, L) = (0, 0, 0)$ from the simulation-like cuboid-box\n",
    "catalogue loaded above, and save the result as a ``.txt`` file to the default\n",
    "output file ``\"bk000_diag.txt\"``.\n",
    "\n",
    "Call the function:"
   ]
  },
  {
   "cell_type": "code",
   "execution_count": 8,
   "metadata": {},
   "outputs": [
    {
     "name": "stdout",
     "output_type": "stream",
     "text": [
      "[2023-02-26 02:00:58 (+00:00:06) INFO] Validating parameters... (entering C++)\n",
      "[2023-02-26 02:00:58 (+00:00:06) INFO] ... validated parameters. (exited C++)\n",
      "[2023-02-26 02:00:58 (+00:00:06) STAT C++] Parameters validated.\n",
      "[2023-02-26 02:00:58 (+00:00:06) INFO] Parameter set have been initialised.\n",
      "[2023-02-26 02:00:58 (+00:00:06) INFO] Binning has been initialised.\n",
      "[2023-02-26 02:00:58 (+00:00:06) INFO] Offset extents of particle coordinates: {'x': (0.000, 1000.000), 'y': (0.000, 999.996), 'z': (0.001, 999.997)} (ParticleCatalogue(source=extfile:mock_catalogue_sim.dat)).\n",
      "[2023-02-26 02:00:58 (+00:00:06) INFO] Catalogue box has been periodised.\n",
      "[2023-02-26 02:00:58 (+00:00:06) INFO] Inserted missing 'nz' field based on particle count and boxsize.\n",
      "[2023-02-26 02:00:58 (+00:00:06) INFO] Preparing catalogue for clustering algorithm... (entering C++)\n",
      "[2023-02-26 02:01:00 (+00:00:12) INFO C++] Catalogue loaded: 499214 particles with total sample weight 499214.000 (source=extdata).\n",
      "[2023-02-26 02:01:00 (+00:00:12) INFO C++] Extents of particle coordinates: {'x': (0.000, 1000.000), 'y': (0.000, 999.996), 'z': (0.001, 999.997)} (source=extdata).\n",
      "[2023-02-26 02:01:00 (+00:00:08) INFO] ... prepared catalogue for clustering algorithm. (exited C++)\n",
      "[2023-02-26 02:01:00 (+00:00:08) INFO] Normalisation factors: 8.037847e+00 (used), 2.208591e+00 (alternative).\n",
      "[2023-02-26 02:01:00 (+00:00:08) INFO] Measuring clustering statistics... (entering C++)\n",
      "[2023-02-26 02:01:00 (+00:00:08) STAT C++] Computing bispectrum from a periodic-box simulation-type catalogue in the global plane-parallel approximation...\n",
      "[2023-02-26 02:01:03 (+00:00:11) INFO] ... measured clustering statistics. (exited C++)\n",
      "[2023-02-26 02:01:03 (+00:00:11) STAT C++] Bispectrum term at orders (m1, m2, M) = (0, 0, 0) computed.\n",
      "[2023-02-26 02:01:03 (+00:00:11) STAT C++] ... computed bispectrum from a periodic-box simulation-type catalogue in the global plane-parallel approximation.\n",
      "[2023-02-26 02:01:03 (+00:00:11) INFO] Measurements saved to bk000_diag.txt.\n"
     ]
    }
   ],
   "source": [
    "results = compute_bispec_in_gpp_box(\n",
    "    catalogue, paramset=parameter_set,\n",
    "    save='.txt', logger=trv_logger\n",
    ")"
   ]
  },
  {
   "attachments": {},
   "cell_type": "markdown",
   "metadata": {},
   "source": [
    "The returned `results` is a dictionary containing the coordinate bin centres\n",
    "and effective/mean coordinates, the number of contributing modes per bin and\n",
    "(the real and imaginary parts of) the raw measurements including shot noise and\n",
    "the shot noise component:"
   ]
  },
  {
   "cell_type": "code",
   "execution_count": 12,
   "metadata": {},
   "outputs": [
    {
     "name": "stdout",
     "output_type": "stream",
     "text": [
      "{'bk_raw': array([-9.76634042e+08+5.26214490e-07j,  5.62308286e+09-2.29206433e-07j,\n",
      "        8.69371377e+08+1.48027213e-07j,  1.28499842e+09+3.94237134e-09j,\n",
      "        6.68698395e+08-6.55545174e-09j,  6.05966155e+08+3.81950140e-08j,\n",
      "        3.85704485e+08+7.34849305e-09j,  2.88772358e+08-1.12156484e-08j,\n",
      "        2.32705251e+08+9.05802470e-09j,  2.00351320e+08+3.02312246e-09j]),\n",
      " 'bk_shot': array([1.89812841e+08+2.46724756e-09j, 2.06798892e+08+1.59144112e-09j,\n",
      "       1.50707290e+08+3.02190775e-10j, 1.24950405e+08-3.72568273e-10j,\n",
      "       1.06980049e+08-7.86374911e-11j, 9.44867868e+07+3.44890456e-11j,\n",
      "       8.04644721e+07+3.79496799e-11j, 6.84708228e+07-1.63157897e-10j,\n",
      "       5.94748920e+07-1.02103091e-10j, 5.12239555e+07+1.27372284e-10j]),\n",
      " 'k1bin': array([0.01, 0.02, 0.03, 0.04, 0.05, 0.06, 0.07, 0.08, 0.09, 0.1 ]),\n",
      " 'k1eff': array([0.01149964, 0.02047114, 0.03052422, 0.04062536, 0.05033379,\n",
      "       0.06040971, 0.07034279, 0.08025683, 0.09014322, 0.10008191]),\n",
      " 'k2bin': array([0.01, 0.02, 0.03, 0.04, 0.05, 0.06, 0.07, 0.08, 0.09, 0.1 ]),\n",
      " 'k2eff': array([0.01149964, 0.02047114, 0.03052422, 0.04062536, 0.05033379,\n",
      "       0.06040971, 0.07034279, 0.08025683, 0.09014322, 0.10008191]),\n",
      " 'nmodes': array([  56,  194,  488,  812, 1250, 1896, 2426, 3272, 4016, 5138])}\n"
     ]
    }
   ],
   "source": [
    "# DEMO\n",
    "from pprint import pprint\n",
    "pprint(results)"
   ]
  },
  {
   "attachments": {},
   "cell_type": "markdown",
   "metadata": {},
   "source": [
    "The saved file contains a header with summarY information about the parameters\n",
    "used and the input data as well as intermediary quantities:"
   ]
  },
  {
   "cell_type": "code",
   "execution_count": 10,
   "metadata": {},
   "outputs": [
    {
     "name": "stdout",
     "output_type": "stream",
     "text": [
      "# Catalogue source: extfile:mock_catalogue_sim.dat\n",
      "# Catalogue size: 499214 particles of total sample weight 499214.000\n",
      "# Catalogue particle extents: ([0.000, 1000.000], [0.000, 999.996], [0.001, 999.997])\n",
      "# Box size: (1000.000, 1000.000, 1000.000)\n",
      "# Box alignment: centre\n",
      "# Mesh number: (64, 64, 64)\n",
      "# Mesh assignment and interlacing: cic, false\n",
      "# Normalisation factor: 8.037846928e+00 (particle-based, used), 2.208590694e+00 (mesh-based, alternative)\n",
      "# [0] k1_cen, [1] k1_eff, [2] k2_cen, [3] k2_eff, [4] nmodes, [5] Re{bk000_raw}, [6] Im{bk000_raw}, [7] Re{bk000_shot}, [8] Im{bk000_shot}\n",
      "1.000000000e-02\t1.149964290e-02\t1.000000000e-02\t1.149964290e-02\t        56\t-9.766340417e+08\t 5.262144896e-07\t 1.898128415e+08\t 2.467247558e-09\n",
      "2.000000000e-02\t2.047114034e-02\t2.000000000e-02\t2.047114034e-02\t       194\t 5.623082855e+09\t-2.292064332e-07\t 2.067988919e+08\t 1.591441123e-09\n",
      "3.000000000e-02\t3.052421724e-02\t3.000000000e-02\t3.052421724e-02\t       488\t 8.693713775e+08\t 1.480272132e-07\t 1.507072903e+08\t 3.021907747e-10\n",
      "4.000000000e-02\t4.062536317e-02\t4.000000000e-02\t4.062536317e-02\t       812\t 1.284998423e+09\t 3.942371337e-09\t 1.249504047e+08\t-3.725682726e-10\n",
      "5.000000000e-02\t5.033378732e-02\t5.000000000e-02\t5.033378732e-02\t      1250\t 6.686983950e+08\t-6.555451736e-09\t 1.069800491e+08\t-7.863749115e-11\n",
      "6.000000000e-02\t6.040971138e-02\t6.000000000e-02\t6.040971138e-02\t      1896\t 6.059661551e+08\t 3.819501398e-08\t 9.448678682e+07\t 3.448904564e-11\n",
      "7.000000000e-02\t7.034278912e-02\t7.000000000e-02\t7.034278912e-02\t      2426\t 3.857044854e+08\t 7.348493047e-09\t 8.046447209e+07\t 3.794967990e-11\n",
      "8.000000000e-02\t8.025683499e-02\t8.000000000e-02\t8.025683499e-02\t      3272\t 2.887723577e+08\t-1.121564838e-08\t 6.847082285e+07\t-1.631578973e-10\n",
      "9.000000000e-02\t9.014322302e-02\t9.000000000e-02\t9.014322302e-02\t      4016\t 2.327052513e+08\t 9.058024705e-09\t 5.947489200e+07\t-1.021030909e-10\n",
      "1.000000000e-01\t1.000819060e-01\t1.000000000e-01\t1.000819060e-01\t      5138\t 2.003513200e+08\t 3.023122461e-09\t 5.122395546e+07\t 1.273722836e-10\n",
      "\n"
     ]
    }
   ],
   "source": [
    "# DEMO\n",
    "with open(\"bk000_diag.txt\", 'r') as results_file:\n",
    "    print(results_file.read())"
   ]
  },
  {
   "cell_type": "code",
   "execution_count": 11,
   "metadata": {
    "tags": [
     "remove-cell"
    ]
   },
   "outputs": [],
   "source": [
    "!rm bk000_diag.txt"
   ]
  },
  {
   "attachments": {},
   "cell_type": "markdown",
   "metadata": {},
   "source": [
    "```{seealso}\n",
    "See the ['Clustering Measurements'](./Measurements.ipynb) tutorial for more details.\n",
    "```"
   ]
  },
  {
   "attachments": {},
   "cell_type": "markdown",
   "metadata": {},
   "source": [
    "## Running the C++ program"
   ]
  }
 ],
 "metadata": {
  "kernelspec": {
   "display_name": "cosmo",
   "language": "python",
   "name": "python3"
  },
  "language_info": {
   "codemirror_mode": {
    "name": "ipython",
    "version": 3
   },
   "file_extension": ".py",
   "mimetype": "text/x-python",
   "name": "python",
   "nbconvert_exporter": "python",
   "pygments_lexer": "ipython3",
   "version": "3.8.10"
  },
  "vscode": {
   "interpreter": {
    "hash": "4a7a1cba6a5ad1075172442d744886e76565787fe92f2df44113e5c941b518c1"
   }
  }
 },
 "nbformat": 4,
 "nbformat_minor": 2
}
