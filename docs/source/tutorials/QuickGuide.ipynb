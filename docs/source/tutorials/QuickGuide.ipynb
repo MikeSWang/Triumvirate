{
 "cells": [
  {
   "attachments": {},
   "cell_type": "markdown",
   "metadata": {},
   "source": [
    "# Quick Guide"
   ]
  },
  {
   "attachments": {},
   "cell_type": "markdown",
   "metadata": {},
   "source": [
    "If you have not yet installed {{ Triumvirate }}, please follow the instructions\n",
    "in ['Installation'](../installation.rst)."
   ]
  },
  {
   "attachments": {},
   "cell_type": "markdown",
   "metadata": {},
   "source": [
    "## Using the Python package"
   ]
  },
  {
   "attachments": {},
   "cell_type": "markdown",
   "metadata": {},
   "source": [
    "### Preamble"
   ]
  },
  {
   "attachments": {},
   "cell_type": "markdown",
   "metadata": {},
   "source": [
    "Load needed classes and functions from the relevant package modules:"
   ]
  },
  {
   "cell_type": "code",
   "execution_count": 1,
   "metadata": {},
   "outputs": [],
   "source": [
    "from triumvirate.catalogue import ParticleCatalogue\n",
    "from triumvirate.logger import setup_logger\n",
    "from triumvirate.parameters import ParameterSet\n",
    "from triumvirate.threept import compute_bispec_in_gpp_box"
   ]
  },
  {
   "attachments": {},
   "cell_type": "markdown",
   "metadata": {},
   "source": [
    "### Optional logger"
   ]
  },
  {
   "attachments": {},
   "cell_type": "markdown",
   "metadata": {},
   "source": [
    "A logger is useful for program tracking, and can be set up easily and passed\n",
    "to callables that accept a ``logger`` argument:"
   ]
  },
  {
   "cell_type": "code",
   "execution_count": 2,
   "metadata": {},
   "outputs": [],
   "source": [
    "trv_logger = setup_logger()"
   ]
  },
  {
   "attachments": {},
   "cell_type": "markdown",
   "metadata": {},
   "source": [
    "```{seealso}\n",
    "['Customised Logger'](./Logger.ipynb) for more details."
   ]
  },
  {
   "attachments": {},
   "cell_type": "markdown",
   "metadata": {},
   "source": [
    "### Parameter configuration"
   ]
  },
  {
   "attachments": {},
   "cell_type": "markdown",
   "metadata": {},
   "source": [
    "The simplest way to initialise an instance of the parameter set class\n",
    "{py:class}`~triumvirate.parameters.ParameterSet` is by loading an external\n",
    "``.yml`` file. A template parameter file ``\"params_template.yml\"`` can be\n",
    "downloaded from [here](../_static/params_template.yml), but the relevant\n",
    "parameters need to be changed accordingly for your use.\n",
    "\n",
    "```{seealso}\n",
    "['Parameter Configuration'](./Configuration.ipynb) and\n",
    "['Parameter Set'](./Parameters.ipynb) for more details.\n",
    "```"
   ]
  },
  {
   "cell_type": "code",
   "execution_count": 3,
   "metadata": {
    "tags": [
     "remove-cell"
    ]
   },
   "outputs": [],
   "source": [
    "import yaml\n",
    "\n",
    "from triumvirate.parameters import fetch_paramset_template\n",
    "\n",
    "params_dict = fetch_paramset_template('dict')\n",
    "\n",
    "for ax_name in ['x', 'y', 'z']:\n",
    "    params_dict['boxsize'][ax_name] = 1000.\n",
    "    params_dict['ngrid'][ax_name] = 64\n",
    "\n",
    "params_dict.update({\n",
    "    'assignment'    : 'cic',\n",
    "    'catalogue_type': 'survey',\n",
    "    'statistic_type': 'bispec',\n",
    "    'degrees'       : {'ell1': 0, 'ell2': 0, 'ELL': 0},\n",
    "    'range'         : [0.005, 0.105],\n",
    "    'num_bins'      : 10,\n",
    "})\n",
    "\n",
    "with open(\"params_template.yml\", 'w') as params_file:\n",
    "    yaml.dump(params_dict, params_file, default_flow_style=False)"
   ]
  },
  {
   "attachments": {},
   "cell_type": "markdown",
   "metadata": {},
   "source": [
    "Assuming the parameter file is in the current working directory, read the\n",
    "parameter set from file:"
   ]
  },
  {
   "cell_type": "code",
   "execution_count": 4,
   "metadata": {},
   "outputs": [
    {
     "name": "stdout",
     "output_type": "stream",
     "text": [
      "[2023-02-26 17:29:23 (+00:00:00) INFO] Validating parameters... (entering C++)\n",
      "[2023-02-26 17:29:23 (+00:00:00) INFO] ... validated parameters. (exited C++)\n",
      "[2023-02-26 17:29:23 (+00:00:00) STAT C++] Parameters validated.\n"
     ]
    }
   ],
   "source": [
    "parameter_set = ParameterSet(\"params_template.yml\", logger=trv_logger)"
   ]
  },
  {
   "attachments": {},
   "cell_type": "markdown",
   "metadata": {},
   "source": [
    "The parameters used here are (possibly printed in a different order):"
   ]
  },
  {
   "cell_type": "code",
   "execution_count": 5,
   "metadata": {},
   "outputs": [
    {
     "name": "stdout",
     "output_type": "stream",
     "text": [
      "{'alignment': 'centre',\n",
      " 'assignment': 'cic',\n",
      " 'binning': 'lin',\n",
      " 'boxsize': {'x': 1000.0, 'y': 1000.0, 'z': 1000.0},\n",
      " 'catalogue_type': 'survey',\n",
      " 'degrees': {'ELL': 0, 'ell1': 0, 'ell2': 0},\n",
      " 'directories': {'catalogues': None, 'measurements': None},\n",
      " 'files': {'data_catalogue': None, 'rand_catalogue': None},\n",
      " 'form': 'diag',\n",
      " 'idx_bin': None,\n",
      " 'interlace': 'false',\n",
      " 'ngrid': {'x': 64, 'y': 64, 'z': 64},\n",
      " 'norm_convention': 'particle',\n",
      " 'num_bins': 10,\n",
      " 'padfactor': None,\n",
      " 'padscale': 'box',\n",
      " 'range': [0.005, 0.105],\n",
      " 'statistic_type': 'bispec',\n",
      " 'tags': {'output': None},\n",
      " 'verbose': 20,\n",
      " 'wa_orders': {'i': None, 'j': None},\n",
      " 'npoint': '3pt',\n",
      " 'space': 'fourier'}\n"
     ]
    }
   ],
   "source": [
    "parameter_set.print()"
   ]
  },
  {
   "attachments": {},
   "cell_type": "markdown",
   "metadata": {},
   "source": [
    "### Catalogue data"
   ]
  },
  {
   "attachments": {},
   "cell_type": "markdown",
   "metadata": {},
   "source": [
    "We will measure clustering statistics from a single simulation-like catalogue\n",
    "file ``\"mock_catalogue_sim.dat\"``, which contains three data columns ``'x'``,\n",
    "``'y'`` and ``'z'`` for the Cartesian coordinates of particles."
   ]
  },
  {
   "cell_type": "code",
   "execution_count": 6,
   "metadata": {
    "tags": [
     "remove-cell"
    ]
   },
   "outputs": [],
   "source": [
    "import numpy as np\n",
    "from nbodykit.cosmology import Cosmology\n",
    "\n",
    "# Cosmology, matter power spectrum and bias at given redshift\n",
    "cosmo = Cosmology(\n",
    "    h=0.6736, Omega0_b=0.04930, Omega0_cdm=0.2645, A_s=2.083e-09, n_s=0.9649\n",
    ")\n",
    "redshift = 1.\n",
    "bias = 2.\n",
    "\n",
    "# Catalogue properties\n",
    "density = 5.e-4\n",
    "boxsize = 1000.\n",
    "\n",
    "# Catalogue selectors\n",
    "def cut_to_sphere(coords, boxsize):\n",
    "    return np.less_equal(np.sqrt(np.sum(coords**2, axis=-1)), boxsize/2.)\n",
    "\n",
    "# Create simulation-like catalogue, or load if existing.\n",
    "catalogue_sim_filepath = \"mock_catalogue_sim.dat\"\n",
    "\n",
    "try:\n",
    "    catalogue_sim = np.loadtxt(\n",
    "        catalogue_sim_filepath,\n",
    "        dtype=[(axis, np.float64) for axis in ['x', 'y', 'z']]\n",
    "    )\n",
    "except FileNotFoundError:\n",
    "    from nbodykit.lab import LinearPower, LogNormalCatalog\n",
    "    powspec = LinearPower(cosmo, redshift)\n",
    "    catalogue_sim = LogNormalCatalog(\n",
    "        powspec, density, boxsize, bias=bias, Nmesh=256, seed=42\n",
    "    )\n",
    "    catalogue_sim['Position'] -= boxsize/2.\n",
    "    np.savetxt(catalogue_sim_filepath, catalogue_sim['Position'].compute())"
   ]
  },
  {
   "attachments": {},
   "cell_type": "markdown",
   "metadata": {},
   "source": [
    "Read the catalogue data from file:"
   ]
  },
  {
   "cell_type": "code",
   "execution_count": 7,
   "metadata": {},
   "outputs": [
    {
     "name": "stdout",
     "output_type": "stream",
     "text": [
      "[2023-02-26 17:29:28 (+00:00:05) INFO] Original extents of particle coordinates: {'x': (-499.998, 499.998), 'y': (-500.000, 499.998), 'z': (-499.999, 500.000)} (ParticleCatalogue(source=extfile:mock_catalogue_sim.dat)).\n",
      "[2023-02-26 17:29:28 (+00:00:05) INFO] Catalogue loaded: 499214 particles with total sample weight 499214.000 (ParticleCatalogue(source=extfile:mock_catalogue_sim.dat)).\n",
      "Catalogue 'nz' field is not provided and thus set to zero, which may raise errors in some computations.\n",
      "Catalogue 'ws' field is not provided, so is set to unity.\n",
      "Catalogue 'wc' field is not provided, so is set to unity.\n"
     ]
    }
   ],
   "source": [
    "# DEMO: warning messages are captured and reprinted here for demonstration.\n",
    "\n",
    "import warnings  # DEMO\n",
    "\n",
    "with warnings.catch_warnings(record=True) as demo_warnings:\n",
    "    catalogue = ParticleCatalogue.read_from_file(\n",
    "        \"mock_catalogue_sim.dat\",\n",
    "        names=['x', 'y', 'z'],\n",
    "        logger=trv_logger\n",
    "    )\n",
    "    for demo_warning in demo_warnings:\n",
    "        print(demo_warning.message)"
   ]
  },
  {
   "attachments": {},
   "cell_type": "markdown",
   "metadata": {},
   "source": [
    "```{hint}\n",
    "As seen in the warning messages, catalogues should usually contain more\n",
    "data columns than just the Cartesian coordinates. For a cuboid-box catalogue\n",
    "of unweighted particles like above, the Cartesian coordinates are the only\n",
    "necessary input data.\n",
    "```\n",
    "\n",
    "```{seealso}\n",
    "['Particle Catalogue'](./Catalogue.ipynb) for more details.\n",
    "```"
   ]
  },
  {
   "attachments": {},
   "cell_type": "markdown",
   "metadata": {},
   "source": [
    "### Clustering measurements"
   ]
  },
  {
   "attachments": {},
   "cell_type": "markdown",
   "metadata": {},
   "source": [
    "As an example, we measure the diagonal global plane-parallel bispectrum\n",
    "monopole $(\\ell_1, \\ell_2, L) = (0, 0, 0)$ from the simulation-like cuboid-box\n",
    "catalogue loaded above, and save the result as a ``.txt`` file to the default\n",
    "output file ``\"bk000_diag.txt\"``.\n",
    "\n",
    "Call the function:"
   ]
  },
  {
   "cell_type": "code",
   "execution_count": 8,
   "metadata": {},
   "outputs": [
    {
     "name": "stdout",
     "output_type": "stream",
     "text": [
      "[2023-02-26 17:29:28 (+00:00:06) INFO] Validating parameters... (entering C++)\n",
      "[2023-02-26 17:29:28 (+00:00:06) INFO] ... validated parameters. (exited C++)\n",
      "[2023-02-26 17:29:28 (+00:00:06) STAT C++] Parameters validated.\n",
      "[2023-02-26 17:29:28 (+00:00:06) INFO] Parameter set have been initialised.\n",
      "[2023-02-26 17:29:28 (+00:00:06) INFO] Binning has been initialised.\n",
      "[2023-02-26 17:29:28 (+00:00:06) INFO] Offset extents of particle coordinates: {'x': (0.000, 1000.000), 'y': (0.000, 999.996), 'z': (0.001, 999.997)} (ParticleCatalogue(source=extfile:mock_catalogue_sim.dat)).\n",
      "[2023-02-26 17:29:28 (+00:00:06) INFO] Catalogue box has been periodised.\n",
      "[2023-02-26 17:29:28 (+00:00:06) INFO] Inserted missing 'nz' field based on particle count and boxsize.\n",
      "[2023-02-26 17:29:28 (+00:00:06) INFO] Preparing catalogue for clustering algorithm... (entering C++)\n",
      "[2023-02-26 17:29:30 (+00:00:11) INFO C++] Catalogue loaded: 499214 particles with total sample weight 499214.000 (source=extdata).\n",
      "[2023-02-26 17:29:30 (+00:00:11) INFO C++] Extents of particle coordinates: {'x': (0.000, 1000.000), 'y': (0.000, 999.996), 'z': (0.001, 999.997)} (source=extdata).\n",
      "[2023-02-26 17:29:30 (+00:00:07) INFO] ... prepared catalogue for clustering algorithm. (exited C++)\n",
      "[2023-02-26 17:29:30 (+00:00:07) INFO] Normalisation factors: 8.037847e+00 (used), 2.208591e+00 (alternative).\n",
      "[2023-02-26 17:29:30 (+00:00:07) INFO] Measuring clustering statistics... (entering C++)\n",
      "[2023-02-26 17:29:30 (+00:00:07) STAT C++] Computing bispectrum from a periodic-box simulation-type catalogue in the global plane-parallel approximation...\n",
      "[2023-02-26 17:29:31 (+00:00:08) INFO] ... measured clustering statistics. (exited C++)\n",
      "[2023-02-26 17:29:31 (+00:00:08) STAT C++] Bispectrum term at orders (m1, m2, M) = (0, 0, 0) computed.\n",
      "[2023-02-26 17:29:31 (+00:00:08) STAT C++] ... computed bispectrum from a periodic-box simulation-type catalogue in the global plane-parallel approximation.\n",
      "[2023-02-26 17:29:31 (+00:00:08) INFO] Measurements saved to bk000_diag.txt.\n"
     ]
    }
   ],
   "source": [
    "results = compute_bispec_in_gpp_box(\n",
    "    catalogue, paramset=parameter_set,\n",
    "    save='.txt', logger=trv_logger\n",
    ")"
   ]
  },
  {
   "attachments": {},
   "cell_type": "markdown",
   "metadata": {},
   "source": [
    "The returned `results` is a dictionary containing the coordinate bin centres\n",
    "and effective/mean coordinates, the number of contributing modes per bin and\n",
    "(the real and imaginary parts of) the raw measurements including shot noise and\n",
    "the shot noise component:"
   ]
  },
  {
   "cell_type": "code",
   "execution_count": 9,
   "metadata": {},
   "outputs": [
    {
     "name": "stdout",
     "output_type": "stream",
     "text": [
      "{'bk_raw': array([-9.76634042e+08+4.68322668e-07j,  5.62308286e+09-2.53143573e-07j,\n",
      "        8.69371377e+08+1.18607196e-07j,  1.28499842e+09+2.84801617e-09j,\n",
      "        6.68698395e+08-4.43226461e-09j,  6.05966155e+08+2.08434145e-08j,\n",
      "        3.85704485e+08+4.52752806e-09j,  2.88772358e+08-1.42805895e-08j,\n",
      "        2.32705251e+08+7.61606800e-09j,  2.00351320e+08+3.59316825e-09j]),\n",
      " 'bk_shot': array([1.89812841e+08+2.44859752e-09j, 2.06798892e+08+1.28213346e-09j,\n",
      "       1.50707290e+08+2.30332332e-10j, 1.24950405e+08-4.50834605e-10j,\n",
      "       1.06980049e+08-6.02151777e-11j, 9.44867868e+07+1.73202636e-11j,\n",
      "       8.04644721e+07+6.36183351e-11j, 6.84708228e+07-1.66556058e-10j,\n",
      "       5.94748920e+07-1.12694819e-10j, 5.12239555e+07+1.19207665e-10j]),\n",
      " 'k1bin': array([0.01, 0.02, 0.03, 0.04, 0.05, 0.06, 0.07, 0.08, 0.09, 0.1 ]),\n",
      " 'k1eff': array([0.01149964, 0.02047114, 0.03052422, 0.04062536, 0.05033379,\n",
      "       0.06040971, 0.07034279, 0.08025683, 0.09014322, 0.10008191]),\n",
      " 'k2bin': array([0.01, 0.02, 0.03, 0.04, 0.05, 0.06, 0.07, 0.08, 0.09, 0.1 ]),\n",
      " 'k2eff': array([0.01149964, 0.02047114, 0.03052422, 0.04062536, 0.05033379,\n",
      "       0.06040971, 0.07034279, 0.08025683, 0.09014322, 0.10008191]),\n",
      " 'nmodes': array([  56,  194,  488,  812, 1250, 1896, 2426, 3272, 4016, 5138])}\n"
     ]
    }
   ],
   "source": [
    "# DEMO\n",
    "from pprint import pprint\n",
    "pprint(results)"
   ]
  },
  {
   "attachments": {},
   "cell_type": "markdown",
   "metadata": {},
   "source": [
    "The saved file contains a header with summary information about the parameters\n",
    "used and the input data as well as intermediary quantities:"
   ]
  },
  {
   "cell_type": "code",
   "execution_count": 10,
   "metadata": {},
   "outputs": [
    {
     "name": "stdout",
     "output_type": "stream",
     "text": [
      "# Catalogue source: extfile:mock_catalogue_sim.dat\n",
      "# Catalogue size: 499214 particles of total sample weight 499214.000\n",
      "# Catalogue particle extents: ([0.000, 1000.000], [0.000, 999.996], [0.001, 999.997])\n",
      "# Box size: (1000.000, 1000.000, 1000.000)\n",
      "# Box alignment: centre\n",
      "# Mesh number: (64, 64, 64)\n",
      "# Mesh assignment and interlacing: cic, false\n",
      "# Normalisation factor: 8.037846928e+00 (particle-based, used), 2.208590694e+00 (mesh-based, alternative)\n",
      "# [0] k1_cen, [1] k1_eff, [2] k2_cen, [3] k2_eff, [4] nmodes, [5] Re{bk000_raw}, [6] Im{bk000_raw}, [7] Re{bk000_shot}, [8] Im{bk000_shot}\n",
      "1.000000000e-02\t1.149964290e-02\t1.000000000e-02\t1.149964290e-02\t        56\t-9.766340417e+08\t 4.683226684e-07\t 1.898128415e+08\t 2.448597519e-09\n",
      "2.000000000e-02\t2.047114034e-02\t2.000000000e-02\t2.047114034e-02\t       194\t 5.623082855e+09\t-2.531435728e-07\t 2.067988919e+08\t 1.282133458e-09\n",
      "3.000000000e-02\t3.052421724e-02\t3.000000000e-02\t3.052421724e-02\t       488\t 8.693713775e+08\t 1.186071959e-07\t 1.507072903e+08\t 2.303323318e-10\n",
      "4.000000000e-02\t4.062536317e-02\t4.000000000e-02\t4.062536317e-02\t       812\t 1.284998423e+09\t 2.848016170e-09\t 1.249504047e+08\t-4.508346049e-10\n",
      "5.000000000e-02\t5.033378732e-02\t5.000000000e-02\t5.033378732e-02\t      1250\t 6.686983950e+08\t-4.432264610e-09\t 1.069800491e+08\t-6.021517767e-11\n",
      "6.000000000e-02\t6.040971138e-02\t6.000000000e-02\t6.040971138e-02\t      1896\t 6.059661551e+08\t 2.084341447e-08\t 9.448678682e+07\t 1.732026361e-11\n",
      "7.000000000e-02\t7.034278912e-02\t7.000000000e-02\t7.034278912e-02\t      2426\t 3.857044854e+08\t 4.527528061e-09\t 8.046447209e+07\t 6.361833506e-11\n",
      "8.000000000e-02\t8.025683499e-02\t8.000000000e-02\t8.025683499e-02\t      3272\t 2.887723577e+08\t-1.428058947e-08\t 6.847082285e+07\t-1.665560579e-10\n",
      "9.000000000e-02\t9.014322302e-02\t9.000000000e-02\t9.014322302e-02\t      4016\t 2.327052513e+08\t 7.616068002e-09\t 5.947489200e+07\t-1.126948186e-10\n",
      "1.000000000e-01\t1.000819060e-01\t1.000000000e-01\t1.000819060e-01\t      5138\t 2.003513200e+08\t 3.593168251e-09\t 5.122395546e+07\t 1.192076653e-10\n",
      "\n"
     ]
    }
   ],
   "source": [
    "# DEMO\n",
    "with open(\"bk000_diag.txt\", 'r') as results_file:\n",
    "    print(results_file.read())"
   ]
  },
  {
   "attachments": {},
   "cell_type": "markdown",
   "metadata": {},
   "source": [
    "```{seealso}\n",
    "['Clustering Measurements'](./Measurements.ipynb) for more details.\n",
    "```"
   ]
  },
  {
   "cell_type": "code",
   "execution_count": 11,
   "metadata": {
    "tags": [
     "remove-cell"
    ]
   },
   "outputs": [],
   "source": [
    "# Hide cell\n",
    "!rm params_template.yml bk000_diag.txt"
   ]
  },
  {
   "attachments": {},
   "cell_type": "markdown",
   "metadata": {},
   "source": [
    "## Running the C++ program"
   ]
  },
  {
   "attachments": {},
   "cell_type": "markdown",
   "metadata": {},
   "source": [
    "For most users, the C++ code serves as the backend for the Python package\n",
    "and the only public routine is the compiled binary executable program\n",
    "``triumvirate`` which should be run with an external parameter file."
   ]
  },
  {
   "attachments": {},
   "cell_type": "markdown",
   "metadata": {},
   "source": [
    "### Parameter configuration"
   ]
  },
  {
   "attachments": {},
   "cell_type": "markdown",
   "metadata": {},
   "source": [
    "A template parameter file ``\"params_template.ini\"`` can be\n",
    "downloaded from [here](../_static/params_template.ini), but the relevant\n",
    "parameters need to be changed accordingly for your use.\n",
    "\n",
    "```{seealso}\n",
    "['Parameter Configuration'](./Configuration.ipynb) for more details.\n",
    "```"
   ]
  },
  {
   "cell_type": "code",
   "execution_count": 12,
   "metadata": {
    "tags": [
     "remove-cell"
    ]
   },
   "outputs": [],
   "source": [
    "import textwrap\n",
    "\n",
    "params_template = textwrap.dedent(\n",
    "    \"\"\"\\\n",
    "    # -- I/O -----------------------------------------------------------------\n",
    "\n",
    "    # Directories for input/output.\n",
    "    # The paths can be either absolute or relative to the working directory.\n",
    "    # If unset, the current working directory is assumed.\n",
    "    catalogue_dir =\n",
    "    measurement_dir =\n",
    "\n",
    "    # Filenames (with extensions) of input/output sources. [mandatory]\n",
    "    data_catalogue_file = mock_catalogue_sim.dat\n",
    "    rand_catalogue_file =\n",
    "\n",
    "    # Column names (comma-separated without space) in catalogue data.\n",
    "    # [mandatory]\n",
    "    catalogue_columns = x,y,z\n",
    "\n",
    "    # Tags to be substituted into input/output paths.\n",
    "    output_tag =\n",
    "\n",
    "\n",
    "    # -- Mesh sampling -------------------------------------------------------\n",
    "\n",
    "    # Box size in each dimension (in Mpc/h). [mandatory]\n",
    "    boxsize_x = 1000.\n",
    "    boxsize_y = 1000.\n",
    "    boxsize_z = 1000.\n",
    "\n",
    "    # Grid cell number in each dimension. [mandatory]\n",
    "    ngrid_x = 64\n",
    "    ngrid_y = 64\n",
    "    ngrid_z = 64\n",
    "\n",
    "    # Box alignment: {'centre' (default), 'pad'}.\n",
    "    alignment = centre\n",
    "\n",
    "    # Padding scale: {'box' (default), 'grid'}.\n",
    "    padscale = box\n",
    "\n",
    "    # Padding factor (as a multiple of the size of padding scale).\n",
    "    padfactor =\n",
    "\n",
    "    # Mesh assignment scheme: {'ngp', 'cic', 'tsc' (default), 'pcs'}.\n",
    "    assignment = tsc\n",
    "\n",
    "    # Interlacing switch: {'true'/'on', 'false'/'off' (default)}.\n",
    "    # The switch is overriden to 'false' when measuring three-point statistics.\n",
    "    interlace = false\n",
    "\n",
    "\n",
    "    # -- Measurements --------------------------------------------------------\n",
    "\n",
    "    # Type of catalogue(s): {'survey', 'random', 'sim'}. [mandatory]\n",
    "    catalogue_type = sim\n",
    "\n",
    "    # Type of measurement:\n",
    "    # {'powspec', '2pcf', '2pcf-win', 'bispec', '3pcf', '3pcf-win', '3pcf-win-wa'}.\n",
    "    # [mandatory]\n",
    "    statistic_type = bispec\n",
    "\n",
    "    # Degrees of the multipoles. [optional, optional, mandatory]\n",
    "    ell1 = 0\n",
    "    ell2 = 0\n",
    "    ELL = 0\n",
    "\n",
    "    # Orders of wide-angle corrections.\n",
    "    i_wa =\n",
    "    j_wa =\n",
    "\n",
    "    # Form of three-point statistic measurements: {'full', 'diag' (default)}.\n",
    "    form = diag\n",
    "\n",
    "    # Normalisation convention: {'particle' (default), 'mesh'}.\n",
    "    norm_convention = particle\n",
    "\n",
    "    # Binning scheme: {'lin' (default), 'log', 'linpad', 'logpad', 'custom'}.\n",
    "    binning = lin\n",
    "\n",
    "    # Minimum and maximum of the range of measurement scales.\n",
    "    # The binning coordinate is either wavenumbers (in h/Mpc) in Fourier space,\n",
    "    # or separations (in Mpc/h) in configuration space. [mandatory]\n",
    "    bin_min = 0.005\n",
    "    bin_max = 0.105\n",
    "\n",
    "    # Number of measurement bins (i.e. data vector dimension).\n",
    "    # Must be >=2, or >=7 if padding is used. [mandatory]\n",
    "    num_bins = 10\n",
    "\n",
    "    # Fixed bin index in the full (2-d) three-point statistics measurements.\n",
    "    idx_bin = 0\n",
    "\n",
    "\n",
    "    # -- Misc ----------------------------------------------------------------\n",
    "\n",
    "    # Logging verbosity level: a non-negative integer.\n",
    "    # Typical values are: {\n",
    "    #   0 (NSET, unset), 10 (DBUG, debug), 20 (STAT, status) (default),\n",
    "    #   30 (INFO, info), 40 (WARN, warning), 50 (ERRO, error)\n",
    "    # }.\n",
    "    verbose = 20\n",
    "    \"\"\"\n",
    ")\n",
    "\n",
    "with open(\"params_template.ini\", 'w') as params_template_file:\n",
    "    params_template_file.write(params_template)"
   ]
  },
  {
   "attachments": {},
   "cell_type": "markdown",
   "metadata": {},
   "source": [
    "For the example below, we have modified the following lines in the template\n",
    "parameter file:\n",
    "\n",
    "```{code-block} ini\n",
    ":caption: params_template.ini\n",
    "\n",
    "data_catalogue_file = mock_catalogue_sim.dat\n",
    "\n",
    "catalogue_columns = x,y,z\n",
    "\n",
    "boxsize_x = 1000.\n",
    "boxsize_y = 1000.\n",
    "boxsize_z = 1000.\n",
    "\n",
    "ngrid_x = 64\n",
    "ngrid_y = 64\n",
    "ngrid_z = 64\n",
    "\n",
    "catalogue_type = sim\n",
    "\n",
    "statistic_type = bispec\n",
    "\n",
    "ell1 = 0\n",
    "ell2 = 0\n",
    "ELL = 0\n",
    "\n",
    "bin_min = 0.005\n",
    "bin_max = 0.105\n",
    "\n",
    "num_bins = 10\n",
    "```"
   ]
  },
  {
   "attachments": {},
   "cell_type": "markdown",
   "metadata": {},
   "source": [
    "### Executing the program"
   ]
  },
  {
   "attachments": {},
   "cell_type": "markdown",
   "metadata": {},
   "source": [
    "To run the 'black-box' C++ program, execute\n",
    "```{code-block} console\n",
    "$ <path-to-executable> <path-to-parameter-file>\n",
    "```\n",
    "in the terminal.\n",
    "\n",
    "Assuming the compiled binary executable is in the default build directory and\n",
    "the parameter file is in the current working directory which is the repository\n",
    "directory root, we execute the following to make the same measurement\n",
    "as before:\n",
    "```{code-block} console\n",
    "$ build/triumvirate params_template.ini\n",
    "```"
   ]
  },
  {
   "cell_type": "code",
   "execution_count": 13,
   "metadata": {
    "tags": [
     "remove-input"
    ]
   },
   "outputs": [
    {
     "name": "stdout",
     "output_type": "stream",
     "text": [
      ">>>>>>>>>>>>>>>>>>>>>>>>>>>>>>>>>>>>>>>>>>>>>>>>>>>>>>>>>>>>>>>>>>>>>>>>>>>>>>>>\n",
      "[2023-02-26 17:29:32 (+00:00:00) STAT] [A] Parameters and source data are being initialised.\n",
      "[2023-02-26 17:29:32 (+00:00:00) STAT] [A.1] Reading parameters...\n",
      "[2023-02-26 17:29:32 (+00:00:00) STAT] Parameters validated.\n",
      "[2023-02-26 17:29:32 (+00:00:00) INFO] Check used-parameter file for reference: .//parameters_used.\n",
      "[2023-02-26 17:29:32 (+00:00:00) STAT] [A.1] ... read parameters.\n",
      "[2023-02-26 17:29:32 (+00:00:00) STAT] [A.2] Reading catalogues...\n",
      "[2023-02-26 17:29:32 (+00:00:00) WARN] Catalogue 'nz' field is unavailable and will be set to the mean density in the bounding box (source=extfile:mock_catalogue_sim.dat).\n",
      "[2023-02-26 17:29:34 (+00:00:02) INFO] Catalogue loaded: 499214 particles with total sample weight 499214.000 (source=extfile:mock_catalogue_sim.dat).\n",
      "[2023-02-26 17:29:34 (+00:00:02) INFO] Extents of particle coordinates: {'x': (-499.998, 499.998), 'y': (-500.000, 499.998), 'z': (-499.999, 500.000)} (source=extfile:mock_catalogue_sim.dat).\n",
      "[2023-02-26 17:29:34 (+00:00:02) STAT] [A.2] ... read catalogues.\n",
      "[2023-02-26 17:29:34 (+00:00:02) STAT] [B] Clustering statistics are being measured.\n",
      "[2023-02-26 17:29:34 (+00:00:02) STAT] [B.1] Setting up binning...\n",
      "[2023-02-26 17:29:34 (+00:00:02) STAT] [B.1] ... set up binning.\n",
      "[2023-02-26 17:29:34 (+00:00:02) STAT] [B.2] Computing lines of sight...\n",
      "[2023-02-26 17:29:34 (+00:00:02) STAT] [B.2] ... computed lines of sight.\n",
      "[2023-02-26 17:29:34 (+00:00:02) STAT] [B.3] Aligning catalogues inside measurement box...\n",
      "[2023-02-26 17:29:34 (+00:00:02) INFO] Extents of particle coordinates: {'x': (0.000, 1000.000), 'y': (0.000, 999.996), 'z': (0.001, 999.997)} (source=extfile:mock_catalogue_sim.dat).\n",
      "[2023-02-26 17:29:34 (+00:00:02) STAT] [B.3] ... aligned catalogues inside measurement box.\n",
      "[2023-02-26 17:29:34 (+00:00:02) INFO] Alpha contrast: 1.000000e+00.\n",
      "[2023-02-26 17:29:34 (+00:00:02) INFO] Normalisation factors: 8.037847e+00 (used), 3.089711e+00 (alternative).\n",
      "[2023-02-26 17:29:34 (+00:00:02) STAT] Computing bispectrum from a periodic-box simulation-type catalogue in the global plane-parallel approximation...\n",
      "[2023-02-26 17:29:36 (+00:00:03) STAT] Bispectrum term at orders (m1, m2, M) = (0, 0, 0) computed.\n",
      "[2023-02-26 17:29:36 (+00:00:03) STAT] ... computed bispectrum from a periodic-box simulation-type catalogue in the global plane-parallel approximation.\n",
      "[2023-02-26 17:29:36 (+00:00:03) INFO] Measurements saved to .//bk000_diag.\n",
      "[2023-02-26 17:29:36 (+00:00:03) INFO] Minimal estimate of peak memory usage: 0.1 gigabytes.\n",
      "<<<<<<<<<<<<<<<<<<<<<<<<<<<<<<<<<<<<<<<<<<<<<<<<<<<<<<<<<<<<<<<<<<<<<<<<<<<<<<<<\n"
     ]
    }
   ],
   "source": [
    "%%bash\n",
    "\n",
    "mkdir -p ./build/\n",
    "cp ../../../build/triumvirate ./build/triumvirate\n",
    "build/triumvirate params_template.ini"
   ]
  },
  {
   "attachments": {},
   "cell_type": "markdown",
   "metadata": {},
   "source": [
    "As before, the saved file contains a header with summary information about the\n",
    "parameters used and the input data as well as intermediary quantities:"
   ]
  },
  {
   "cell_type": "code",
   "execution_count": 14,
   "metadata": {},
   "outputs": [
    {
     "name": "stdout",
     "output_type": "stream",
     "text": [
      "# Catalogue source: extfile:mock_catalogue_sim.dat\n",
      "# Catalogue size: 499214 particles of total sample weight 499214.000\n",
      "# Catalogue particle extents: ([0.000, 1000.000], [0.000, 999.996], [0.001, 999.997])\n",
      "# Box size: (1000.000, 1000.000, 1000.000)\n",
      "# Box alignment: centre\n",
      "# Mesh number: (64, 64, 64)\n",
      "# Mesh assignment and interlacing: tsc, false\n",
      "# Normalisation factor: 8.037846928e+00 (particle-based, used), 3.089710869e+00 (mesh-based, alternative)\n",
      "# [0] k1_cen, [1] k1_eff, [2] k2_cen, [3] k2_eff, [4] nmodes, [5] Re{bk000_raw}, [6] Im{bk000_raw}, [7] Re{bk000_shot}, [8] Im{bk000_shot}\n",
      "1.000000000e-02\t1.149964290e-02\t1.000000000e-02\t1.149964290e-02\t        56\t-9.702292027e+08\t 0.000000000e+00\t 1.898133615e+08\t-2.226144357e-26\n",
      "2.000000000e-02\t2.047114034e-02\t2.000000000e-02\t2.047114034e-02\t       194\t 5.617152234e+09\t 0.000000000e+00\t 2.067769130e+08\t-7.496980996e-26\n",
      "3.000000000e-02\t3.052421724e-02\t3.000000000e-02\t3.052421724e-02\t       488\t 8.716164555e+08\t 0.000000000e+00\t 1.506636764e+08\t-3.065510262e-26\n",
      "4.000000000e-02\t4.062536317e-02\t4.000000000e-02\t4.062536317e-02\t       812\t 1.287789206e+09\t 0.000000000e+00\t 1.249698447e+08\t-3.054551524e-26\n",
      "5.000000000e-02\t5.033378732e-02\t5.000000000e-02\t5.033378732e-02\t      1250\t 6.692105056e+08\t 0.000000000e+00\t 1.070435506e+08\t-9.819374348e-26\n",
      "6.000000000e-02\t6.040971138e-02\t6.000000000e-02\t6.040971138e-02\t      1896\t 6.044495786e+08\t 0.000000000e+00\t 9.460508766e+07\t-6.521002239e-26\n",
      "7.000000000e-02\t7.034278912e-02\t7.000000000e-02\t7.034278912e-02\t      2426\t 3.870081046e+08\t 0.000000000e+00\t 8.065164469e+07\t-8.350335386e-27\n",
      "8.000000000e-02\t8.025683499e-02\t8.000000000e-02\t8.025683499e-02\t      3272\t 2.877129959e+08\t 0.000000000e+00\t 6.868552975e+07\t 2.266966075e-26\n",
      "9.000000000e-02\t9.014322302e-02\t9.000000000e-02\t9.014322302e-02\t      4016\t 2.302318466e+08\t 0.000000000e+00\t 5.979982971e+07\t 3.994698533e-26\n",
      "1.000000000e-01\t1.000819060e-01\t1.000000000e-01\t1.000819060e-01\t      5138\t 1.979397038e+08\t 0.000000000e+00\t 5.157943855e+07\t-2.521851543e-26\n",
      "\n"
     ]
    }
   ],
   "source": [
    "# DEMO\n",
    "with open(\"bk000_diag\", 'r') as results_file:\n",
    "    print(results_file.read())"
   ]
  },
  {
   "attachments": {},
   "cell_type": "markdown",
   "metadata": {},
   "source": [
    "In addition, the interpreted/processed parameters used by the program are\n",
    "saved to the ``\"parameters_used*\"`` file in the specified measurement\n",
    "directory (the current working directory here), where the wildcard asterisk\n",
    "is the output tag (empty here) specified in the input parameter file."
   ]
  },
  {
   "cell_type": "code",
   "execution_count": 15,
   "metadata": {},
   "outputs": [
    {
     "name": "stdout",
     "output_type": "stream",
     "text": [
      "catalogue_dir = \n",
      "measurement_dir = ./\n",
      "data_catalogue_file = mock_catalogue_sim.dat\n",
      "rand_catalogue_file = \n",
      "catalogue_columns = x,y,z\n",
      "output_tag = \n",
      "boxsize_x = 1000.00\n",
      "boxsize_y = 1000.00\n",
      "boxsize_z = 1000.00\n",
      "ngrid_x = 64\n",
      "ngrid_y = 64\n",
      "ngrid_z = 64\n",
      "volume = 1.000000e+09\n",
      "nmesh = 262144\n",
      "alignment = centre\n",
      "padscale = box\n",
      "padfactor = 0.0000\n",
      "assignment = tsc\n",
      "interlace = false\n",
      "catalogue_type = sim\n",
      "statistic_type = bispec\n",
      "npoint = 3pt\n",
      "space = fourier\n",
      "ell1 = 0\n",
      "ell2 = 0\n",
      "ELL = 0\n",
      "i_wa = 0\n",
      "j_wa = 0\n",
      "form = diag\n",
      "norm_convention = particle\n",
      "binning = lin\n",
      "bin_min = 0.0050\n",
      "bin_max = 0.1050\n",
      "num_bins = 10\n",
      "idx_bin = 0\n",
      "verbose = 20\n",
      "\n"
     ]
    }
   ],
   "source": [
    "# DEMO\n",
    "with open(\"parameters_used\", 'r') as used_params_file:\n",
    "    print(used_params_file.read())"
   ]
  },
  {
   "cell_type": "code",
   "execution_count": 16,
   "metadata": {
    "tags": [
     "remove-cell"
    ]
   },
   "outputs": [],
   "source": [
    "# Hide cell.\n",
    "!rm -r ./build/ ./params_template.ini ./parameters_used ./bk000_diag"
   ]
  }
 ],
 "metadata": {
  "kernelspec": {
   "display_name": "cosmo",
   "language": "python",
   "name": "python3"
  },
  "language_info": {
   "codemirror_mode": {
    "name": "ipython",
    "version": 3
   },
   "file_extension": ".py",
   "mimetype": "text/x-python",
   "name": "python",
   "nbconvert_exporter": "python",
   "pygments_lexer": "ipython3",
   "version": "3.8.10"
  },
  "vscode": {
   "interpreter": {
    "hash": "4a7a1cba6a5ad1075172442d744886e76565787fe92f2df44113e5c941b518c1"
   }
  }
 },
 "nbformat": 4,
 "nbformat_minor": 2
}
