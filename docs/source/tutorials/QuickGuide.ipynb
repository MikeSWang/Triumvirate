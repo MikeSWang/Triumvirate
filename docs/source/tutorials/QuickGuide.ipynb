{
 "cells": [
  {
   "attachments": {},
   "cell_type": "markdown",
   "metadata": {},
   "source": [
    "# Quick Guide"
   ]
  },
  {
   "attachments": {},
   "cell_type": "markdown",
   "metadata": {},
   "source": [
    "If you have not yet installed {{ Triumvirate }}, please follow the instructions\n",
    "in ['Installation'](../installation.rst)."
   ]
  },
  {
   "attachments": {},
   "cell_type": "markdown",
   "metadata": {},
   "source": [
    "## Using the Python package"
   ]
  },
  {
   "attachments": {},
   "cell_type": "markdown",
   "metadata": {},
   "source": [
    "### Preamble"
   ]
  },
  {
   "attachments": {},
   "cell_type": "markdown",
   "metadata": {},
   "source": [
    "Load needed classes and functions from the relevant package modules:"
   ]
  },
  {
   "cell_type": "code",
   "execution_count": 1,
   "metadata": {},
   "outputs": [],
   "source": [
    "from triumvirate.catalogue import ParticleCatalogue\n",
    "from triumvirate.logger import setup_logger\n",
    "from triumvirate.parameters import ParameterSet\n",
    "from triumvirate.threept import compute_bispec_in_gpp_box"
   ]
  },
  {
   "attachments": {},
   "cell_type": "markdown",
   "metadata": {},
   "source": [
    "### Optional logger"
   ]
  },
  {
   "attachments": {},
   "cell_type": "markdown",
   "metadata": {},
   "source": [
    "A logger is useful for program tracking, and can be set up easily and passed\n",
    "to callables that accept a ``logger`` argument:"
   ]
  },
  {
   "cell_type": "code",
   "execution_count": 2,
   "metadata": {},
   "outputs": [],
   "source": [
    "# Set up the customised Triumvirate program logger.\n",
    "trv_logger = setup_logger()"
   ]
  },
  {
   "attachments": {},
   "cell_type": "markdown",
   "metadata": {},
   "source": [
    "```{seealso}\n",
    "[Customised Logger](./Logger.ipynb) for more details."
   ]
  },
  {
   "attachments": {},
   "cell_type": "markdown",
   "metadata": {},
   "source": [
    "### Parameter configuration"
   ]
  },
  {
   "attachments": {},
   "cell_type": "markdown",
   "metadata": {},
   "source": [
    "The simplest way to initialise an instance of the parameter set class\n",
    "{py:class}`~triumvirate.parameters.ParameterSet` is by loading an external\n",
    "``.yml`` file. A template parameter file\n",
    "[``\"params_template.yml\"``](../_static/params_template.yml) can be\n",
    "downloaded, but the relevant parameters need to be changed accordingly\n",
    "for your use.\n",
    "\n",
    "```{seealso}\n",
    "[Parameter Configuration](./Configuration.ipynb) and\n",
    "[Parameter Set](./Parameters.ipynb) for more details.\n",
    "```"
   ]
  },
  {
   "cell_type": "code",
   "execution_count": 3,
   "metadata": {
    "tags": [
     "remove-cell"
    ]
   },
   "outputs": [],
   "source": [
    "import yaml\n",
    "\n",
    "from triumvirate.parameters import fetch_paramset_template\n",
    "\n",
    "params_dict = fetch_paramset_template('dict')\n",
    "\n",
    "for ax_name in ['x', 'y', 'z']:\n",
    "    params_dict['boxsize'][ax_name] = 1000.\n",
    "    params_dict['ngrid'][ax_name] = 64\n",
    "\n",
    "params_dict.update({\n",
    "    'assignment'    : 'cic',\n",
    "    'catalogue_type': 'survey',\n",
    "    'statistic_type': 'bispec',\n",
    "    'degrees'       : {'ell1': 0, 'ell2': 0, 'ELL': 0},\n",
    "    'range'         : [0.005, 0.105],\n",
    "    'num_bins'      : 10,\n",
    "})\n",
    "\n",
    "with open(\"params_template.yml\", 'w') as params_file:\n",
    "    yaml.dump(params_dict, params_file, default_flow_style=False)"
   ]
  },
  {
   "attachments": {},
   "cell_type": "markdown",
   "metadata": {},
   "source": [
    "Assuming the parameter file is in the current working directory, read the\n",
    "parameter set from file:"
   ]
  },
  {
   "cell_type": "code",
   "execution_count": 4,
   "metadata": {},
   "outputs": [
    {
     "name": "stdout",
     "output_type": "stream",
     "text": [
      "[2024-08-19 23:53:17 (+00:00:00) INFO] Validating parameters... (entering C++)\n",
      "[2024-08-19 23:53:17 (+00:00:00) INFO] ... validated parameters. (exited C++)\n",
      "[2024-08-19 23:53:17 (+00:00:00) STAT C++] Parameters validated.\n"
     ]
    }
   ],
   "source": [
    "parameter_set = ParameterSet(\"params_template.yml\", logger=trv_logger)"
   ]
  },
  {
   "attachments": {},
   "cell_type": "markdown",
   "metadata": {},
   "source": [
    "The parameters used here are (possibly printed in a different order):"
   ]
  },
  {
   "cell_type": "code",
   "execution_count": 5,
   "metadata": {},
   "outputs": [
    {
     "name": "stdout",
     "output_type": "stream",
     "text": [
      "{'alignment': 'centre',\n",
      " 'assignment': 'cic',\n",
      " 'binning': 'lin',\n",
      " 'boxsize': {'x': 1000.0, 'y': 1000.0, 'z': 1000.0},\n",
      " 'catalogue_columns': [],\n",
      " 'catalogue_type': 'survey',\n",
      " 'cutoff_nyq': None,\n",
      " 'degrees': {'ELL': 0, 'ell1': 0, 'ell2': 0},\n",
      " 'directories': {'catalogues': '', 'measurements': ''},\n",
      " 'expand': 1.0,\n",
      " 'fftw_scheme': 'measure',\n",
      " 'files': {'data_catalogue': '', 'rand_catalogue': ''},\n",
      " 'form': 'diag',\n",
      " 'idx_bin': None,\n",
      " 'interlace': False,\n",
      " 'ngrid': {'x': 64, 'y': 64, 'z': 64},\n",
      " 'norm_convention': 'particle',\n",
      " 'num_bins': 10,\n",
      " 'padfactor': None,\n",
      " 'padscale': 'box',\n",
      " 'progbar': False,\n",
      " 'range': [0.005, 0.105],\n",
      " 'save_binned_vectors': False,\n",
      " 'statistic_type': 'bispec',\n",
      " 'tags': {'output': ''},\n",
      " 'use_fftw_wisdom': False,\n",
      " 'verbose': 20,\n",
      " 'wa_orders': {'i': None, 'j': None},\n",
      " 'volume': np.float64(1000000000.0),\n",
      " 'nmesh': np.int64(262144),\n",
      " 'assignment_order': 2,\n",
      " 'npoint': '3pt',\n",
      " 'space': 'fourier',\n",
      " 'fftw_planner_flag': 0,\n",
      " 'fftw_wisdom_file_f': '',\n",
      " 'fftw_wisdom_file_b': ''}\n"
     ]
    }
   ],
   "source": [
    "parameter_set.print()"
   ]
  },
  {
   "attachments": {},
   "cell_type": "markdown",
   "metadata": {},
   "source": [
    "### Catalogue data"
   ]
  },
  {
   "attachments": {},
   "cell_type": "markdown",
   "metadata": {},
   "source": [
    "We will measure clustering statistics from a single simulation-like catalogue\n",
    "file ``\"mock_catalogue_sim.dat\"``, which contains three data columns ``'x'``,\n",
    "``'y'`` and ``'z'`` for the Cartesian coordinates of particles."
   ]
  },
  {
   "cell_type": "code",
   "execution_count": 6,
   "metadata": {
    "tags": [
     "remove-cell"
    ]
   },
   "outputs": [],
   "source": [
    "import numpy as np\n",
    "\n",
    "# Create simulation-like catalogue, or load if existing.\n",
    "catalogue_sim_filepath = \"mock_catalogue_sim.dat\"\n",
    "try:\n",
    "    catalogue_sim = np.loadtxt(\n",
    "        catalogue_sim_filepath,\n",
    "        dtype=[(axis, np.float64) for axis in ['x', 'y', 'z']]\n",
    "    )\n",
    "except FileNotFoundError:\n",
    "    from nbodykit.cosmology import Cosmology, LinearPower\n",
    "    from nbodykit.lab import LogNormalCatalog\n",
    "\n",
    "    # Cosmology, matter power spectrum and bias at given redshift\n",
    "    cosmo = Cosmology(\n",
    "        h=0.6736, Omega0_b=0.04930, Omega0_cdm=0.2645,\n",
    "        A_s=2.083e-09, n_s=0.9649\n",
    "    )\n",
    "    redshift = 1.\n",
    "    bias = 2.\n",
    "\n",
    "    # Catalogue properties\n",
    "    density = 5.e-4\n",
    "    boxsize = 1000.\n",
    "\n",
    "    # Catalogue selectors\n",
    "    def cut_to_sphere(coords, boxsize):\n",
    "        return np.less_equal(np.sqrt(np.sum(coords**2, axis=-1)), boxsize/2.)\n",
    "\n",
    "    powspec = LinearPower(cosmo, redshift)\n",
    "    catalogue_sim = LogNormalCatalog(\n",
    "        powspec, density, boxsize, bias=bias, Nmesh=256, seed=42\n",
    "    )\n",
    "\n",
    "    catalogue_sim['Position'] -= boxsize/2.\n",
    "\n",
    "    np.savetxt(catalogue_sim_filepath, catalogue_sim['Position'].compute())"
   ]
  },
  {
   "attachments": {},
   "cell_type": "markdown",
   "metadata": {},
   "source": [
    "Read the catalogue data from file:"
   ]
  },
  {
   "cell_type": "code",
   "execution_count": 7,
   "metadata": {},
   "outputs": [
    {
     "name": "stdout",
     "output_type": "stream",
     "text": [
      "[2024-08-19 23:53:17 (+00:00:00) INFO] Original extents of particle coordinates: {'x': (-499.998, 499.998 | 999.996), 'y': (-500.000, 499.998 | 999.998), 'z': (-499.999, 500.000 | 999.999)} (ParticleCatalogue(source=extfile:mock_catalogue_sim.dat)).\n",
      "[2024-08-19 23:53:17 (+00:00:00) INFO] Catalogue loaded: ntotal = 499214, wtotal = 499214.000, wstotal = 499214.000 (ParticleCatalogue(source=extfile:mock_catalogue_sim.dat)).\n",
      "Catalogue 'nz' field is not provided and thus set to zero, which may raise errors in some computations.\n",
      "Catalogue 'ws' field is not provided, so is set to unity.\n",
      "Catalogue 'wc' field is not provided, so is set to unity.\n"
     ]
    }
   ],
   "source": [
    "# DEMO: warning messages are captured and reprinted here for demonstration.\n",
    "\n",
    "import warnings  # DEMO\n",
    "\n",
    "with warnings.catch_warnings(record=True) as demo_warnings:\n",
    "    catalogue = ParticleCatalogue.read_from_file(\n",
    "        \"mock_catalogue_sim.dat\",\n",
    "        names=['x', 'y', 'z'],\n",
    "        logger=trv_logger\n",
    "    )\n",
    "    for demo_warning in demo_warnings:\n",
    "        print(demo_warning.message)"
   ]
  },
  {
   "attachments": {},
   "cell_type": "markdown",
   "metadata": {},
   "source": [
    "```{hint}\n",
    "As seen in the warning messages, catalogues should usually contain more\n",
    "data columns than just the Cartesian coordinates. For a cuboid-box catalogue\n",
    "of unweighted particles like the above, the Cartesian coordinates are the only\n",
    "necessary input data.\n",
    "```\n",
    "\n",
    "```{seealso}\n",
    "[Particle Catalogue](./Catalogue.ipynb) for more details.\n",
    "```"
   ]
  },
  {
   "attachments": {},
   "cell_type": "markdown",
   "metadata": {},
   "source": [
    "### Clustering measurements"
   ]
  },
  {
   "attachments": {},
   "cell_type": "markdown",
   "metadata": {},
   "source": [
    "As an example, we measure the diagonal global plane-parallel bispectrum\n",
    "monopole $(\\ell_1, \\ell_2, L) = (0, 0, 0)$ (set in the parameter set above)\n",
    "from the simulation-like cuboid-box catalogue loaded above, and save the\n",
    "result as a ``.txt`` file to the default output file ``\"bk000_diag.txt\"``.\n",
    "\n",
    "Call the function:"
   ]
  },
  {
   "cell_type": "code",
   "execution_count": 8,
   "metadata": {},
   "outputs": [
    {
     "name": "stdout",
     "output_type": "stream",
     "text": [
      "[2024-08-19 23:53:17 (+00:00:00) INFO] Validating parameters... (entering C++)\n",
      "[2024-08-19 23:53:17 (+00:00:00) INFO] ... validated parameters. (exited C++)\n",
      "[2024-08-19 23:53:17 (+00:00:00) STAT C++] Parameters validated.\n",
      "[2024-08-19 23:53:17 (+00:00:00) INFO] Parameter set have been initialised.\n",
      "[2024-08-19 23:53:17 (+00:00:00) INFO] Binning has been initialised.\n",
      "[2024-08-19 23:53:17 (+00:00:00) INFO] Offset extents of particle coordinates: {'x': (0.002, 999.998 | 999.996), 'y': (0.001, 999.999 | 999.998), 'z': (0.000, 1000.000 | 999.999)} (ParticleCatalogue(source=extfile:mock_catalogue_sim.dat)).\n",
      "[2024-08-19 23:53:17 (+00:00:00) INFO] Catalogue box has been periodised.\n",
      "[2024-08-19 23:53:17 (+00:00:00) INFO] Inserted missing 'nz' field based on particle count and box size.\n",
      "[2024-08-19 23:53:17 (+00:00:00) INFO] Preparing catalogue for clustering algorithm... (entering C++)\n",
      "[2024-08-19 23:53:18 (+00:00:00) INFO] ... prepared catalogue for clustering algorithm. (exited C++)\n",
      "[2024-08-19 23:53:18 (+00:00:00) INFO C++] Catalogue loaded: ntotal = 499214, wtotal = 499214.000, wstotal = 499214.000 (source=extdata).\n",
      "[2024-08-19 23:53:18 (+00:00:00) INFO C++] Extents of particle coordinates: {'x': (0.002, 999.998 | 999.996), 'y': (0.001, 999.999 | 999.998), 'z': (0.000, 1000.000 | 999.999)} (source=extdata).\n",
      "[2024-08-19 23:53:18 (+00:00:00) INFO] Normalisation factors: 8.037847e+00 (particle; used), 2.208591e+00 (mesh), 0.000000e+00 (mesh-mixed; n/a).\n",
      "[2024-08-19 23:53:18 (+00:00:00) INFO] Measuring bispectrum from a simulation-box catalogue in the global plane-parallel approximation... (entering C++)\n",
      "[2024-08-19 23:53:19 (+00:00:01) INFO] ... measured bispectrum from a simulation-box catalogue in the global plane-parallel approximation. (exited C++)\n",
      "[2024-08-19 23:53:18 (+00:00:00) STAT C++] Computing bispectrum from a periodic-box simulation-type catalogue in the global plane-parallel approximation...\n",
      "[2024-08-19 23:53:19 (+00:00:01) STAT C++] Bispectrum term computed at orders (m₁, m₂, M) = ±(0, 0, 0).\n",
      "[2024-08-19 23:53:19 (+00:00:01) STAT C++] ... computed bispectrum from a periodic-box simulation-type catalogue in the global plane-parallel approximation.\n",
      "[2024-08-19 23:53:19 (+00:00:01) INFO] Measurements saved to bk000_diag.txt.\n"
     ]
    }
   ],
   "source": [
    "results = compute_bispec_in_gpp_box(\n",
    "    catalogue, paramset=parameter_set,\n",
    "    save='.txt', logger=trv_logger\n",
    ")"
   ]
  },
  {
   "attachments": {},
   "cell_type": "markdown",
   "metadata": {},
   "source": [
    "The returned `results` is a dictionary containing the coordinate bin centres\n",
    "and effective/average coordinate in each bin, the number of contributing\n",
    "modes/pairs per bin and (the real and imaginary parts of) the raw measurements\n",
    "including shot noise and the shot noise component:"
   ]
  },
  {
   "cell_type": "code",
   "execution_count": 9,
   "metadata": {},
   "outputs": [
    {
     "name": "stdout",
     "output_type": "stream",
     "text": [
      "{'bk_raw': array([-9.76634349e+08+2.00905377e-07j,  5.62308421e+09-4.85102525e-07j,\n",
      "        8.69371048e+08-2.21547474e-07j,  1.28499830e+09-6.41153933e-08j,\n",
      "        6.68698399e+08+7.29910031e-09j,  6.05966770e+08-7.01569721e-09j,\n",
      "        3.85704714e+08-1.84000945e-08j,  2.88772402e+08-1.11353778e-08j,\n",
      "        2.32705659e+08-7.73320880e-09j,  2.00352034e+08+5.77387821e-10j]),\n",
      " 'bk_shot': array([1.89812860e+08-2.11770798e-09j, 2.06798899e+08-7.67983941e-10j,\n",
      "       1.50707291e+08-4.82533270e-10j, 1.24950413e+08-4.09279101e-10j,\n",
      "       1.06980043e+08-2.03918312e-10j, 9.44867847e+07-3.82516272e-10j,\n",
      "       8.04644910e+07+1.48562912e-10j, 6.84708346e+07-5.49508290e-11j,\n",
      "       5.94749097e+07+3.25234856e-11j, 5.12239797e+07+2.63271010e-11j]),\n",
      " 'k1_bin': array([0.01, 0.02, 0.03, 0.04, 0.05, 0.06, 0.07, 0.08, 0.09, 0.1 ]),\n",
      " 'k1_eff': array([0.01149964, 0.02047114, 0.03052422, 0.04062536, 0.05033379,\n",
      "       0.06040971, 0.07034279, 0.08025683, 0.09014322, 0.10008191]),\n",
      " 'k2_bin': array([0.01, 0.02, 0.03, 0.04, 0.05, 0.06, 0.07, 0.08, 0.09, 0.1 ]),\n",
      " 'k2_eff': array([0.01149964, 0.02047114, 0.03052422, 0.04062536, 0.05033379,\n",
      "       0.06040971, 0.07034279, 0.08025683, 0.09014322, 0.10008191]),\n",
      " 'nmodes_1': array([  56,  194,  488,  812, 1250, 1896, 2426, 3272, 4016, 5138]),\n",
      " 'nmodes_2': array([  56,  194,  488,  812, 1250, 1896, 2426, 3272, 4016, 5138])}\n"
     ]
    }
   ],
   "source": [
    "# DEMO\n",
    "from pprint import pprint\n",
    "pprint(results)"
   ]
  },
  {
   "attachments": {},
   "cell_type": "markdown",
   "metadata": {},
   "source": [
    "The saved file contains a header with summary information about the parameters\n",
    "used and the input data as well as intermediary quantities:"
   ]
  },
  {
   "cell_type": "code",
   "execution_count": 10,
   "metadata": {},
   "outputs": [
    {
     "name": "stdout",
     "output_type": "stream",
     "text": [
      "# Catalogue source: extfile:mock_catalogue_sim.dat\n",
      "# Catalogue size: ntotal = 499214, wtotal = 499214.000, wstotal = 499214.000\n",
      "# Catalogue particle extents: ([0.002, 999.998], [0.001, 999.999], [0.000, 1000.000])\n",
      "# Box size: [1000.000, 1000.000, 1000.000]\n",
      "# Box alignment: centre\n",
      "# Mesh number: [64, 64, 64]\n",
      "# Mesh assignment and interlacing: cic, False\n",
      "# Normalisation factor: 8.037846928e+00 (particle)\n",
      "# Normalisation factor alternatives: 8.037846928e+00 (particle), 2.208590772e+00 (mesh), 0.000000000e+00 (mesh-mixed; n/a)\n",
      "# [0] k1_cen, [1] k1_eff, [2] nmodes_1, [3] k2_cen, [4] k2_eff, [5] nmodes_2, [6] Re{bk000_raw}, [7] Im{bk000_raw}, [8] Re{bk000_shot}, [9] Im{bk000_shot}\n",
      "1.000000000e-02\t1.149964290e-02\t        56\t1.000000000e-02\t1.149964290e-02\t        56\t-9.766343488e+08\t 2.009053768e-07\t 1.898128595e+08\t-2.117707984e-09\n",
      "2.000000000e-02\t2.047114034e-02\t       194\t2.000000000e-02\t2.047114034e-02\t       194\t 5.623084213e+09\t-4.851025251e-07\t 2.067988992e+08\t-7.679839408e-10\n",
      "3.000000000e-02\t3.052421724e-02\t       488\t3.000000000e-02\t3.052421724e-02\t       488\t 8.693710478e+08\t-2.215474738e-07\t 1.507072914e+08\t-4.825332699e-10\n",
      "4.000000000e-02\t4.062536317e-02\t       812\t4.000000000e-02\t4.062536317e-02\t       812\t 1.284998304e+09\t-6.411539327e-08\t 1.249504126e+08\t-4.092791007e-10\n",
      "5.000000000e-02\t5.033378732e-02\t      1250\t5.000000000e-02\t5.033378732e-02\t      1250\t 6.686983986e+08\t 7.299100311e-09\t 1.069800433e+08\t-2.039183123e-10\n",
      "6.000000000e-02\t6.040971138e-02\t      1896\t6.000000000e-02\t6.040971138e-02\t      1896\t 6.059667699e+08\t-7.015697211e-09\t 9.448678469e+07\t-3.825162722e-10\n",
      "7.000000000e-02\t7.034278912e-02\t      2426\t7.000000000e-02\t7.034278912e-02\t      2426\t 3.857047142e+08\t-1.840009451e-08\t 8.046449097e+07\t 1.485629116e-10\n",
      "8.000000000e-02\t8.025683499e-02\t      3272\t8.000000000e-02\t8.025683499e-02\t      3272\t 2.887724022e+08\t-1.113537778e-08\t 6.847083460e+07\t-5.495082902e-11\n",
      "9.000000000e-02\t9.014322302e-02\t      4016\t9.000000000e-02\t9.014322302e-02\t      4016\t 2.327056590e+08\t-7.733208805e-09\t 5.947490971e+07\t 3.252348559e-11\n",
      "1.000000000e-01\t1.000819060e-01\t      5138\t1.000000000e-01\t1.000819060e-01\t      5138\t 2.003520342e+08\t 5.773878208e-10\t 5.122397971e+07\t 2.632710102e-11\n",
      "\n"
     ]
    }
   ],
   "source": [
    "# DEMO\n",
    "with open(\"bk000_diag.txt\", 'r') as results_file:\n",
    "    print(results_file.read())"
   ]
  },
  {
   "attachments": {},
   "cell_type": "markdown",
   "metadata": {},
   "source": [
    "```{seealso}\n",
    "[Clustering Measurements](./Measurements.ipynb) for more details.\n",
    "```"
   ]
  },
  {
   "cell_type": "code",
   "execution_count": 11,
   "metadata": {
    "tags": [
     "remove-cell"
    ]
   },
   "outputs": [],
   "source": [
    "# Hide cell\n",
    "!rm params_template.yml bk000_diag.txt"
   ]
  },
  {
   "attachments": {},
   "cell_type": "markdown",
   "metadata": {},
   "source": [
    "## Running the C++ program"
   ]
  },
  {
   "attachments": {},
   "cell_type": "markdown",
   "metadata": {},
   "source": [
    "For most users, the C++ code serves as the backend for the Python package\n",
    "and the only public routine is the compiled binary executable program\n",
    "``triumvirate`` which should be run with an external parameter file."
   ]
  },
  {
   "attachments": {},
   "cell_type": "markdown",
   "metadata": {},
   "source": [
    "### Parameter configuration"
   ]
  },
  {
   "attachments": {},
   "cell_type": "markdown",
   "metadata": {},
   "source": [
    "A template parameter file [``\"params_template.ini\"``](../_static/params_template.ini)\n",
    "can be downloaded, but the relevant parameters need to be changed accordingly\n",
    "for your use.\n",
    "\n",
    "```{seealso}\n",
    "[Parameter Configuration](./Configuration.ipynb) for more details.\n",
    "```"
   ]
  },
  {
   "cell_type": "code",
   "execution_count": 12,
   "metadata": {
    "tags": [
     "remove-cell"
    ]
   },
   "outputs": [],
   "source": [
    "import textwrap\n",
    "\n",
    "params_template = textwrap.dedent(\n",
    "    \"\"\"\\\n",
    "    # -- I/O -----------------------------------------------------------------\n",
    "\n",
    "    # Directories for input catalogue(s) and output measurement(s).\n",
    "    # The paths can be either absolute or relative to the working directory.\n",
    "    # If unset, the current working directory is assumed.\n",
    "    catalogue_dir =\n",
    "    measurement_dir =\n",
    "\n",
    "    # Filenames (with extension) of input catalogues.  These are relative\n",
    "    # to the catalogue directory.\n",
    "    data_catalogue_file = mock_catalogue_sim.dat\n",
    "    rand_catalogue_file =\n",
    "\n",
    "    # Field names of catalogue data columns as a comma-separated list without\n",
    "    # space in the order of appearance.  Only data columns with the following\n",
    "    # field names are read from the input catalogue(s),\n",
    "    #   {'x', 'y', 'z', 'nz', 'ws', 'wc'},\n",
    "    # where 'x', 'y', 'z' are the Cartesian coordinates, 'nz' is the\n",
    "    # redshift-dependent number density, 'ws' is the total sample weight\n",
    "    # (including e.g. completeness weights), and 'wc' is the total clustering\n",
    "    # weight (including e.g. optimality weights).\n",
    "    catalogue_columns = x,y,z\n",
    "\n",
    "    # Tags to be appended as an input/output filename suffix.\n",
    "    output_tag =\n",
    "\n",
    "\n",
    "    # -- Mesh sampling -------------------------------------------------------\n",
    "\n",
    "    # Box size in each dimension (in length units).\n",
    "    boxsize_x = 1000.\n",
    "    boxsize_y = 1000.\n",
    "    boxsize_z = 1000.\n",
    "\n",
    "    # Grid cell number in each dimension.\n",
    "    ngrid_x = 64\n",
    "    ngrid_y = 64\n",
    "    ngrid_z = 64\n",
    "\n",
    "    # Box expansion factor: {1. (default), >1.}.\n",
    "    # The box is expanded by this factor in each dimension when\n",
    "    # box size is not set.\n",
    "    expand: 1.\n",
    "\n",
    "    # Box alignment: {'centre' (default), 'pad'}.\n",
    "    # The catalogues are either centred or padded from the\n",
    "    # mininum-coordinate corner.\n",
    "    alignment = centre\n",
    "\n",
    "    # Padding scale: {'box' (default), 'grid'}.\n",
    "    # The padding scale is either the box size or the grid cell size.\n",
    "    # Only applicable if `alignment` is set to 'pad'.\n",
    "    padscale = box\n",
    "\n",
    "    # Padding factor (as a multiple of the size of padding scale).\n",
    "    # Only applicable if `alignment` is set to 'pad'.\n",
    "    padfactor =\n",
    "\n",
    "    # Mesh assignment scheme: {'ngp', 'cic', 'tsc' (default), 'pcs'}.\n",
    "    assignment = tsc\n",
    "\n",
    "    # Interlacing switch: {'true'/'on', 'false'/'off' (default)}.\n",
    "    # The switch is overridden to 'false' when measuring three-point statistics.\n",
    "    interlace = false\n",
    "\n",
    "\n",
    "    # -- Measurements --------------------------------------------------------\n",
    "\n",
    "    # Type of catalogue(s): {'survey', 'random', 'sim', 'none'}.\n",
    "    # If of type 'sim', global-plane-parallel measurements are made;\n",
    "    # otherwise, local-plane-parallel measurements are made. [mandatory]\n",
    "    catalogue_type = sim\n",
    "\n",
    "    # Type of measurement: {\n",
    "    #   'powspec', '2pcf', '2pcf-win',\n",
    "    #   'bispec', '3pcf', '3pcf-win', '3pcf-win-wa',\n",
    "    #   'modes', 'pairss'\n",
    "    # }. [mandatory]\n",
    "    statistic_type = bispec\n",
    "\n",
    "    # Degrees of the multipoles.\n",
    "    ell1 = 0\n",
    "    ell2 = 0\n",
    "    ELL = 0\n",
    "\n",
    "    # Orders of wide-angle corrections.\n",
    "    i_wa =\n",
    "    j_wa =\n",
    "\n",
    "    # Form of three-point statistic measurements:\n",
    "    # {'full', 'diag' (default), 'off-diag', 'row'}.\n",
    "    form = diag\n",
    "\n",
    "    # Normalisation convention: {\n",
    "    #   'none', 'particle' (default), 'mesh',\n",
    "    #   'mesh-mixed' (two-point statistics only)\n",
    "    # }.\n",
    "    norm_convention = particle\n",
    "\n",
    "    # Binning scheme: {'lin' (default), 'log', 'linpad', 'logpad', 'custom'}.\n",
    "    binning = lin\n",
    "\n",
    "    # Minimum and maximum of the range of measurement scales.\n",
    "    # The binning coordinate is either wavenumbers in Fourier space,\n",
    "    # or separations in configuration space. [mandatory]\n",
    "    bin_min = 0.005\n",
    "    bin_max = 0.105\n",
    "\n",
    "    # Number of measurement bins (i.e. data vector dimension).\n",
    "    # Must be >=2, or >=7 if padding is used. [mandatory]\n",
    "    num_bins = 10\n",
    "\n",
    "    # Fixed bin index when the `form` of three-point statistics measurements\n",
    "    # is set to 'off-diag' or 'row'.  If 'off-diag', the bin index is the\n",
    "    # positive off-diagonal index; if `form` is set to 'row', the bin index\n",
    "    # is the row index.\n",
    "    idx_bin = 0\n",
    "\n",
    "\n",
    "    # -- Misc ----------------------------------------------------------------\n",
    "\n",
    "    # FFTW scheme: {'estimate', 'measure' (default), 'patient'}.\n",
    "    # This corresponds to the FFTW planner flags.\n",
    "    fftw_scheme: measure\n",
    "\n",
    "    # Use FFTW wisdom: {false (default)/off, <path-to-dir>}.\n",
    "    # If not `false` or non-empty, then this is the path to\n",
    "    # the FFTW wisdom directory; the FFTW wisdom file is either imported\n",
    "    # from there or exported there if the wisdom file does not yet exist;\n",
    "    # `fftw_scheme` must be set to 'measure' or higher (i.e. 'patient').\n",
    "    use_fftw_wisdom: false\n",
    "\n",
    "    # Save binning details to file:\n",
    "    # {'true', 'false' (default), <relpath-to-file>}.\n",
    "    # If a path is provided, it is relative to the measurement directory.\n",
    "    # An empty path is equivalent to 'false'.\n",
    "    save_binned_vectors = false\n",
    "\n",
    "    # Logging verbosity level: a non-negative integer.\n",
    "    # Typical values are: {\n",
    "    #   0 (NSET, unset), 10 (DBUG, debug), 20 (STAT, status) (default),\n",
    "    #   30 (INFO, info), 40 (WARN, warning), 50 (ERRO, error)\n",
    "    # }.\n",
    "    verbose = 20\n",
    "\n",
    "    # Progress bar display switch: {true/on, false/off (default), <%-points>}.\n",
    "    # If a float is provided, the progress bar is update/displayed\n",
    "    # at that percentage-point interval, e.g. 10. for every 10%.\n",
    "    progbar: off\n",
    "    \"\"\"\n",
    ")\n",
    "\n",
    "with open(\"params_template.ini\", 'w', encoding='ascii') as params_template_file:\n",
    "    params_template_file.write(params_template)"
   ]
  },
  {
   "attachments": {},
   "cell_type": "markdown",
   "metadata": {},
   "source": [
    "For the example below, we have modified the following lines in the template\n",
    "parameter file:\n",
    "\n",
    "```{code-block} ini\n",
    ":caption: params_template.ini\n",
    "\n",
    "data_catalogue_file = mock_catalogue_sim.dat\n",
    "\n",
    "catalogue_columns = x,y,z\n",
    "\n",
    "boxsize_x = 1000.\n",
    "boxsize_y = 1000.\n",
    "boxsize_z = 1000.\n",
    "\n",
    "ngrid_x = 64\n",
    "ngrid_y = 64\n",
    "ngrid_z = 64\n",
    "\n",
    "catalogue_type = sim\n",
    "\n",
    "statistic_type = bispec\n",
    "\n",
    "ell1 = 0\n",
    "ell2 = 0\n",
    "ELL = 0\n",
    "\n",
    "bin_min = 0.005\n",
    "bin_max = 0.105\n",
    "\n",
    "num_bins = 10\n",
    "```"
   ]
  },
  {
   "attachments": {},
   "cell_type": "markdown",
   "metadata": {},
   "source": [
    "### Executing the program"
   ]
  },
  {
   "attachments": {},
   "cell_type": "markdown",
   "metadata": {},
   "source": [
    "To run the 'black-box' C++ program, execute\n",
    "```{code-block} console\n",
    "$ <path-to-executable> <path-to-parameter-file>\n",
    "```\n",
    "in the shell.\n",
    "\n",
    "Assuming the compiled binary executable is in the default build directory and\n",
    "the parameter file is in the current working directory which is the repository\n",
    "directory root, we execute the following to make the same measurement\n",
    "as before:\n",
    "```{code-block} console\n",
    "$ build/bin/triumvirate params_template.ini\n",
    "```"
   ]
  },
  {
   "cell_type": "code",
   "execution_count": 13,
   "metadata": {
    "tags": [
     "remove-input"
    ]
   },
   "outputs": [
    {
     "name": "stdout",
     "output_type": "stream",
     "text": [
      "PROGRAM LOG >\n",
      "\n",
      "[2024-08-19 23:53:19 (+00:00:00) STAT] [MAIN:TRV:A] Parameters and source data are being initialised.\n",
      "[2024-08-19 23:53:19 (+00:00:00) STAT] [MAIN:TRV:A] Reading parameters...\n",
      "[2024-08-19 23:53:19 (+00:00:00) STAT] Parameters validated.\n",
      "[2024-08-19 23:53:19 (+00:00:00) STAT] Parameters validated.\n",
      "[2024-08-19 23:53:19 (+00:00:00) INFO] Check used-parameter file for reference: .//parameters_used\n",
      "[2024-08-19 23:53:19 (+00:00:00) STAT] [MAIN:TRV:A] ... read parameters.\n",
      "[2024-08-19 23:53:19 (+00:00:00) STAT] [MAIN:TRV:A] Reading catalogues...\n",
      "[2024-08-19 23:53:19 (+00:00:00) WARN] Catalogue 'nz' field is unavailable and will be set to the mean density in the bounding box (source=extfile:mock_catalogue_sim.dat).\n",
      "[2024-08-19 23:53:20 (+00:00:01) INFO] Catalogue loaded: ntotal = 499214, wtotal = 499214.000, wstotal = 499214.000 (source=extfile:mock_catalogue_sim.dat).\n",
      "[2024-08-19 23:53:20 (+00:00:01) INFO] Extents of particle coordinates: {'x': (-499.998, 499.998 | 999.996), 'y': (-500.000, 499.998 | 999.998), 'z': (-499.999, 500.000 | 999.999)} (source=extfile:mock_catalogue_sim.dat).\n",
      "[2024-08-19 23:53:20 (+00:00:01) STAT] [MAIN:TRV:A] ... read catalogues.\n",
      "[2024-08-19 23:53:20 (+00:00:01) STAT] [MAIN:TRV:B] Clustering statistics are being measured.\n",
      "[2024-08-19 23:53:20 (+00:00:01) STAT] [MAIN:TRV:B] Setting up binning...\n",
      "[2024-08-19 23:53:20 (+00:00:01) STAT] [MAIN:TRV:B] ... set up binning.\n",
      "[2024-08-19 23:53:20 (+00:00:01) STAT] [MAIN:TRV:B] Computing lines of sight...\n",
      "[2024-08-19 23:53:20 (+00:00:01) STAT] [MAIN:TRV:B] ... computed lines of sight.\n",
      "[2024-08-19 23:53:20 (+00:00:01) STAT] [MAIN:TRV:B] Aligning catalogues inside measurement box...\n",
      "[2024-08-19 23:53:20 (+00:00:01) INFO] Extents of particle coordinates: {'x': (0.000, 1000.000 | 1000.000), 'y': (0.000, 999.996 | 999.996), 'z': (0.001, 999.997 | 999.996)} (source=extfile:mock_catalogue_sim.dat).\n",
      "[2024-08-19 23:53:20 (+00:00:01) STAT] [MAIN:TRV:B] ... aligned catalogues inside measurement box.\n",
      "[2024-08-19 23:53:20 (+00:00:01) INFO] Alpha contrast: 1.000000e+00.\n",
      "[2024-08-19 23:53:20 (+00:00:01) INFO] Normalisation factors: 8.037847e+00 (particle; used), 3.089711e+00 (mesh), 0.000000e+00 (mesh-mixed).\n",
      "[2024-08-19 23:53:20 (+00:00:01) STAT] Computing bispectrum from a periodic-box simulation-type catalogue in the global plane-parallel approximation...\n",
      "[==================================================] 100% < component orders (0, 0, 0)\n",
      "[2024-08-19 23:53:22 (+00:00:02) STAT] Bispectrum term computed at orders (m₁, m₂, M) = ±(0, 0, 0).\n",
      "[2024-08-19 23:53:22 (+00:00:02) STAT] ... computed bispectrum from a periodic-box simulation-type catalogue in the global plane-parallel approximation.\n",
      "[2024-08-19 23:53:22 (+00:00:02) INFO] Measurements saved to: .//bk000_diag\n",
      "[2024-08-19 23:53:22 (+00:00:02) STAT] [MAIN:TRV:C] Data objects are being cleared.\n",
      "[2024-08-19 23:53:22 (+00:00:02) INFO] Number of FFTs: 3 forward, 31 backward.\n",
      "[2024-08-19 23:53:22 (+00:00:02) INFO] Maximum number of concurrent 3-d grids: 12.0 complex-equivalent, 10 complex, 4 real.\n",
      "[2024-08-19 23:53:22 (+00:00:02) INFO] Minimal estimate of peak memory usage: 0.1 gibibytes.\n"
     ]
    }
   ],
   "source": [
    "%%bash\n",
    "\n",
    "mkdir -p build/bin/\n",
    "cp ../../../build/bin/triumvirate build/bin/triumvirate\n",
    "build/bin/triumvirate params_template.ini"
   ]
  },
  {
   "attachments": {},
   "cell_type": "markdown",
   "metadata": {},
   "source": [
    "As before, the saved file contains a header with summary information about the\n",
    "parameters used and the input data as well as intermediary quantities:"
   ]
  },
  {
   "cell_type": "code",
   "execution_count": 14,
   "metadata": {},
   "outputs": [
    {
     "name": "stdout",
     "output_type": "stream",
     "text": [
      "# Catalogue source: extfile:mock_catalogue_sim.dat\n",
      "# Catalogue size: ntotal = 499214, wtotal = 499214.000, wstotal = 499214.000\n",
      "# Catalogue particle extents: [(0.000, 1000.000), (0.000, 999.996), (0.001, 999.997)]\n",
      "# Box size: [1000.000, 1000.000, 1000.000]\n",
      "# Box alignment: centre\n",
      "# Mesh number: [64, 64, 64]\n",
      "# Mesh assignment and interlacing: tsc, false\n",
      "# Normalisation factor: 8.037846928e+00 (particle)\n",
      "# Normalisation factor alternatives: 8.037846928e+00 (particle), 3.089710869e+00 (mesh), 0.000000000e+00 (mesh-mixed)\n",
      "# [0] k1_cen, [1] k1_eff, [2] nmodes_1, [3] k2_cen, [4] k2_eff, [5] nmodes_2, [6] Re{bk000_raw}, [7] Im{bk000_raw}, [8] Re{bk000_shot}, [9] Im{bk000_shot}\n",
      "1.000000000e-02\t1.149964290e-02\t        56\t1.000000000e-02\t1.149964290e-02\t        56\t-9.702292027e+08\t-9.532246041e-07\t 1.898133758e+08\t 3.469509921e-09\n",
      "2.000000000e-02\t2.047114034e-02\t       194\t2.000000000e-02\t2.047114034e-02\t       194\t 5.617152234e+09\t-2.008673590e-07\t 2.067769125e+08\t 2.585273166e-09\n",
      "3.000000000e-02\t3.052421724e-02\t       488\t3.000000000e-02\t3.052421724e-02\t       488\t 8.716164555e+08\t-1.253058098e-07\t 1.506636762e+08\t 9.820769760e-10\n",
      "4.000000000e-02\t4.062536317e-02\t       812\t4.000000000e-02\t4.062536317e-02\t       812\t 1.287789206e+09\t-3.434104094e-08\t 1.249698447e+08\t 2.870751304e-10\n",
      "5.000000000e-02\t5.033378732e-02\t      1250\t5.000000000e-02\t5.033378732e-02\t      1250\t 6.692105056e+08\t 3.647971895e-08\t 1.070435506e+08\t 3.682395871e-10\n",
      "6.000000000e-02\t6.040971138e-02\t      1896\t6.000000000e-02\t6.040971138e-02\t      1896\t 6.044495786e+08\t 2.151447484e-08\t 9.460508763e+07\t-2.545286426e-11\n",
      "7.000000000e-02\t7.034278912e-02\t      2426\t7.000000000e-02\t7.034278912e-02\t      2426\t 3.870081046e+08\t-8.565258699e-09\t 8.065164469e+07\t 3.506414699e-10\n",
      "8.000000000e-02\t8.025683499e-02\t      3272\t8.000000000e-02\t8.025683499e-02\t      3272\t 2.877129959e+08\t-2.357928329e-09\t 6.868552974e+07\t-2.171471103e-10\n",
      "9.000000000e-02\t9.014322302e-02\t      4016\t9.000000000e-02\t9.014322302e-02\t      4016\t 2.302318466e+08\t-3.950788761e-09\t 5.979982970e+07\t-3.564629134e-11\n",
      "1.000000000e-01\t1.000819060e-01\t      5138\t1.000000000e-01\t1.000819060e-01\t      5138\t 1.979397038e+08\t-5.946673347e-10\t 5.157943854e+07\t-1.045699361e-10\n",
      "\n"
     ]
    }
   ],
   "source": [
    "# DEMO\n",
    "with open(\"bk000_diag\", 'r') as results_file:\n",
    "    print(results_file.read())"
   ]
  },
  {
   "attachments": {},
   "cell_type": "markdown",
   "metadata": {},
   "source": [
    "In addition, the interpreted/processed parameters used by the program are\n",
    "saved to the ``\"parameters_used*\"`` file in the specified measurement\n",
    "directory (the current working directory here), where the wildcard asterisk\n",
    "is the output tag (empty here) specified in the input parameter file."
   ]
  },
  {
   "cell_type": "code",
   "execution_count": 15,
   "metadata": {},
   "outputs": [
    {
     "name": "stdout",
     "output_type": "stream",
     "text": [
      "catalogue_dir = \n",
      "measurement_dir = ./\n",
      "data_catalogue_file = mock_catalogue_sim.dat\n",
      "rand_catalogue_file = \n",
      "catalogue_columns = x,y,z\n",
      "output_tag = \n",
      "boxsize_x = 1000.000\n",
      "boxsize_y = 1000.000\n",
      "boxsize_z = 1000.000\n",
      "ngrid_x = 64\n",
      "ngrid_y = 64\n",
      "ngrid_z = 64\n",
      "volume = 1.000000e+09\n",
      "nmesh = 262144\n",
      "expand = 1.0000\n",
      "alignment = centre\n",
      "padscale = box\n",
      "padfactor = 0.0000\n",
      "assignment = tsc\n",
      "interlace = false\n",
      "assignment_order = 3\n",
      "catalogue_type = sim\n",
      "statistic_type = bispec\n",
      "npoint = 3pt\n",
      "space = fourier\n",
      "ell1 = 0\n",
      "ell2 = 0\n",
      "ELL = 0\n",
      "i_wa = 0\n",
      "j_wa = 0\n",
      "form = diag\n",
      "norm_convention = particle\n",
      "binning = lin\n",
      "shape = diag\n",
      "bin_min = 0.0050\n",
      "bin_max = 0.1050\n",
      "num_bins = 10\n",
      "idx_bin = 0\n",
      "fftw_scheme = measure\n",
      "use_fftw_wisdom = \n",
      "fftw_wisdom_file_f = \n",
      "fftw_wisdom_file_b = \n",
      "save_binned_vectors = \n",
      "progbar = true\n",
      "verbose = 20\n",
      "fftw_planner_flag = 0\n",
      "\n"
     ]
    }
   ],
   "source": [
    "# DEMO\n",
    "with open(\"parameters_used\", 'r') as used_params_file:\n",
    "    print(used_params_file.read())"
   ]
  },
  {
   "cell_type": "code",
   "execution_count": 16,
   "metadata": {
    "tags": [
     "remove-cell"
    ]
   },
   "outputs": [],
   "source": [
    "# Hide cell.\n",
    "!rm -r ./build/ ./params_template.ini ./bk000_diag ./parameters_used*"
   ]
  }
 ],
 "metadata": {
  "kernelspec": {
   "display_name": "cosmo",
   "language": "python",
   "name": "python3"
  },
  "language_info": {
   "codemirror_mode": {
    "name": "ipython",
    "version": 3
   },
   "file_extension": ".py",
   "mimetype": "text/x-python",
   "name": "python",
   "nbconvert_exporter": "python",
   "pygments_lexer": "ipython3",
   "version": "3.11.9"
  },
  "vscode": {
   "interpreter": {
    "hash": "4a7a1cba6a5ad1075172442d744886e76565787fe92f2df44113e5c941b518c1"
   }
  }
 },
 "nbformat": 4,
 "nbformat_minor": 2
}
