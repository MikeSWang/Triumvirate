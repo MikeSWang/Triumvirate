{
 "cells": [
  {
   "attachments": {},
   "cell_type": "markdown",
   "metadata": {},
   "source": [
    "# Quick Start"
   ]
  },
  {
   "attachments": {},
   "cell_type": "markdown",
   "metadata": {},
   "source": [
    "If you have not installed ``Triumvirate`` already, please follow the\n",
    "instructions in ['Installation'](../installation.rst) first."
   ]
  },
  {
   "attachments": {},
   "cell_type": "markdown",
   "metadata": {},
   "source": [
    "## Using the Python package"
   ]
  },
  {
   "attachments": {},
   "cell_type": "markdown",
   "metadata": {},
   "source": [
    "### Configure parameters"
   ]
  },
  {
   "attachments": {},
   "cell_type": "markdown",
   "metadata": {},
   "source": [
    "``Triumvirate`` uses the {py:class}`~triumvirate.parameters.ParameterSet` class\n",
    "to configure parameters."
   ]
  },
  {
   "cell_type": "code",
   "execution_count": 1,
   "metadata": {},
   "outputs": [],
   "source": [
    "from triumvirate.parameters import ParameterSet"
   ]
  },
  {
   "attachments": {},
   "cell_type": "markdown",
   "metadata": {},
   "source": [
    "The simplest way to initialise a parameter set is via an external ``.yml`` file.\n",
    "You can obtain a template file as below."
   ]
  },
  {
   "cell_type": "code",
   "execution_count": 2,
   "metadata": {},
   "outputs": [],
   "source": [
    "from triumvirate.parameters import fetch_paramset_template\n",
    "\n",
    "paramset_template = fetch_paramset_template('text')"
   ]
  },
  {
   "attachments": {},
   "cell_type": "markdown",
   "metadata": {},
   "source": [
    "Note that parameters in the template file, especially directory/file paths,\n",
    "may need to be modified accordingly. Here as a demostration, we obtain\n",
    "a parameter set as a template {py:class}`dict` instead:"
   ]
  },
  {
   "cell_type": "code",
   "execution_count": 3,
   "metadata": {},
   "outputs": [],
   "source": [
    "paramset_template = fetch_paramset_template('dict')"
   ]
  },
  {
   "attachments": {},
   "cell_type": "markdown",
   "metadata": {},
   "source": [
    "Let's load the most used classes and functions first:"
   ]
  },
  {
   "cell_type": "code",
   "execution_count": null,
   "metadata": {},
   "outputs": [],
   "source": [
    "from triumvirate.catalogue import ParticleCatalogue"
   ]
  },
  {
   "cell_type": "markdown",
   "metadata": {},
   "source": [
    "Load the relevant modules for setting up the measurement parameters, loading\n",
    "the catalogues and making the desired measurement with the choice of a logger."
   ]
  },
  {
   "cell_type": "code",
   "execution_count": 1,
   "metadata": {},
   "outputs": [],
   "source": [
    "import os\n",
    "from pathlib import Path\n",
    "\n",
    "from triumvirate.catalogue import ParticleCatalogue\n",
    "from triumvirate.logger import setup_logger\n",
    "from triumvirate.parameters import ParameterSet\n",
    "from triumvirate.twopt import compute_powspec, compute_powspec_in_gpp_box\n",
    "from triumvirate.threept import compute_bispec, compute_bispec_in_gpp_box"
   ]
  },
  {
   "cell_type": "code",
   "execution_count": 2,
   "metadata": {},
   "outputs": [],
   "source": [
    "os.chdir(os.getcwd() + \"/../../..\")"
   ]
  },
  {
   "cell_type": "markdown",
   "metadata": {},
   "source": [
    "## Set-up"
   ]
  },
  {
   "cell_type": "markdown",
   "metadata": {},
   "source": [
    "Set up logger."
   ]
  },
  {
   "cell_type": "code",
   "execution_count": 3,
   "metadata": {},
   "outputs": [],
   "source": [
    "logger = setup_logger()"
   ]
  },
  {
   "cell_type": "markdown",
   "metadata": {},
   "source": [
    "Load parameter file."
   ]
  },
  {
   "cell_type": "code",
   "execution_count": 4,
   "metadata": {},
   "outputs": [
    {
     "name": "stdout",
     "output_type": "stream",
     "text": [
      "[2022-11-02 14:24:42 (+0:00:00) INFO] (C++ start) Validating parameters...\n",
      "[2022-11-02 14:24:42 (+0:00:00) INFO] (C++ end) ... validated parameters.\n"
     ]
    }
   ],
   "source": [
    "# NOTE: See the parameter file used here for details.\n",
    "PARAMETER_FILEPATH = \"triumvirate/tests/test_input/params/test_params.yml\"  # change path as necessary\n",
    "\n",
    "pars = ParameterSet(PARAMETER_FILEPATH, logger=logger)"
   ]
  },
  {
   "cell_type": "markdown",
   "metadata": {},
   "source": [
    "## Data I/O"
   ]
  },
  {
   "cell_type": "markdown",
   "metadata": {},
   "source": [
    "Load catalogues."
   ]
  },
  {
   "cell_type": "code",
   "execution_count": 5,
   "metadata": {},
   "outputs": [
    {
     "name": "stdout",
     "output_type": "stream",
     "text": [
      "[2022-11-02 14:24:43 (+0:00:01) WARNING] Catalogue 'nz' field is not provided and thus set to zero, which may raise errors in some computations. (/home/mikesw/Documents/Bispec/Triumvirate/triumvirate/catalogue.py:203:UserWarning --> \"warnings.warn(\")\n",
      "[2022-11-02 14:24:43 (+0:00:01) WARNING] Catalogue 'wc' field is not provided, so is set to unity. (/home/mikesw/Documents/Bispec/Triumvirate/triumvirate/catalogue.py:210:UserWarning --> \"warnings.warn(\")\n",
      "[2022-11-02 14:24:43 (+0:00:01) INFO] Original extents of particle coordinates: {'x': (0.00018049031496047974, 999.999755859375), 'y': (5.09379715367686e-05, 999.9984130859375), 'z': (0.004449330735951662, 999.9979248046875)} (ParticleCatalogue(source=extfile:triumvirate/tests/test_input/catalogues/test_catalogue_sim.dat)).\n",
      "[2022-11-02 14:24:43 (+0:00:01) INFO] Catalogue loaded: 999907 particles with total systematic weights 999907.000 (ParticleCatalogue(source=extfile:triumvirate/tests/test_input/catalogues/test_catalogue_sim.dat)).\n"
     ]
    }
   ],
   "source": [
    "cat_data = ParticleCatalogue.read_from_file(\n",
    "    \"{}/{}\".format(\n",
    "        pars['directories']['catalogues'],\n",
    "        pars['files']['data_catalogue']\n",
    "    ),\n",
    "    names=['x', 'y', 'z', 'ws'],  # change as necessary\n",
    "    logger=logger\n",
    ")\n",
    "if pars['catalogue_type'] != 'sim':\n",
    "    cat_rand = ParticleCatalogue.read_from_file(\n",
    "        \"{}/{}\".format(\n",
    "            pars['directories']['catalogues'],\n",
    "            pars['files']['rand_catalogue']\n",
    "        ),\n",
    "        names=['x', 'y', 'z', 'nz', 'ws'],  # change as necessary\n",
    "        logger=logger\n",
    "    )"
   ]
  },
  {
   "cell_type": "markdown",
   "metadata": {},
   "source": [
    "## Measurements"
   ]
  },
  {
   "cell_type": "markdown",
   "metadata": {},
   "source": [
    "Measure the power spectrum."
   ]
  },
  {
   "cell_type": "code",
   "execution_count": 6,
   "metadata": {},
   "outputs": [
    {
     "name": "stdout",
     "output_type": "stream",
     "text": [
      "[2022-11-02 14:24:43 (+0:00:01) INFO] Parameter set have been initialised.\n",
      "[2022-11-02 14:24:43 (+0:00:01) INFO] Binning has been initialised.\n",
      "[2022-11-02 14:24:44 (+0:00:01) INFO] Offset extents of particle coordinates: {'x': (0.00018049031496047974, 999.999755859375), 'y': (5.09379715367686e-05, 999.9984130859375), 'z': (0.004449330735951662, 999.9979248046875)} (ParticleCatalogue(source=extfile:triumvirate/tests/test_input/catalogues/test_catalogue_sim.dat)).\n",
      "[2022-11-02 14:24:44 (+0:00:01) INFO] Catalogue box has been periodised.\n",
      "[2022-11-02 14:24:44 (+0:00:01) INFO] Inserted missing 'nz' field based on particle count and boxsize.\n",
      "[2022-11-02 14:24:44 (+0:00:01) INFO] (C++ start) Preparing catalogue for clustering algorithm...\n",
      "[2022-11-02 14:24:45 (+0:00:02) INFO] (C++ end) ... prepared catalogue for clustering algorithm.\n",
      "[2022-11-02 14:24:46 (+0:00:03) INFO] Normalisation factors: 1.000186e-03 (used), 7.623899e-05 (alternative).\n",
      "[2022-11-02 14:24:46 (+0:00:03) INFO] (C++ start) Measuring clustering statistics...\n",
      "[2022-11-02 14:24:49 (+0:00:06) INFO] (C++ end) ... measured clustering statistics.\n",
      "[2022-11-02 14:24:49 (+0:00:06) INFO] Measurements saved to triumvirate/tests/test_output/pk0_jnote.txt.\n"
     ]
    }
   ],
   "source": [
    "if pars['catalogue_type'] != 'sim':\n",
    "    measurements_pk = compute_powspec(\n",
    "        cat_data, cat_rand, paramset=pars,\n",
    "        save='.txt',  # save measurements to '.txt' file\n",
    "        logger=logger\n",
    "    )\n",
    "else:\n",
    "    measurements_pk = compute_powspec_in_gpp_box(\n",
    "        cat_data, paramset=pars,\n",
    "        save='.txt',  # save measurements to '.txt' file\n",
    "        logger=logger\n",
    "    )"
   ]
  },
  {
   "cell_type": "markdown",
   "metadata": {},
   "source": [
    "Visualise the measurements."
   ]
  },
  {
   "cell_type": "code",
   "execution_count": 7,
   "metadata": {},
   "outputs": [],
   "source": [
    "k = measurements_pk['keff']\n",
    "pk0 = (measurements_pk['pk_raw'] - measurements_pk['pk_shot']).real"
   ]
  },
  {
   "cell_type": "code",
   "execution_count": 8,
   "metadata": {},
   "outputs": [
    {
     "data": {
      "text/plain": [
       "Text(0, 0.5, '$k P_0(k)$')"
      ]
     },
     "execution_count": 8,
     "metadata": {},
     "output_type": "execute_result"
    },
    {
     "data": {
      "image/png": "[encoded data removed]",
      "text/plain": [
       "<Figure size 432x288 with 1 Axes>"
      ]
     },
     "metadata": {
      "needs_background": "light"
     },
     "output_type": "display_data"
    }
   ],
   "source": [
    "import matplotlib.pyplot as plt\n",
    "\n",
    "plt.plot(k, k * pk0)\n",
    "plt.xlabel(r\"$k$ [$h\\,\\mathrm{Mpc}^{-1}$]\")\n",
    "plt.ylabel(r\"$k P_0(k)$\")"
   ]
  },
  {
   "cell_type": "markdown",
   "metadata": {},
   "source": [
    "If you have turned on `save=<...>`, you can view the output measurement file (here displayed below):"
   ]
  },
  {
   "cell_type": "code",
   "execution_count": 9,
   "metadata": {},
   "outputs": [
    {
     "name": "stdout",
     "output_type": "stream",
     "text": [
      "# Catalogue source: extfile:triumvirate/tests/test_input/catalogues/test_catalogue_sim.dat\n",
      "# Catalogue size: 999907 particles of total weight 999907.000\n",
      "# Catalogue particle extents: ([0.000, 1000.000], [0.000, 999.998], [0.004, 999.998])\n",
      "# Box size: (1000.000, 1000.000, 1000.000)\n",
      "# Box alignment: centre\n",
      "# Mesh number: (256, 256, 256)\n",
      "# Mesh assignment and interlacing: cic, false\n",
      "# Normalisation factor: 1.000186e-03 (particle-based, used), 7.623899e-05 (mesh-based, alternative)\n",
      "# [0] k_cen, [1] k_eff, [2] nmodes, [3] Re{pk0_raw}, [4] Im{pk0_raw}, [5] Re{pk0_shot}, [6] Im{pk0_shot}\n",
      "1.000000000e-02\t1.149964290e-02\t5.600000000e+01\t4.454522927e+04\t0.000000000e+00\t1.000093009e+03\t0.000000000e+00\n",
      "2.000000000e-02\t2.047114034e-02\t1.940000000e+02\t5.275358886e+04\t0.000000000e+00\t1.000093009e+03\t0.000000000e+00\n",
      "3.000000000e-02\t3.052421724e-02\t4.880000000e+02\t4.210557214e+04\t0.000000000e+00\t1.000093009e+03\t0.000000000e+00\n",
      "4.000000000e-02\t4.062536317e-02\t8.120000000e+02\t3.236776854e+04\t0.000000000e+00\t1.000093009e+03\t0.000000000e+00\n",
      "5.000000000e-02\t5.033378732e-02\t1.250000000e+03\t2.918718903e+04\t0.000000000e+00\t1.000093009e+03\t0.000000000e+00\n",
      "6.000000000e-02\t6.022876153e-02\t1.824000000e+03\t2.611630419e+04\t0.000000000e+00\t1.000093009e+03\t0.000000000e+00\n",
      "7.000000000e-02\t7.018861415e-02\t2.498000000e+03\t2.208477724e+04\t0.000000000e+00\t1.000093009e+03\t0.000000000e+00\n",
      "8.000000000e-02\t8.025683499e-02\t3.272000000e+03\t1.929573384e+04\t0.000000000e+00\t1.000093009e+03\t0.000000000e+00\n",
      "9.000000000e-02\t9.014322302e-02\t4.016000000e+03\t1.672449356e+04\t0.000000000e+00\t1.000093009e+03\t0.000000000e+00\n",
      "1.000000000e-01\t1.000819060e-01\t5.138000000e+03\t1.381548170e+04\t0.000000000e+00\t1.000093009e+03\t0.000000000e+00\n",
      "1.100000000e-01\t1.101506961e-01\t6.128000000e+03\t1.273955941e+04\t0.000000000e+00\t1.000093009e+03\t0.000000000e+00\n",
      "1.200000000e-01\t1.201395905e-01\t7.310000000e+03\t1.212590835e+04\t0.000000000e+00\t1.000093009e+03\t0.000000000e+00\n",
      "1.300000000e-01\t1.302514270e-01\t8.768000000e+03\t1.057816326e+04\t0.000000000e+00\t1.000093009e+03\t0.000000000e+00\n",
      "1.400000000e-01\t1.402255360e-01\t9.728000000e+03\t1.016828629e+04\t0.000000000e+00\t1.000093009e+03\t0.000000000e+00\n",
      "1.500000000e-01\t1.500431435e-01\t1.125800000e+04\t9.123005279e+03\t0.000000000e+00\t1.000093009e+03\t0.000000000e+00\n",
      "1.600000000e-01\t1.600857896e-01\t1.318400000e+04\t8.284726513e+03\t0.000000000e+00\t1.000093009e+03\t0.000000000e+00\n",
      "1.700000000e-01\t1.700974570e-01\t1.452200000e+04\t7.750088618e+03\t0.000000000e+00\t1.000093009e+03\t0.000000000e+00\n",
      "1.800000000e-01\t1.800864483e-01\t1.651200000e+04\t7.272131066e+03\t0.000000000e+00\t1.000093009e+03\t0.000000000e+00\n",
      "1.900000000e-01\t1.899910505e-01\t1.786400000e+04\t7.146711096e+03\t0.000000000e+00\t1.000093009e+03\t0.000000000e+00\n",
      "2.000000000e-01\t1.999079256e-01\t2.034200000e+04\t6.678913693e+03\t0.000000000e+00\t1.000093009e+03\t0.000000000e+00\n",
      "\n"
     ]
    }
   ],
   "source": [
    "with open(\"triumvirate/tests/test_output/pk0_jnote.txt\", 'r') as measurement_file:\n",
    "    measurement_fstream = measurement_file.readlines()\n",
    "    print(\"\".join(measurement_fstream))"
   ]
  }
 ],
 "metadata": {
  "kernelspec": {
   "display_name": "cosmo",
   "language": "python",
   "name": "python3"
  },
  "language_info": {
   "codemirror_mode": {
    "name": "ipython",
    "version": 3
   },
   "file_extension": ".py",
   "mimetype": "text/x-python",
   "name": "python",
   "nbconvert_exporter": "python",
   "pygments_lexer": "ipython3",
   "version": "3.8.10"
  },
  "vscode": {
   "interpreter": {
    "hash": "4a7a1cba6a5ad1075172442d744886e76565787fe92f2df44113e5c941b518c1"
   }
  }
 },
 "nbformat": 4,
 "nbformat_minor": 2
}
