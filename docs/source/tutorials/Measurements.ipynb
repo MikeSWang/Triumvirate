{
 "cells": [
  {
   "attachments": {},
   "cell_type": "markdown",
   "metadata": {},
   "source": [
    "# Clustering Measurements"
   ]
  },
  {
   "attachments": {},
   "cell_type": "markdown",
   "metadata": {},
   "source": [
    "{{ Triumvirate }} provides the algorithms for computing clustering statistics\n",
    "in both Fourier and configuration space and in both local and global\n",
    "plane-parallel approximations (see [Background](../background.rst) for\n",
    "details).\n",
    "\n",
    "The usage of these measurement algorithms is all very similar, so as\n",
    "an example we will mainly consider the bispectrum measurement below, and\n",
    "briefly mention the differences for other measurements."
   ]
  },
  {
   "cell_type": "code",
   "execution_count": 1,
   "metadata": {},
   "outputs": [],
   "source": [
    "from triumvirate.threept import compute_bispec"
   ]
  },
  {
   "attachments": {},
   "cell_type": "markdown",
   "metadata": {},
   "source": [
    "## Ingredients"
   ]
  },
  {
   "attachments": {},
   "cell_type": "markdown",
   "metadata": {},
   "source": [
    "There are a number of inputs for measurements:\n",
    "\n",
    "  - catalogue objects (as {py:class}`~triumvirate.catalogue.ParticleCatalogue`;\n",
    "    see also [Particle Catalogue](./Catalogue.ipynb));\n",
    "    \n",
    "  - measurement parameters (as {py:class}`~triumvirate.parameters.ParameterSet`\n",
    "    or passed/overridden by keyword arguments; see also\n",
    "    [Parameter Set](./Parameters.ipynb));\n",
    "    \n",
    "  - optional logger (as {py:class}`logging.Logger`; see also\n",
    "    [Customised Logger](./Logger.ipynb))."
   ]
  },
  {
   "attachments": {},
   "cell_type": "markdown",
   "metadata": {},
   "source": [
    "We will reuse `trv_logger`, `parameter_set` and  `binning` created in the\n",
    "[Customised Logger](./Logger.ipynb), [Parameter Set](./Parameters.ipynb)\n",
    "and [Binnig Scheme](./Binning.ipynb) tutorials as inputs."
   ]
  },
  {
   "cell_type": "code",
   "execution_count": 2,
   "metadata": {
    "tags": [
     "remove-cell"
    ]
   },
   "outputs": [
    {
     "name": "stdout",
     "output_type": "stream",
     "text": [
      "[2025-04-13 23:44:37 (+00:00:00) \u001b[0;34mSTAT\u001b[0m C++] Parameters validated.\n"
     ]
    }
   ],
   "source": [
    "from triumvirate.logger import setup_logger\n",
    "from triumvirate.parameters import ParameterSet\n",
    "from triumvirate.dataobjs import Binning\n",
    "\n",
    "# Demo logger\n",
    "trv_logger = setup_logger()\n",
    "\n",
    "# Demo parameter set\n",
    "try:\n",
    "    parameter_set = ParameterSet(param_filepath=\"parameter_template.yml\")\n",
    "except OSError:\n",
    "    from triumvirate.parameters import fetch_paramset_template\n",
    "\n",
    "    parameter_dict = fetch_paramset_template('dict')\n",
    "\n",
    "    for ax_name in ['x', 'y', 'z']:\n",
    "        parameter_dict['boxsize'][ax_name] = 1000.\n",
    "        parameter_dict['ngrid'][ax_name] = 64\n",
    "\n",
    "    parameter_dict.update({\n",
    "        'catalogue_type': 'sim',\n",
    "        'statistic_type': 'bispec',\n",
    "        'degrees'       : {'ell1': 0, 'ell2': 0, 'ELL': 0},\n",
    "        'range'         : [0.005, 0.105],\n",
    "        'num_bins'      : 10,\n",
    "    })\n",
    "\n",
    "    parameter_set = ParameterSet(param_dict=parameter_dict)\n",
    "\n",
    "# Demo binning\n",
    "binning = Binning('fourier', 'lin', bin_min=0.005, bin_max=0.105, num_bins=10)"
   ]
  },
  {
   "attachments": {},
   "cell_type": "markdown",
   "metadata": {},
   "source": [
    "In addition, we have used ``nbodykit`` to produce three types of\n",
    "mock catalogues:\n",
    "\n",
    "- The first is a simulation-like log-normal catalogue `catalogue_sim`\n",
    "  in a cubic box of size $L = 1000\\,h^{-1}\\,\\mathrm{Mpc}$ with number density\n",
    "  $\\bar{n} = 5 \\times 10^{-4} \\,h^3\\,\\mathrm{Mpc}^{-3}$. The input cosmological\n",
    "  parameters are $h = 0.6736, \\Omega_{\\mathrm{CDM},0} = 0.2645, \n",
    "  \\Omega_{\\mathrm{b},0} = 0.04930, A_s = 2.083 \\times 10^{-9}$ and\n",
    "  $n_s = 0.9649$, and the linear power spectrum at redshift $z = 1$ with\n",
    "  linear tracer bias $b_1 = 2$ is used.\n",
    "\n",
    "- The second is a survey-like catalogue `catalogue_survey` based on\n",
    "  the simulation-like one, with the catalogue cut to the inscribing sphere of\n",
    "  radius $L/2$ inside the cubic box.\n",
    "\n",
    "- The third is a uniform random catalogue `catalogue_rand` with\n",
    "  number density $5 \\bar{n}$ in the same spherical volume as\n",
    "  the survey-like one.\n",
    "\n",
    "Following the [Particle Catalogue](./Catalogue.ipynb) tutorial, these\n",
    "catalogues are instantiated as\n",
    "{py:class}`~triumvirate.catalogue.ParticleCatalogue`."
   ]
  },
  {
   "cell_type": "code",
   "execution_count": 3,
   "metadata": {
    "tags": [
     "remove-cell"
    ]
   },
   "outputs": [],
   "source": [
    "import numpy as np\n",
    "\n",
    "# Catalogue selectors\n",
    "def cut_to_sphere(coords, boxsize):\n",
    "    return np.less_equal(np.sqrt(np.sum(coords**2, axis=-1)), boxsize/2.)\n",
    "\n",
    "# Catalogue properties\n",
    "density = 5.e-4\n",
    "boxsize = 1000."
   ]
  },
  {
   "cell_type": "code",
   "execution_count": 4,
   "metadata": {
    "tags": [
     "remove-cell"
    ]
   },
   "outputs": [],
   "source": [
    "# Create simulation-like catalogue, or load if existing.\n",
    "catalogue_sim_filepath = \"mock_catalogue_sim.dat\"\n",
    "\n",
    "try:\n",
    "    catalogue_sim = np.loadtxt(\n",
    "        catalogue_sim_filepath,\n",
    "        dtype=[(axis, np.float64) for axis in ['x', 'y', 'z']]\n",
    "    )\n",
    "except FileNotFoundError:\n",
    "    from nbodykit.cosmology import Cosmology, LinearPower\n",
    "    from nbodykit.lab import LogNormalCatalog\n",
    "\n",
    "    # Cosmology, matter power spectrum and bias at given redshift\n",
    "    cosmo = Cosmology(\n",
    "        h=0.6736, Omega0_b=0.04930, Omega0_cdm=0.2645,\n",
    "        A_s=2.083e-09, n_s=0.9649\n",
    "    )\n",
    "    redshift = 1.\n",
    "    bias = 2.\n",
    "\n",
    "    powspec = LinearPower(cosmo, redshift)\n",
    "\n",
    "    catalogue_sim = LogNormalCatalog(\n",
    "        powspec, density, boxsize, bias=bias, Nmesh=256, seed=42\n",
    "    )\n",
    "    catalogue_sim['Position'] -= boxsize/2.\n",
    "\n",
    "    np.savetxt(catalogue_sim_filepath, catalogue_sim['Position'].compute())"
   ]
  },
  {
   "cell_type": "code",
   "execution_count": 5,
   "metadata": {
    "tags": [
     "remove-cell"
    ]
   },
   "outputs": [],
   "source": [
    "# Create survey-like catalogue.\n",
    "try:\n",
    "    catalogue_survey = catalogue_sim[\n",
    "        cut_to_sphere(catalogue_sim['Position'], boxsize).compute()\n",
    "    ]\n",
    "except (IndexError, ValueError):\n",
    "    catalogue_survey = catalogue_sim[\n",
    "        cut_to_sphere(\n",
    "            catalogue_sim[['x', 'y', 'z']]\n",
    "            .view(np.float64).reshape(len(catalogue_sim), 3),\n",
    "            boxsize\n",
    "        )\n",
    "    ]"
   ]
  },
  {
   "cell_type": "code",
   "execution_count": 6,
   "metadata": {
    "tags": [
     "remove-cell"
    ]
   },
   "outputs": [],
   "source": [
    "# Create random catalogue, or load if existing.\n",
    "catalogue_rand_filepath = \"mock_catalogue_rand.dat\"\n",
    "\n",
    "try:\n",
    "    catalogue_rand = np.loadtxt(\n",
    "        catalogue_rand_filepath,\n",
    "        dtype=[(axis, np.float64) for axis in ['x', 'y', 'z']]\n",
    "    )\n",
    "except FileNotFoundError:\n",
    "    from nbodykit.lab import UniformCatalog\n",
    "    catalogue_rand = UniformCatalog(5*density, boxsize, seed=42)\n",
    "    catalogue_rand['Position'] -= boxsize/2.\n",
    "    catalogue_rand = catalogue_rand[\n",
    "        cut_to_sphere(catalogue_rand['Position'], boxsize).compute()\n",
    "    ]\n",
    "    np.savetxt(catalogue_rand_filepath, catalogue_rand['Position'].compute())"
   ]
  },
  {
   "cell_type": "code",
   "execution_count": 7,
   "metadata": {
    "tags": [
     "remove-cell"
    ]
   },
   "outputs": [],
   "source": [
    "import warnings\n",
    "from triumvirate.catalogue import ParticleCatalogue\n",
    "\n",
    "warnings.filterwarnings('ignore', message=\".*'nz' field.*\")\n",
    "\n",
    "catalogue_sim = ParticleCatalogue(\n",
    "    *[catalogue_sim[coord_axis] for coord_axis in ['x', 'y', 'z']]\n",
    ")\n",
    "catalogue_survey = ParticleCatalogue(\n",
    "    *[catalogue_survey[coord_axis] for coord_axis in ['x', 'y', 'z']],\n",
    "    nz=density\n",
    ")\n",
    "catalogue_rand = ParticleCatalogue(\n",
    "    *[catalogue_rand[coord_axis] for coord_axis in ['x', 'y', 'z']],\n",
    "    nz=density\n",
    ")"
   ]
  },
  {
   "attachments": {},
   "cell_type": "markdown",
   "metadata": {},
   "source": [
    "## Measurements"
   ]
  },
  {
   "attachments": {},
   "cell_type": "markdown",
   "metadata": {},
   "source": [
    "Having specified all the inputs, measurements can be made by simply passing\n",
    "them as arguments to the relevant function:"
   ]
  },
  {
   "cell_type": "code",
   "execution_count": 8,
   "metadata": {},
   "outputs": [
    {
     "name": "stdout",
     "output_type": "stream",
     "text": [
      "[2025-04-13 23:44:38 (+00:00:01) \u001b[1;34mSTAT\u001b[0m] Parameter set have been initialised.\n",
      "[2025-04-13 23:44:38 (+00:00:01) \u001b[0;34mSTAT\u001b[0m C++] Parameters validated.\n",
      "[2025-04-13 23:44:38 (+00:00:01) \u001b[1;34mSTAT\u001b[0m] Binning has been initialised.\n",
      "[2025-04-13 23:44:38 (+00:00:01) \u001b[1;34mSTAT\u001b[0m] Lines of sight have been initialised.\n",
      "[2025-04-13 23:44:38 (+00:00:01) \u001b[1;34mSTAT\u001b[0m] Catalogues have been aligned.\n",
      "[2025-04-13 23:44:38 (+00:00:01) \u001b[1;34mSTAT\u001b[0m] Preparing catalogue for clustering algorithm... (entering C++)\n",
      "[2025-04-13 23:44:39 (+00:00:01) \u001b[0;32mINFO\u001b[0m C++] Catalogue loaded: ntotal = 259444, wtotal = 259444.000, wstotal = 259444.000 (source=extdata).\n",
      "[2025-04-13 23:44:39 (+00:00:01) \u001b[0;32mINFO\u001b[0m C++] Extents of particle coordinates: {'x': (2.438, 998.884 | 996.446), 'y': (0.879, 998.351 | 997.472), 'z': (0.364, 998.843 | 998.478)} (source=extdata).\n",
      "[2025-04-13 23:44:39 (+00:00:01) \u001b[0;32mINFO\u001b[0m C++] Catalogue loaded: ntotal = 1308287, wtotal = 1308287.000, wstotal = 1308287.000 (source=extdata).\n",
      "[2025-04-13 23:44:39 (+00:00:01) \u001b[1;34mSTAT\u001b[0m] ... prepared catalogue for clustering algorithm. (exited C++)\n",
      "[2025-04-13 23:44:39 (+00:00:01) \u001b[0;32mINFO\u001b[0m C++] Extents of particle coordinates: {'x': (0.604, 999.396 | 998.792), 'y': (0.630, 999.370 | 998.740), 'z': (0.426, 999.574 | 999.147)} (source=extdata).\n",
      "[2025-04-13 23:44:39 (+00:00:01) \u001b[1;32mINFO\u001b[0m] Alpha contrast: 1.983082e-01.\n",
      "[2025-04-13 23:44:39 (+00:00:01) \u001b[1;32mINFO\u001b[0m] Normalisation factors: 1.541759e+01 (particle; used), 1.550956e+01 (mesh), 0.000000e+00 (mesh-mixed; n/a).\n",
      "[2025-04-13 23:44:39 (+00:00:01) \u001b[1;34mSTAT\u001b[0m] Measuring bispectrum from paired survey-type catalogues in the local plane-parallel approximation... (entering C++)\n",
      "[2025-04-13 23:44:42 (+00:00:04) \u001b[1;34mSTAT\u001b[0m] ... measured bispectrum from paired survey-type catalogues in the local plane-parallel approximation. (exited C++)\n",
      "[2025-04-13 23:44:40 (+00:00:02) \u001b[0;34mSTAT\u001b[0m C++] Computing bispectrum from paired survey-type catalogues...\n",
      "[2025-04-13 23:44:42 (+00:00:04) \u001b[0;34mSTAT\u001b[0m C++] Bispectrum term computed at orders (m₁, m₂, M) = ±(0, 0, 0).\n",
      "[2025-04-13 23:44:42 (+00:00:04) \u001b[0;34mSTAT\u001b[0m C++] ... computed bispectrum from paired survey-type catalogues.\n"
     ]
    }
   ],
   "source": [
    "results = compute_bispec(\n",
    "    catalogue_survey, catalogue_rand,\n",
    "    paramset=parameter_set,\n",
    "    logger=trv_logger\n",
    ")"
   ]
  },
  {
   "attachments": {},
   "cell_type": "markdown",
   "metadata": {},
   "source": [
    "### Specifying lines of sight"
   ]
  },
  {
   "attachments": {},
   "cell_type": "markdown",
   "metadata": {},
   "source": [
    "In the case above, the lines of sight are computed automatically, but one could\n",
    "supply external data arrays as replacements:"
   ]
  },
  {
   "cell_type": "code",
   "execution_count": 9,
   "metadata": {},
   "outputs": [
    {
     "name": "stdout",
     "output_type": "stream",
     "text": [
      "[2025-04-13 23:44:42 (+00:00:04) \u001b[1;34mSTAT\u001b[0m] Parameter set have been initialised.\n",
      "[2025-04-13 23:44:42 (+00:00:04) \u001b[0;34mSTAT\u001b[0m C++] Parameters validated.\n",
      "[2025-04-13 23:44:42 (+00:00:04) \u001b[1;34mSTAT\u001b[0m] Binning has been initialised.\n",
      "[2025-04-13 23:44:42 (+00:00:04) \u001b[1;34mSTAT\u001b[0m] Lines of sight have been initialised.\n",
      "[2025-04-13 23:44:42 (+00:00:04) \u001b[1;34mSTAT\u001b[0m] Catalogues have been aligned.\n",
      "[2025-04-13 23:44:42 (+00:00:04) \u001b[1;34mSTAT\u001b[0m] Preparing catalogue for clustering algorithm... (entering C++)\n",
      "[2025-04-13 23:44:42 (+00:00:04) \u001b[0;32mINFO\u001b[0m C++] Catalogue loaded: ntotal = 259444, wtotal = 259444.000, wstotal = 259444.000 (source=extdata).\n",
      "[2025-04-13 23:44:42 (+00:00:04) \u001b[0;32mINFO\u001b[0m C++] Extents of particle coordinates: {'x': (2.438, 998.884 | 996.446), 'y': (0.879, 998.351 | 997.472), 'z': (0.364, 998.843 | 998.478)} (source=extdata).\n",
      "[2025-04-13 23:44:42 (+00:00:05) \u001b[0;32mINFO\u001b[0m C++] Catalogue loaded: ntotal = 1308287, wtotal = 1308287.000, wstotal = 1308287.000 (source=extdata).\n",
      "[2025-04-13 23:44:42 (+00:00:04) \u001b[1;34mSTAT\u001b[0m] ... prepared catalogue for clustering algorithm. (exited C++)\n",
      "[2025-04-13 23:44:42 (+00:00:05) \u001b[0;32mINFO\u001b[0m C++] Extents of particle coordinates: {'x': (0.604, 999.396 | 998.792), 'y': (0.630, 999.370 | 998.740), 'z': (0.426, 999.574 | 999.147)} (source=extdata).\n",
      "[2025-04-13 23:44:42 (+00:00:04) \u001b[1;32mINFO\u001b[0m] Alpha contrast: 1.983082e-01.\n",
      "[2025-04-13 23:44:42 (+00:00:04) \u001b[1;32mINFO\u001b[0m] Normalisation factors: 1.541759e+01 (particle; used), 1.550956e+01 (mesh), 0.000000e+00 (mesh-mixed; n/a).\n",
      "[2025-04-13 23:44:42 (+00:00:04) \u001b[1;34mSTAT\u001b[0m] Measuring bispectrum from paired survey-type catalogues in the local plane-parallel approximation... (entering C++)\n",
      "[2025-04-13 23:44:44 (+00:00:06) \u001b[1;34mSTAT\u001b[0m] ... measured bispectrum from paired survey-type catalogues in the local plane-parallel approximation. (exited C++)\n",
      "[2025-04-13 23:44:43 (+00:00:05) \u001b[0;34mSTAT\u001b[0m C++] Computing bispectrum from paired survey-type catalogues...\n",
      "[2025-04-13 23:44:44 (+00:00:06) \u001b[0;34mSTAT\u001b[0m C++] Bispectrum term computed at orders (m₁, m₂, M) = ±(0, 0, 0).\n",
      "[2025-04-13 23:44:44 (+00:00:06) \u001b[0;34mSTAT\u001b[0m C++] ... computed bispectrum from paired survey-type catalogues.\n"
     ]
    }
   ],
   "source": [
    "# import numpy as np\n",
    "results = compute_bispec(\n",
    "    catalogue_survey, catalogue_rand,\n",
    "    los_data=np.ones((len(catalogue_survey), 3)),\n",
    "    los_rand=np.ones((len(catalogue_rand), 3)),\n",
    "    paramset=parameter_set,\n",
    "    logger=trv_logger\n",
    ")"
   ]
  },
  {
   "attachments": {},
   "cell_type": "markdown",
   "metadata": {},
   "source": [
    "### Substituting for parameter set"
   ]
  },
  {
   "attachments": {},
   "cell_type": "markdown",
   "metadata": {},
   "source": [
    "One could also override/bypass `paramset` by passing the relevant/required\n",
    "keyword arguments. In the example below, we directly set the bispectrum\n",
    "multipole degrees and form, the binning and the mesh assignment parameters\n",
    "without a `paramset` argument; if the `paramset` argument was set, its entries\n",
    "would be overridden by these keyword arguments."
   ]
  },
  {
   "cell_type": "code",
   "execution_count": 10,
   "metadata": {},
   "outputs": [
    {
     "name": "stdout",
     "output_type": "stream",
     "text": [
      "[2025-04-13 23:44:44 (+00:00:06) \u001b[1;34mSTAT\u001b[0m] Validating parameters... (entering C++)\n",
      "[2025-04-13 23:44:44 (+00:00:06) \u001b[1;34mSTAT\u001b[0m] ... validated parameters. (exited C++)\n",
      "[2025-04-13 23:44:44 (+00:00:06) \u001b[0;34mSTAT\u001b[0m C++] Parameters validated.\n",
      "[2025-04-13 23:44:44 (+00:00:06) \u001b[1;34mSTAT\u001b[0m] Parameter set have been initialised.\n",
      "[2025-04-13 23:44:44 (+00:00:06) \u001b[1;34mSTAT\u001b[0m] Binning has been initialised.\n",
      "[2025-04-13 23:44:44 (+00:00:06) \u001b[1;34mSTAT\u001b[0m] Lines of sight have been initialised.\n",
      "[2025-04-13 23:44:44 (+00:00:06) \u001b[1;34mSTAT\u001b[0m] Catalogues have been aligned.\n",
      "[2025-04-13 23:44:44 (+00:00:06) \u001b[1;34mSTAT\u001b[0m] Preparing catalogue for clustering algorithm... (entering C++)\n",
      "[2025-04-13 23:44:44 (+00:00:06) \u001b[0;32mINFO\u001b[0m C++] Catalogue loaded: ntotal = 259444, wtotal = 259444.000, wstotal = 259444.000 (source=extdata).\n",
      "[2025-04-13 23:44:44 (+00:00:06) \u001b[1;34mSTAT\u001b[0m] ... prepared catalogue for clustering algorithm. (exited C++)\n",
      "[2025-04-13 23:44:44 (+00:00:06) \u001b[0;32mINFO\u001b[0m C++] Extents of particle coordinates: {'x': (2.438, 998.884 | 996.446), 'y': (0.879, 998.351 | 997.472), 'z': (0.364, 998.843 | 998.478)} (source=extdata).\n",
      "[2025-04-13 23:44:44 (+00:00:07) \u001b[0;32mINFO\u001b[0m C++] Catalogue loaded: ntotal = 1308287, wtotal = 1308287.000, wstotal = 1308287.000 (source=extdata).\n",
      "[2025-04-13 23:44:44 (+00:00:07) \u001b[0;32mINFO\u001b[0m C++] Extents of particle coordinates: {'x': (0.604, 999.396 | 998.792), 'y': (0.630, 999.370 | 998.740), 'z': (0.426, 999.574 | 999.147)} (source=extdata).\n",
      "[2025-04-13 23:44:44 (+00:00:06) \u001b[1;32mINFO\u001b[0m] Alpha contrast: 1.983082e-01.\n",
      "[2025-04-13 23:44:44 (+00:00:06) \u001b[1;32mINFO\u001b[0m] Normalisation factors: 1.541759e+01 (particle; used), 1.480691e+01 (mesh), 0.000000e+00 (mesh-mixed; n/a).\n",
      "[2025-04-13 23:44:44 (+00:00:06) \u001b[1;34mSTAT\u001b[0m] Measuring bispectrum from paired survey-type catalogues in the local plane-parallel approximation... (entering C++)\n",
      "[2025-04-13 23:44:45 (+00:00:07) \u001b[0;34mSTAT\u001b[0m C++] Computing bispectrum from paired survey-type catalogues...\n",
      "[2025-04-13 23:44:45 (+00:00:08) \u001b[0;34mSTAT\u001b[0m C++] Bispectrum term computed at orders (m₁, m₂, M) = ±(-1, 1, 0).\n",
      "[2025-04-13 23:44:45 (+00:00:08) \u001b[0;34mSTAT\u001b[0m C++] Bispectrum term computed at orders (m₁, m₂, M) = ±(0, 0, 0).\n",
      "[2025-04-13 23:44:45 (+00:00:08) \u001b[0;34mSTAT\u001b[0m C++] ... computed bispectrum from paired survey-type catalogues.\n",
      "[2025-04-13 23:44:45 (+00:00:08) \u001b[1;34mSTAT\u001b[0m] ... measured bispectrum from paired survey-type catalogues in the local plane-parallel approximation. (exited C++)\n"
     ]
    }
   ],
   "source": [
    "# DEMO\n",
    "# import warnings\n",
    "warnings.filterwarnings('ignore', message=\".*default values are unchanged.*\")\n",
    "\n",
    "results = compute_bispec(\n",
    "    catalogue_survey, catalogue_rand,\n",
    "    degrees=(1, 1, 0),\n",
    "    binning=binning,\n",
    "    form='row',\n",
    "    idx_bin=5,\n",
    "    sampling_params={\n",
    "        'assignment': 'cic',\n",
    "        'boxsize': [1000.,]*3,\n",
    "        'ngrid': [64,]*3\n",
    "    },\n",
    "    logger=trv_logger\n",
    ")"
   ]
  },
  {
   "attachments": {},
   "cell_type": "markdown",
   "metadata": {},
   "source": [
    "### Minor differences"
   ]
  },
  {
   "attachments": {},
   "cell_type": "markdown",
   "metadata": {},
   "source": [
    "For other measurement algorithms, the syntax is very similar except for a few\n",
    "minor differences:\n",
    "\n",
    "- For two-point statistics, the argument corresponding to `degrees`\n",
    "  above is `degree` as there is only a single multipole degree. The arguments\n",
    "  `form` and `idx_bin` do not apply.\n",
    "\n",
    "- For global plane-parallel measurements, no random catalogue is required.\n",
    "\n",
    "- For window function measurements, only the random catalogue is required.\n",
    "\n",
    "For full details, please consult the API reference\n",
    "({py:mod}`~triumvirate.twopt` and {py:mod}`~triumvirate.threept` modules)."
   ]
  },
  {
   "attachments": {},
   "cell_type": "markdown",
   "metadata": {},
   "source": [
    "## Results"
   ]
  },
  {
   "attachments": {},
   "cell_type": "markdown",
   "metadata": {},
   "source": [
    "The returned measurement results are dictionaries containing the\n",
    "raw statistic (key with suffix ``_raw``) without shot noise subtraction,\n",
    "the shot noise (key with suffix ``_shot``), the bin centres for each\n",
    "coordinate dimension (keys with suffix ``_bin``), the average/effectuve bin\n",
    "coordinates (keys with suffix ``_eff``), and the number of contributing modes\n",
    "(or analogously pairs) in each bin (key ``'nmodes'``/``'npairs'``)."
   ]
  },
  {
   "cell_type": "code",
   "execution_count": 11,
   "metadata": {},
   "outputs": [
    {
     "name": "stdout",
     "output_type": "stream",
     "text": [
      "{'bk_raw': array([-6.15401315e+08-5.96128196e-08j,  2.40744325e+08-3.20009470e-08j,\n",
      "       -2.84005114e+08+1.87229060e-09j, -1.06997676e+08+2.23534321e-09j,\n",
      "        1.94789754e+07-1.04143810e-08j,  8.29519632e+07+7.32134006e-09j,\n",
      "       -4.53112276e+06+9.17934162e-09j, -1.06546658e+08-7.62472807e-10j,\n",
      "       -6.84846274e+07-3.75439266e-09j, -1.14891079e+08-2.36752695e-09j]),\n",
      " 'bk_shot': array([ -5212454.29561975+5.75197972e-10j,\n",
      "        -8944908.64663568+1.06710274e-09j,\n",
      "       -15387868.79029874+1.87692160e-09j,\n",
      "       -17045970.26450608+2.07324903e-09j,\n",
      "       -21370062.42415106+2.49607964e-09j,\n",
      "       -13373351.34139535+1.50754375e-09j,\n",
      "       -19646302.14048065+2.31487097e-09j,\n",
      "       -16373586.94542564+1.98468654e-09j,\n",
      "       -14739949.18356972+1.77008608e-09j,\n",
      "       -12282473.11528281+1.46574486e-09j]),\n",
      " 'k1_bin': array([0.06, 0.06, 0.06, 0.06, 0.06, 0.06, 0.06, 0.06, 0.06, 0.06]),\n",
      " 'k1_eff': array([0.06040971, 0.06040971, 0.06040971, 0.06040971, 0.06040971,\n",
      "       0.06040971, 0.06040971, 0.06040971, 0.06040971, 0.06040971]),\n",
      " 'k2_bin': array([0.01, 0.02, 0.03, 0.04, 0.05, 0.06, 0.07, 0.08, 0.09, 0.1 ]),\n",
      " 'k2_eff': array([0.01149964, 0.02047114, 0.03052422, 0.04062536, 0.05033379,\n",
      "       0.06040971, 0.07034279, 0.08025683, 0.09014322, 0.10008191]),\n",
      " 'nmodes_1': array([1896, 1896, 1896, 1896, 1896, 1896, 1896, 1896, 1896, 1896]),\n",
      " 'nmodes_2': array([  56,  194,  488,  812, 1250, 1896, 2426, 3272, 4016, 5138])}\n"
     ]
    }
   ],
   "source": [
    "# DEMO\n",
    "from pprint import pprint\n",
    "pprint(results)"
   ]
  },
  {
   "attachments": {},
   "cell_type": "markdown",
   "metadata": {},
   "source": [
    "### Saving to files"
   ]
  },
  {
   "attachments": {},
   "cell_type": "markdown",
   "metadata": {},
   "source": [
    "In the algorithmic function for each type of measurement, if one sets\n",
    "``save='.txt'`` or ``save='.npz'``, the results as a dictionary will be\n",
    "automatically saved to a file in either ``.txt`` or ``.npz`` format.\n",
    "\n",
    "If the `paramset` argument is set to a\n",
    "{py:class}`~triumvirate.parameters.ParameterSet` object, the output directory\n",
    "will be ``paramset['directories']['measurements']`` (an empty output directory\n",
    "path points to the current working directory), and the string\n",
    "``paramset['tags']['output']`` will be appended to the file name before\n",
    "the extension suffix.\n",
    "\n",
    "This is demonstrated below for a global plane-parallel power spectrum\n",
    "measurement:"
   ]
  },
  {
   "cell_type": "code",
   "execution_count": 12,
   "metadata": {},
   "outputs": [
    {
     "name": "stdout",
     "output_type": "stream",
     "text": [
      "[2025-04-13 23:44:45 (+00:00:08) \u001b[1;34mSTAT\u001b[0m] Parameter set have been initialised.\n",
      "[2025-04-13 23:44:45 (+00:00:08) \u001b[0;34mSTAT\u001b[0m C++] Parameters validated.\n",
      "[2025-04-13 23:44:45 (+00:00:08) \u001b[0;34mSTAT\u001b[0m C++] Parameters validated.\n",
      "[2025-04-13 23:44:45 (+00:00:08) \u001b[1;34mSTAT\u001b[0m] Binning has been initialised.\n",
      "[2025-04-13 23:44:45 (+00:00:08) \u001b[1;34mSTAT\u001b[0m] Catalogue box has been periodised.\n",
      "[2025-04-13 23:44:45 (+00:00:08) \u001b[1;32mINFO\u001b[0m] Inserted missing 'nz' field based on particle count and box size.\n",
      "[2025-04-13 23:44:45 (+00:00:08) \u001b[1;34mSTAT\u001b[0m] Preparing catalogue for clustering algorithm... (entering C++)\n",
      "[2025-04-13 23:44:46 (+00:00:08) \u001b[1;34mSTAT\u001b[0m] ... prepared catalogue for clustering algorithm. (exited C++)\n",
      "[2025-04-13 23:44:46 (+00:00:08) \u001b[0;32mINFO\u001b[0m C++] Catalogue loaded: ntotal = 499214, wtotal = 499214.000, wstotal = 499214.000 (source=extdata).\n",
      "[2025-04-13 23:44:46 (+00:00:08) \u001b[0;32mINFO\u001b[0m C++] Extents of particle coordinates: {'x': (0.002, 999.998 | 999.996), 'y': (0.001, 999.999 | 999.998), 'z': (0.000, 1000.000 | 999.999)} (source=extdata).\n",
      "[2025-04-13 23:44:46 (+00:00:08) \u001b[1;32mINFO\u001b[0m] Normalisation factors: 4.012606e-03 (particle; used), 2.859493e-03 (mesh), 0.000000e+00 (mesh-mixed; n/a).\n",
      "[2025-04-13 23:44:46 (+00:00:08) \u001b[1;34mSTAT\u001b[0m] Measuring power spectrum from a simulation-box catalogue in the global plane-parallel approximation... (entering C++)\n",
      "[2025-04-13 23:44:46 (+00:00:08) \u001b[1;34mSTAT\u001b[0m] ... measured power spectrum from a simulation-box catalogue in the global plane-parallel approximation. (exited C++)\n",
      "[2025-04-13 23:44:46 (+00:00:08) \u001b[0;34mSTAT\u001b[0m C++] Computing power spectrum from a periodic-box simulation-type catalogue in the global plane-parallel approximation.\n",
      "[2025-04-13 23:44:46 (+00:00:08) \u001b[0;34mSTAT\u001b[0m C++] ... computed power spectrum from a periodic-box simulation-type catalogue in the global plane-parallel approximation.\n",
      "[2025-04-13 23:44:46 (+00:00:08) \u001b[1;32mINFO\u001b[0m] Measurements saved to pk0_demo.txt.\n"
     ]
    }
   ],
   "source": [
    "from triumvirate.twopt import compute_powspec_in_gpp_box\n",
    "\n",
    "# DEMO\n",
    "parameter_set.update(tags={'output': '_demo'})\n",
    "\n",
    "results = compute_powspec_in_gpp_box(\n",
    "    catalogue_sim,\n",
    "    degree=0, paramset=parameter_set,\n",
    "    save='.txt', logger=trv_logger\n",
    ")"
   ]
  },
  {
   "attachments": {},
   "cell_type": "markdown",
   "metadata": {},
   "source": [
    "Let's have a look at the output measurement file:"
   ]
  },
  {
   "cell_type": "code",
   "execution_count": 13,
   "metadata": {},
   "outputs": [
    {
     "name": "stdout",
     "output_type": "stream",
     "text": [
      "# Catalogue source: extdata:5120690896\n",
      "# Catalogue size: ntotal = 499214, wtotal = 499214.000, wstotal = 499214.000\n",
      "# Catalogue particle extents: ([0.002, 999.998], [0.001, 999.999], [0.000, 1000.000])\n",
      "# Box size: [1000.000, 1000.000, 1000.000]\n",
      "# Box alignment: centre\n",
      "# Mesh number: [64, 64, 64]\n",
      "# Mesh assignment and interlacing: tsc, False\n",
      "# Normalisation factor: 4.012605716e-03 (particle)\n",
      "# Normalisation factor alternatives: 4.012605716e-03 (particle), 2.859492535e-03 (mesh), 0.000000000e+00 (mesh-mixed)\n",
      "# [0] k_cen, [1] k_eff, [2] nmodes, [3] Re{pk0_raw}, [4] Im{pk0_raw}, [5] Re{pk0_shot}, [6] Im{pk0_shot}\n",
      "1.000000000e-02\t1.149964290e-02\t        56\t 3.160464462e+04\t 0.000000000e+00\t 2.003148950e+03\t 0.000000000e+00\n",
      "2.000000000e-02\t2.047114034e-02\t       194\t 3.881291755e+04\t 0.000000000e+00\t 2.003148950e+03\t 0.000000000e+00\n",
      "3.000000000e-02\t3.052421724e-02\t       488\t 2.746437066e+04\t 0.000000000e+00\t 2.003148950e+03\t 0.000000000e+00\n",
      "4.000000000e-02\t4.062536317e-02\t       812\t 2.298652981e+04\t 0.000000000e+00\t 2.003148950e+03\t 0.000000000e+00\n",
      "5.000000000e-02\t5.033378732e-02\t      1250\t 2.007483268e+04\t 0.000000000e+00\t 2.003148950e+03\t 0.000000000e+00\n",
      "6.000000000e-02\t6.040971138e-02\t      1896\t 1.820294440e+04\t 0.000000000e+00\t 2.003148950e+03\t 0.000000000e+00\n",
      "7.000000000e-02\t7.034278912e-02\t      2426\t 1.563805032e+04\t 0.000000000e+00\t 2.003148950e+03\t 0.000000000e+00\n",
      "8.000000000e-02\t8.025683499e-02\t      3272\t 1.336728653e+04\t 0.000000000e+00\t 2.003148950e+03\t 0.000000000e+00\n",
      "9.000000000e-02\t9.014322302e-02\t      4016\t 1.174269671e+04\t 0.000000000e+00\t 2.003148950e+03\t 0.000000000e+00\n",
      "1.000000000e-01\t1.000819060e-01\t      5138\t 1.017119060e+04\t 0.000000000e+00\t 2.003148950e+03\t 0.000000000e+00\n",
      "\n"
     ]
    }
   ],
   "source": [
    "# DEMO\n",
    "with open(\"pk0_demo.txt\", 'r') as results_file:\n",
    "    print(results_file.read())"
   ]
  },
  {
   "attachments": {},
   "cell_type": "markdown",
   "metadata": {},
   "source": [
    "We see that a header with summary information about the input parameters and\n",
    "data as well as some intermediary results has also been included in the\n",
    "saved file.\n",
    "\n",
    "Analogously, with the ``save='.npz'`` output format, we would have"
   ]
  },
  {
   "cell_type": "code",
   "execution_count": 14,
   "metadata": {
    "tags": [
     "remove-cell"
    ]
   },
   "outputs": [
    {
     "name": "stdout",
     "output_type": "stream",
     "text": [
      "[2025-04-13 23:44:46 (+00:00:08) \u001b[1;34mSTAT\u001b[0m] Parameter set have been initialised.\n",
      "[2025-04-13 23:44:46 (+00:00:08) \u001b[0;34mSTAT\u001b[0m C++] Parameters validated.\n",
      "[2025-04-13 23:44:46 (+00:00:08) \u001b[1;34mSTAT\u001b[0m] Binning has been initialised.\n",
      "[2025-04-13 23:44:46 (+00:00:08) \u001b[1;34mSTAT\u001b[0m] Catalogue box has been periodised.\n",
      "[2025-04-13 23:44:46 (+00:00:08) \u001b[1;34mSTAT\u001b[0m] Preparing catalogue for clustering algorithm... (entering C++)\n",
      "[2025-04-13 23:44:46 (+00:00:08) \u001b[1;34mSTAT\u001b[0m] ... prepared catalogue for clustering algorithm. (exited C++)\n",
      "[2025-04-13 23:44:46 (+00:00:08) \u001b[0;32mINFO\u001b[0m C++] Catalogue loaded: ntotal = 499214, wtotal = 499214.000, wstotal = 499214.000 (source=extdata).\n",
      "[2025-04-13 23:44:46 (+00:00:08) \u001b[0;32mINFO\u001b[0m C++] Extents of particle coordinates: {'x': (0.002, 999.998 | 999.996), 'y': (0.001, 999.999 | 999.998), 'z': (0.000, 1000.000 | 999.999)} (source=extdata).\n",
      "[2025-04-13 23:44:46 (+00:00:08) \u001b[1;32mINFO\u001b[0m] Normalisation factors: 4.012606e-03 (particle; used), 2.859493e-03 (mesh), 0.000000e+00 (mesh-mixed; n/a).\n",
      "[2025-04-13 23:44:46 (+00:00:08) \u001b[1;34mSTAT\u001b[0m] Measuring power spectrum from a simulation-box catalogue in the global plane-parallel approximation... (entering C++)\n",
      "[2025-04-13 23:44:46 (+00:00:08) \u001b[0;34mSTAT\u001b[0m C++] Computing power spectrum from a periodic-box simulation-type catalogue in the global plane-parallel approximation.\n",
      "[2025-04-13 23:44:46 (+00:00:08) \u001b[0;34mSTAT\u001b[0m C++] ... computed power spectrum from a periodic-box simulation-type catalogue in the global plane-parallel approximation.\n",
      "[2025-04-13 23:44:46 (+00:00:08) \u001b[1;34mSTAT\u001b[0m] ... measured power spectrum from a simulation-box catalogue in the global plane-parallel approximation. (exited C++)\n",
      "[2025-04-13 23:44:46 (+00:00:08) \u001b[1;32mINFO\u001b[0m] Measurements saved to pk0_demo.npz.\n"
     ]
    }
   ],
   "source": [
    "results = compute_powspec_in_gpp_box(\n",
    "    catalogue_sim,\n",
    "    degree=0, paramset=parameter_set,\n",
    "    save='.npz', logger=trv_logger\n",
    ")"
   ]
  },
  {
   "cell_type": "code",
   "execution_count": 15,
   "metadata": {},
   "outputs": [
    {
     "name": "stdout",
     "output_type": "stream",
     "text": [
      "Catalogue source: extdata:5120690896\n",
      "Catalogue size: ntotal = 499214, wtotal = 499214.000, wstotal = 499214.000\n",
      "Catalogue particle extents: ([0.002, 999.998], [0.001, 999.999], [0.000, 1000.000])\n",
      "Box size: [1000.000, 1000.000, 1000.000]\n",
      "Box alignment: centre\n",
      "Mesh number: [64, 64, 64]\n",
      "Mesh assignment and interlacing: tsc, False\n",
      "Normalisation factor: 4.012605716e-03 (particle)\n",
      "Normalisation factor alternatives: 4.012605716e-03 (particle), 2.859492535e-03 (mesh), 0.000000000e+00 (mesh-mixed)\n",
      "[0] k_cen, [1] k_eff, [2] nmodes, [3] Re{pk0_raw}, [4] Im{pk0_raw}, [5] Re{pk0_shot}, [6] Im{pk0_shot}\n"
     ]
    }
   ],
   "source": [
    "# DEMO\n",
    "with np.load(\"pk0_demo.npz\", allow_pickle=True) as results_file:\n",
    "    print(results_file['header'])"
   ]
  },
  {
   "cell_type": "code",
   "execution_count": 16,
   "metadata": {
    "tags": [
     "remove-cell"
    ]
   },
   "outputs": [],
   "source": [
    "# Hide cell.\n",
    "!rm -r pk0_demo.*"
   ]
  }
 ],
 "metadata": {
  "kernelspec": {
   "display_name": "dev-trv",
   "language": "python",
   "name": "python3"
  },
  "language_info": {
   "codemirror_mode": {
    "name": "ipython",
    "version": 3
   },
   "file_extension": ".py",
   "mimetype": "text/x-python",
   "name": "python",
   "nbconvert_exporter": "python",
   "pygments_lexer": "ipython3",
   "version": "3.12.7"
  }
 },
 "nbformat": 4,
 "nbformat_minor": 2
}
