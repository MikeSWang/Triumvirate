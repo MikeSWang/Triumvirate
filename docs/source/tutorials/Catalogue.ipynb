{
 "cells": [
  {
   "attachments": {},
   "cell_type": "markdown",
   "metadata": {},
   "source": [
    "# Particle Catalogues"
   ]
  },
  {
   "attachments": {},
   "cell_type": "markdown",
   "metadata": {},
   "source": [
    "The core input data for clustering statistics are particle catalogues\n",
    "which are implemented in ``Triumvirate`` as the\n",
    "{py:class}`~triumvirate.catalogue.ParticleCatalogue` class."
   ]
  },
  {
   "cell_type": "code",
   "execution_count": 1,
   "metadata": {},
   "outputs": [],
   "source": [
    "from triumvirate.catalogue import ParticleCatalogue"
   ]
  },
  {
   "attachments": {},
   "cell_type": "markdown",
   "metadata": {},
   "source": [
    "## Initialisation"
   ]
  },
  {
   "attachments": {},
   "cell_type": "markdown",
   "metadata": {},
   "source": [
    "A {py:class}`~triumvirate.catalogue.ParticleCatalogue` object can be\n",
    "initialised either from existing data arrays or from an external file."
   ]
  },
  {
   "attachments": {},
   "cell_type": "markdown",
   "metadata": {},
   "source": [
    "### From data arrays"
   ]
  },
  {
   "attachments": {},
   "cell_type": "markdown",
   "metadata": {},
   "source": [
    "Let's first create some mock data arrays as the particle Cartesian\n",
    "coordinates and weights in the catalogue object:"
   ]
  },
  {
   "cell_type": "code",
   "execution_count": 2,
   "metadata": {},
   "outputs": [],
   "source": [
    "# For demo only: create mock data arrays.\n",
    "import numpy as np\n",
    "rng = np.random.default_rng(seed=42)\n",
    "\n",
    "nparticles = 100  # 100 particles\n",
    "boxsize = 100.    # 100. [Mpc/h] boxsize\n",
    "\n",
    "x, y, z = rng.uniform(0., boxsize, size=(3, nparticles))\n",
    "nz = nparticles / boxsize**3\n",
    "ws = rng.uniform(0., 2., size=nparticles)\n",
    "wc = np.ones(nparticles)"
   ]
  },
  {
   "attachments": {},
   "cell_type": "markdown",
   "metadata": {},
   "source": [
    "Now pass these mock data arrays to initialise a particle catalogue with\n",
    "Cartesian coordinates `x`, `y` and `z`, sample weights `ws` (a combination\n",
    "of weights to correct for e.g. imaging systematics, fibre collision and\n",
    "completeness), and clustering weights `wc` (e.g. Feldman--Kaiser--Peacock\n",
    "weights). The redshift-dependent background density is set to a constant\n",
    "value `nz`."
   ]
  },
  {
   "cell_type": "code",
   "execution_count": 3,
   "metadata": {},
   "outputs": [],
   "source": [
    "catalogue = ParticleCatalogue(x, y, z, nz=nz, ws=ws, wc=wc)"
   ]
  },
  {
   "attachments": {},
   "cell_type": "markdown",
   "metadata": {},
   "source": [
    "### From an external file"
   ]
  },
  {
   "attachments": {},
   "cell_type": "markdown",
   "metadata": {},
   "source": [
    "For the purpose of demonstration,  We shall reuse the mock data arrays above "
   ]
  },
  {
   "cell_type": "code",
   "execution_count": null,
   "metadata": {},
   "outputs": [],
   "source": []
  }
 ],
 "metadata": {
  "kernelspec": {
   "display_name": "cosmo",
   "language": "python",
   "name": "cosmo"
  },
  "language_info": {
   "codemirror_mode": {
    "name": "ipython",
    "version": 3
   },
   "file_extension": ".py",
   "mimetype": "text/x-python",
   "name": "python",
   "nbconvert_exporter": "python",
   "pygments_lexer": "ipython3",
   "version": "3.8.10"
  },
  "orig_nbformat": 4,
  "vscode": {
   "interpreter": {
    "hash": "e7370f93d1d0cde622a1f8e1c04877d8463912d04d973331ad4851f04de6915a"
   }
  }
 },
 "nbformat": 4,
 "nbformat_minor": 2
}
