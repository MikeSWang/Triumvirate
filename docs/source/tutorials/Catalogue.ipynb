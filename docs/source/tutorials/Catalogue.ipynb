{
 "cells": [
  {
   "attachments": {},
   "cell_type": "markdown",
   "metadata": {},
   "source": [
    "# Particle Catalogue"
   ]
  },
  {
   "attachments": {},
   "cell_type": "markdown",
   "metadata": {},
   "source": [
    "The core input data for clustering statistics are particle catalogues\n",
    "which are implemented in {{ Triumvirate }} as the\n",
    "{py:class}`~triumvirate.catalogue.ParticleCatalogue` class."
   ]
  },
  {
   "cell_type": "code",
   "execution_count": 1,
   "metadata": {},
   "outputs": [],
   "source": [
    "from triumvirate.catalogue import ParticleCatalogue"
   ]
  },
  {
   "attachments": {},
   "cell_type": "markdown",
   "metadata": {},
   "source": [
    "## Initialisation"
   ]
  },
  {
   "attachments": {},
   "cell_type": "markdown",
   "metadata": {},
   "source": [
    "A {py:class}`~triumvirate.catalogue.ParticleCatalogue` object can be\n",
    "initialised either from existing data arrays or from an external file."
   ]
  },
  {
   "attachments": {},
   "cell_type": "markdown",
   "metadata": {},
   "source": [
    "### From data arrays"
   ]
  },
  {
   "attachments": {},
   "cell_type": "markdown",
   "metadata": {},
   "source": [
    "Let's first create some mock data arrays as the particle Cartesian\n",
    "coordinates and weights in the catalogue object:"
   ]
  },
  {
   "cell_type": "code",
   "execution_count": 2,
   "metadata": {},
   "outputs": [],
   "source": [
    "# DEMO: create mock data arrays from a fixed random seed.\n",
    "\n",
    "import numpy as np\n",
    "rng = np.random.default_rng(seed=42)\n",
    "\n",
    "nparticles = 100  # number of particles\n",
    "boxsize = 100.    # boxsize (in Mpc/h)\n",
    "\n",
    "x, y, z = rng.uniform(0., boxsize, size=(3, nparticles))  # Cartesian coords.\n",
    "nz = nparticles / boxsize**3                              # background density\n",
    "ws = rng.uniform(0., 2., size=nparticles)                 # sample weight\n",
    "wc = np.ones(nparticles)                                  # clustering weight"
   ]
  },
  {
   "attachments": {},
   "cell_type": "markdown",
   "metadata": {},
   "source": [
    "Now pass these mock data arrays to initialise a particle catalogue with\n",
    "Cartesian coordinates `x`, `y` and `z`, sample weight `ws` (a combination\n",
    "of weights to correct for e.g. imaging systematics, fibre collision and\n",
    "completeness), and clustering weight `wc` (e.g. Feldman--Kaiser--Peacock-type\n",
    "weights) (see also the [note](sample_and_clustering_weights) here).\n",
    "The redshift-dependent background density is set to a constant\n",
    "mean value `nz`."
   ]
  },
  {
   "cell_type": "code",
   "execution_count": 3,
   "metadata": {},
   "outputs": [],
   "source": [
    "catalogue = ParticleCatalogue(x, y, z, nz=nz, ws=ws, wc=wc)"
   ]
  },
  {
   "attachments": {},
   "cell_type": "markdown",
   "metadata": {},
   "source": [
    "(spare-catalogue)=\n",
    "By default, if `ws` or `wc` is not provided, they are set to unity. If\n",
    "`nz` is not provided, a warning message is displayed."
   ]
  },
  {
   "cell_type": "code",
   "execution_count": 4,
   "metadata": {},
   "outputs": [
    {
     "name": "stdout",
     "output_type": "stream",
     "text": [
      "Caught warning: Catalogue 'nz' field is None and thus set to zero, which may raise errors in some computations.\n",
      "'ws' weights set to default value 1: True\n",
      "'wc' weights set to default value 1: True\n"
     ]
    }
   ],
   "source": [
    "# DEMO: verify a warning message is shown and the default weights\n",
    "# are unity.\n",
    "\n",
    "import warnings\n",
    "\n",
    "with warnings.catch_warnings(record=True) as unset_warnings:\n",
    "    warnings.filterwarnings('default', category=UserWarning)\n",
    "    catalogue_ = ParticleCatalogue(x, y, z)\n",
    "    print(\"Caught warning:\", unset_warnings[-1].message)\n",
    "\n",
    "print(\"'ws' weights set to default value 1:\", np.allclose(catalogue_['ws'], 1.))\n",
    "print(\"'wc' weights set to default value 1:\", np.allclose(catalogue_['wc'], 1.))"
   ]
  },
  {
   "attachments": {},
   "cell_type": "markdown",
   "metadata": {},
   "source": [
    "### From an external file"
   ]
  },
  {
   "attachments": {},
   "cell_type": "markdown",
   "metadata": {},
   "source": [
    "For the purpose of demonstration, we shall reuse the mock data arrays above by\n",
    "first saving it to a plain-text file ``\"mock_catalogue.dat\"`` in the current\n",
    "working directory."
   ]
  },
  {
   "cell_type": "code",
   "execution_count": 5,
   "metadata": {},
   "outputs": [],
   "source": [
    "# DEMO: create a mock catalogue.\n",
    "\n",
    "mock_catalogue_filepath = \"mock_catalogue.dat\"\n",
    "mock_catalogue_fields = ['x', 'y', 'z', 'nz', 'ws', 'wc']\n",
    "mock_catalogue_pdata = np.column_stack([\n",
    "    catalogue[name] for name in mock_catalogue_fields\n",
    "])\n",
    "\n",
    "np.savetxt(mock_catalogue_filepath, mock_catalogue_pdata)"
   ]
  },
  {
   "attachments": {},
   "cell_type": "markdown",
   "metadata": {},
   "source": [
    "One point of interest above is the implicit use of the\n",
    "{py:meth}`~triumvirate.catalogue.ParticleCatalogue.__getitem__` method,\n",
    "which returns a particle data column given the column name. (If the\n",
    "backend data type is implemented using {py:class}`astropy.table.Table`,\n",
    "then multiple data columns are returned for a sequence of column names.)"
   ]
  },
  {
   "attachments": {},
   "cell_type": "markdown",
   "metadata": {},
   "source": [
    "Now we can read the saved mock catalogue file using two different 'readers':\n",
    "one based on ``astropy`` and another based on ``nbodykit`` (if installed, e.g.\n",
    "as an optional extra). These readers may require different values of the\n",
    "`format` amd `names` argument to be specified (see this\n",
    "[note](format_and_names_arguments) here)."
   ]
  },
  {
   "cell_type": "code",
   "execution_count": 6,
   "metadata": {},
   "outputs": [
    {
     "name": "stderr",
     "output_type": "stream",
     "text": [
      "/Users/mikesw/Documents/Documents/Projects/Triumvirate/src/triumvirate/catalogue.py:280: RuntimeWarning: 'astropy' is used for catalogue I/O as 'nbodykit' is unavailable\n",
      "  warnings.warn(\n"
     ]
    }
   ],
   "source": [
    "# Use the 'astropy' reader.\n",
    "catalogue_astropy = ParticleCatalogue.read_from_file(\n",
    "    mock_catalogue_filepath, reader='astropy',\n",
    "    names=mock_catalogue_fields\n",
    ")\n",
    "\n",
    "# Use the 'nbodykit' reader (if available).\n",
    "catalogue_nbodykit = ParticleCatalogue.read_from_file(\n",
    "    mock_catalogue_filepath, reader='nbodykit', format='text',\n",
    "    names=mock_catalogue_fields\n",
    ")"
   ]
  },
  {
   "cell_type": "markdown",
   "metadata": {},
   "source": [
    "```{attention}\n",
    "The mock catalogues created here are for syntax illustration only and do not\n",
    "have realistic clustering.\n",
    "```"
   ]
  },
  {
   "attachments": {},
   "cell_type": "markdown",
   "metadata": {},
   "source": [
    "## Catalogue attributes"
   ]
  },
  {
   "attachments": {},
   "cell_type": "markdown",
   "metadata": {},
   "source": [
    "{py:class}`~triumvirate.catalogue.ParticleCatalogue` has both explicit internal\n",
    "attributes and derived (external) attributes."
   ]
  },
  {
   "attachments": {},
   "cell_type": "markdown",
   "metadata": {},
   "source": [
    "### Internal properties"
   ]
  },
  {
   "attachments": {},
   "cell_type": "markdown",
   "metadata": {},
   "source": [
    "One could access the particle coordinate extents, the number of particles and\n",
    "the sum of sample weights easily:"
   ]
  },
  {
   "cell_type": "code",
   "execution_count": 7,
   "metadata": {},
   "outputs": [
    {
     "name": "stdout",
     "output_type": "stream",
     "text": [
      "Particle extents: {'x': (np.float64(0.7362269751005512), np.float64(97.5622351636756)), 'y': (np.float64(2.1612079880330426), np.float64(99.2375564055837)), 'z': (np.float64(1.3936287708201545), np.float64(97.95706805865927))}\n",
      "Particle number: 100\n",
      "Particle sample weight total: 105.24499954312556\n"
     ]
    }
   ],
   "source": [
    "print(\"Particle extents:\", catalogue.bounds)\n",
    "print(\"Particle number:\", catalogue.ntotal)\n",
    "print(\"Particle sample weight total:\", catalogue.wtotal)"
   ]
  },
  {
   "attachments": {},
   "cell_type": "markdown",
   "metadata": {},
   "source": [
    "### Derived quantities"
   ]
  },
  {
   "attachments": {},
   "cell_type": "markdown",
   "metadata": {},
   "source": [
    "**Mean number density**---One could compute the mean number density\n",
    "assuming a cubic box volume provided either directly or as box sizes, which\n",
    "is then used as the redshift-dependent background number density for\n",
    "various calculations."
   ]
  },
  {
   "cell_type": "code",
   "execution_count": 8,
   "metadata": {},
   "outputs": [
    {
     "name": "stdout",
     "output_type": "stream",
     "text": [
      "'nz' column set correctly: True\n"
     ]
    }
   ],
   "source": [
    "# Use the total cubic volume.\n",
    "catalogue.compute_mean_density(volume=boxsize**3)\n",
    "\n",
    "# Use the box size(s).\n",
    "catalogue.compute_mean_density(boxsize=boxsize)       # equivalent\n",
    "catalogue.compute_mean_density(boxsize=[boxsize,]*3)  # equivalent\n",
    "\n",
    "# DEMO: check 'nz' values.\n",
    "print(\"'nz' column set correctly:\", np.allclose(catalogue['nz'], nz))"
   ]
  },
  {
   "attachments": {},
   "cell_type": "markdown",
   "metadata": {},
   "source": [
    "```{warning}\n",
    "The invocation of this method resets the particle data column ``'nz'``.\n",
    "This method has no return value.\n",
    "```"
   ]
  },
  {
   "attachments": {},
   "cell_type": "markdown",
   "metadata": {},
   "source": [
    "**Line of sight**---A crucial quantity in clustering statistics is the\n",
    "(unit-normalised) line-of-sight vector, which can be calculated for each\n",
    "particle in the catalogue as follows:"
   ]
  },
  {
   "cell_type": "code",
   "execution_count": 9,
   "metadata": {},
   "outputs": [
    {
     "name": "stdout",
     "output_type": "stream",
     "text": [
      "Line of sight for the first two particles:\n",
      " [[0.54335988 0.63787381 0.54578112]\n",
      " [0.34410981 0.54861682 0.76197639]]\n"
     ]
    }
   ],
   "source": [
    "los = catalogue.compute_los()\n",
    "\n",
    "print(\"Line of sight for the first two particles:\\n\", los[:2])  # DEMO"
   ]
  },
  {
   "attachments": {},
   "cell_type": "markdown",
   "metadata": {},
   "source": [
    "### Attribute header"
   ]
  },
  {
   "attachments": {},
   "cell_type": "markdown",
   "metadata": {},
   "source": [
    "The various catalogue attributes can be written out as a header text stream\n",
    "for I/O purposes:"
   ]
  },
  {
   "cell_type": "code",
   "execution_count": 10,
   "metadata": {},
   "outputs": [
    {
     "name": "stdout",
     "output_type": "stream",
     "text": [
      "Catalogue source: extdata:4634466640\n",
      "Catalogue size: ntotal = 100, wtotal = 105.245, wstotal = 105.245\n",
      "Catalogue particle extents: ([0.736, 97.562], [2.161, 99.238], [1.394, 97.957])\n"
     ]
    }
   ],
   "source": [
    "header = catalogue.write_attrs_as_header()\n",
    "\n",
    "print(header)  # DEMO"
   ]
  },
  {
   "attachments": {},
   "cell_type": "markdown",
   "metadata": {},
   "source": [
    "Since many clustering algorithms require both a data catalogue\n",
    "and a random one, the latter can be passed to the `catalogue_ref` argument\n",
    "to be included in the header. Let's reuse the `catalogue_`\n",
    "(created {ref}`above <spare-catalogue>`) as `catalogue_ref`."
   ]
  },
  {
   "cell_type": "code",
   "execution_count": 11,
   "metadata": {},
   "outputs": [
    {
     "name": "stdout",
     "output_type": "stream",
     "text": [
      "Data catalogue source: extdata:4634466640\n",
      "Data catalogue size: ntotal = 100, wtotal = 105.245, wstotal = 105.245\n",
      "Data-source particle extents: ([0.736, 97.562], [2.161, 99.238], [1.394, 97.957])\n",
      "Random catalogue source: extdata:4375778192\n",
      "Random catalogue size: ntotal = 100, wtotal = 100.000, wstotal = 100.000\n",
      "Random-source particle extents: ([0.736, 97.562], [2.161, 99.238], [1.394, 97.957])\n"
     ]
    }
   ],
   "source": [
    "header = catalogue.write_attrs_as_header(catalogue_ref=catalogue_)\n",
    "\n",
    "print(header)  # DEMO"
   ]
  },
  {
   "attachments": {},
   "cell_type": "markdown",
   "metadata": {},
   "source": [
    "## Box alignment"
   ]
  },
  {
   "attachments": {},
   "cell_type": "markdown",
   "metadata": {},
   "source": [
    "For fast-Fourier transforms used to compute clustering statistics, particles\n",
    "in a catalogue are placed inside a cuboid box. Depending on the algorithm,\n",
    "there are multiple options for aligning the box with the catalogue particles.\n",
    "\n",
    "```{attention}\n",
    "Algorithmic functions in {{ Triumvirate }} for computing clustering statistics\n",
    "automatically perform box alignment depending on the ``alignment`` parameter\n",
    "in the {py:class}`~triumvirate.parameters.ParameterSet` object passed to it (if\n",
    "`None`, the default value is used).\n",
    "```"
   ]
  },
  {
   "attachments": {},
   "cell_type": "markdown",
   "metadata": {},
   "source": [
    "### Centring"
   ]
  },
  {
   "attachments": {},
   "cell_type": "markdown",
   "metadata": {},
   "source": [
    "The most common alignment choice is to put the mid-point of the particle\n",
    "coordinate extents at the centre of the box. To do so, the box size(s) must\n",
    "be specified."
   ]
  },
  {
   "cell_type": "code",
   "execution_count": 12,
   "metadata": {},
   "outputs": [
    {
     "name": "stdout",
     "output_type": "stream",
     "text": [
      "Pre-centring mid-point: {'x': np.float64(49.149231), 'y': np.float64(50.699382), 'z': np.float64(49.675348)}\n",
      "Post-centring mid-point: {'x': np.float64(50.0), 'y': np.float64(50.0), 'z': np.float64(50.0)}\n"
     ]
    }
   ],
   "source": [
    "print(\n",
    "    \"Pre-centring mid-point:\",\n",
    "    {\n",
    "        ax: round(np.mean(ax_bounds), 6)\n",
    "        for ax, ax_bounds in catalogue.bounds.items()\n",
    "    }\n",
    ")  # DEMO\n",
    "\n",
    "catalogue.centre(boxsize=boxsize, catalogue_ref=None)\n",
    "\n",
    "print(\n",
    "    \"Post-centring mid-point:\",\n",
    "    {\n",
    "        ax: round(np.mean(ax_bounds), 6)\n",
    "        for ax, ax_bounds in catalogue.bounds.items()\n",
    "    }\n",
    ")  # DEMO"
   ]
  },
  {
   "attachments": {},
   "cell_type": "markdown",
   "metadata": {},
   "source": [
    "As mentioned above, if there is a second catalogue (e.g. a random catalogue\n",
    "in conjunction with a data one), it can be used as a reference catalogue such\n",
    "that all particles in both catalogues are shifted by the same displacement\n",
    "vector so that the mid-point of the particle coordinate extents in the\n",
    "reference catalogue is at the box centre. To do so, replace\n",
    "``catalogue_ref=None`` with e.g. ``catalogue_ref=catalogue_``\n",
    "(created {ref}`above <spare-catalogue>`)."
   ]
  },
  {
   "attachments": {},
   "cell_type": "markdown",
   "metadata": {},
   "source": [
    "### Padding"
   ]
  },
  {
   "attachments": {},
   "cell_type": "markdown",
   "metadata": {},
   "source": [
    "Another alignment choice is to place padding between particles and the\n",
    "origin corner of the box. The amount of padding can be specified as a\n",
    "(sequence of) factors/multiples of the box size(s) or the grid cell size(s)\n",
    "of a mesh grid."
   ]
  },
  {
   "cell_type": "code",
   "execution_count": 13,
   "metadata": {},
   "outputs": [
    {
     "name": "stdout",
     "output_type": "stream",
     "text": [
      "Pre-padding particle extents:\n",
      " {'x': (np.float64(1.5869959057124787), np.float64(98.41300409428752)),\n",
      " 'y': (np.float64(1.4618257912246704), np.float64(98.53817420877533)),\n",
      " 'z': (np.float64(1.7182803560804385), np.float64(98.28171964391956))}\n",
      "Post-padding particle extents:\n",
      " {'x': (np.float64(2.0), np.float64(98.82600818857503)),\n",
      " 'y': (np.float64(2.0), np.float64(99.07634841755066)),\n",
      " 'z': (np.float64(2.0), np.float64(98.56343928783912))}\n",
      "Pre-padding particle extents:\n",
      " {'x': (np.float64(2.0), np.float64(98.82600818857503)),\n",
      " 'y': (np.float64(2.0), np.float64(99.07634841755066)),\n",
      " 'z': (np.float64(2.0), np.float64(98.56343928783912))}\n",
      "Post-padding particle extents:\n",
      " {'x': (np.float64(1.5625), np.float64(98.38850818857503)),\n",
      " 'y': (np.float64(1.5625), np.float64(98.63884841755066)),\n",
      " 'z': (np.float64(1.5625), np.float64(98.12593928783912))}\n"
     ]
    }
   ],
   "source": [
    "from pprint import pformat  # DEMO: formatted printing of dictionaries\n",
    "\n",
    "# DEMO\n",
    "print(\"Pre-padding particle extents:\\n\", pformat(catalogue.bounds))\n",
    "\n",
    "# Use padding as a factor of the box size(s).\n",
    "catalogue.pad(\n",
    "    boxsize,            # or: [boxsize,]*3\n",
    "    boxsize_pad=0.02,   # or: [0.01, 0.02, 0.03]\n",
    "    catalogue_ref=None  # or: catalogue_\n",
    ")\n",
    "\n",
    "# DEMO\n",
    "print(\"Post-padding particle extents:\\n\", pformat(catalogue.bounds))\n",
    "\n",
    "# DEMO\n",
    "print(\"Pre-padding particle extents:\\n\", pformat(catalogue.bounds))\n",
    "\n",
    "# Use padding as a factor of the grid cell size(s).\n",
    "catalogue.pad(\n",
    "    boxsize,            # or: [boxsize,]*3\n",
    "    ngrid=64,           # or: [64, 64, 32]\n",
    "    ngrid_pad=1.,       # or: [0.8, 1., 1.2]\n",
    "    catalogue_ref=None  # or: catalogue_\n",
    ")\n",
    "\n",
    "# DEMO\n",
    "print(\"Post-padding particle extents:\\n\", pformat(catalogue.bounds))"
   ]
  },
  {
   "attachments": {},
   "cell_type": "markdown",
   "metadata": {},
   "source": [
    "Again, if `catalogue_ref` is specified, the reference catalogue is padded\n",
    "inside the box, and the same displacement vector is applied to the\n",
    "original catalogue itself."
   ]
  },
  {
   "attachments": {},
   "cell_type": "markdown",
   "metadata": {},
   "source": [
    "### Periodic boundary conditions"
   ]
  },
  {
   "attachments": {},
   "cell_type": "markdown",
   "metadata": {},
   "source": [
    "For simulation-like catalogues, periodic boundary conditions can be enforced\n",
    "as follows:"
   ]
  },
  {
   "cell_type": "code",
   "execution_count": 14,
   "metadata": {},
   "outputs": [
    {
     "name": "stdout",
     "output_type": "stream",
     "text": [
      "Pre-periodisation particle extents:\n",
      " {'x': (np.float64(1.5625), np.float64(98.38850818857503)),\n",
      " 'y': (np.float64(1.5625), np.float64(98.63884841755066)),\n",
      " 'z': (np.float64(1.5625), np.float64(98.12593928783912))}\n",
      "Post-periodisation particle extents:\n",
      " {'x': (np.float64(0.32698452139365486), np.float64(49.24471751714601)),\n",
      " 'y': (np.float64(0.15257078671264424), np.float64(49.897126859951904)),\n",
      " 'z': (np.float64(0.10860788039610014), np.float64(49.926079609604926))}\n"
     ]
    },
    {
     "name": "stderr",
     "output_type": "stream",
     "text": [
      "/Users/mikesw/Documents/Documents/Projects/Triumvirate/src/triumvirate/catalogue.py:657: UserWarning: Box size is smaller than particle coordinate extents along axis: ['x', 'y', 'z'].\n",
      "  warnings.warn(\n"
     ]
    }
   ],
   "source": [
    "# DEMO\n",
    "print(\"Pre-periodisation particle extents:\\n\", pformat(catalogue.bounds))\n",
    "\n",
    "# DEMO: a warning message will be emitted below as the period is smaller\n",
    "# than the particle extents.\n",
    "boxsize_period = 50.\n",
    "catalogue.periodise(boxsize_period)\n",
    "\n",
    "# DEMO\n",
    "print(\"Post-periodisation particle extents:\\n\", pformat(catalogue.bounds))"
   ]
  },
  {
   "attachments": {},
   "cell_type": "markdown",
   "metadata": {},
   "source": [
    "### Constant offset"
   ]
  },
  {
   "attachments": {},
   "cell_type": "markdown",
   "metadata": {},
   "source": [
    "One could also choose to apply a displacement vector to all particles in\n",
    "the catalogue. The supplied position vector is used to define the new origin."
   ]
  },
  {
   "cell_type": "code",
   "execution_count": 15,
   "metadata": {},
   "outputs": [
    {
     "name": "stdout",
     "output_type": "stream",
     "text": [
      "Pre-offset particle extents:\n",
      " {'x': (np.float64(0.32698452139365486), np.float64(49.24471751714601)),\n",
      " 'y': (np.float64(0.15257078671264424), np.float64(49.897126859951904)),\n",
      " 'z': (np.float64(0.10860788039610014), np.float64(49.926079609604926))}\n",
      "Post-offset particle extents:\n",
      " {'x': (np.float64(20.326984521393655), np.float64(69.244717517146)),\n",
      " 'y': (np.float64(25.152570786712644), np.float64(74.8971268599519)),\n",
      " 'z': (np.float64(30.1086078803961), np.float64(79.92607960960493))}\n"
     ]
    }
   ],
   "source": [
    "# DEMO\n",
    "print(\"Pre-offset particle extents:\\n\", pformat(catalogue.bounds))\n",
    "\n",
    "offset_position = [-20., -25., -30.]\n",
    "catalogue.offset_coords(offset_position)\n",
    "\n",
    "# DEMO\n",
    "print(\"Post-offset particle extents:\\n\", pformat(catalogue.bounds))"
   ]
  },
  {
   "cell_type": "code",
   "execution_count": 16,
   "metadata": {
    "tags": [
     "remove-cell"
    ]
   },
   "outputs": [],
   "source": [
    "# Hide cell.\n",
    "!rm mock_catalogue.dat"
   ]
  }
 ],
 "metadata": {
  "kernelspec": {
   "display_name": "dev-trv",
   "language": "python",
   "name": "python3"
  },
  "language_info": {
   "codemirror_mode": {
    "name": "ipython",
    "version": 3
   },
   "file_extension": ".py",
   "mimetype": "text/x-python",
   "name": "python",
   "nbconvert_exporter": "python",
   "pygments_lexer": "ipython3",
   "version": "3.11.9"
  },
  "orig_nbformat": 4
 },
 "nbformat": 4,
 "nbformat_minor": 2
}
