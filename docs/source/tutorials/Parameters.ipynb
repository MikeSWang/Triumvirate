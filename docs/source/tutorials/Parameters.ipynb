{
 "cells": [
  {
   "attachments": {},
   "cell_type": "markdown",
   "metadata": {},
   "source": [
    "# Parameter Set"
   ]
  },
  {
   "attachments": {},
   "cell_type": "markdown",
   "metadata": {},
   "source": [
    "{{ Triumvirate }} uses the {py:class}`~triumvirate.parameters.ParameterSet` class\n",
    "to handle parameter sets."
   ]
  },
  {
   "cell_type": "code",
   "execution_count": 1,
   "metadata": {},
   "outputs": [],
   "source": [
    "from triumvirate.parameters import ParameterSet"
   ]
  },
  {
   "attachments": {},
   "cell_type": "markdown",
   "metadata": {},
   "source": [
    "## Templates"
   ]
  },
  {
   "attachments": {},
   "cell_type": "markdown",
   "metadata": {},
   "source": [
    "As a starting point, {{ Triumvirate }} provides parameter templates which you\n",
    "can modify. The templates come in two formats: as a YAML file text stream or \n",
    "a Python dictionary.\n",
    "\n",
    "To fetch the templates, one could use\n",
    "{py:func}`~triumvirate.parameters.fetch_paramset_template`, with the\n",
    "argument ``'text'`` for the YAML file text stream and ``'dict'`` for\n",
    "the Python dictionary."
   ]
  },
  {
   "cell_type": "code",
   "execution_count": 2,
   "metadata": {},
   "outputs": [],
   "source": [
    "from triumvirate.parameters import fetch_paramset_template"
   ]
  },
  {
   "attachments": {},
   "cell_type": "markdown",
   "metadata": {},
   "source": [
    "### YAML file template"
   ]
  },
  {
   "attachments": {},
   "cell_type": "markdown",
   "metadata": {},
   "source": [
    "Let's first have a look at the content of the YAML file template,"
   ]
  },
  {
   "cell_type": "code",
   "execution_count": 3,
   "metadata": {},
   "outputs": [
    {
     "name": "stdout",
     "output_type": "stream",
     "text": [
      "# @file params_template.yml\n",
      "# @brief Template parameter file for the Triumvirate Python package.\n",
      "# @seealso https://triumvirate.readthedocs.io\n",
      "\n",
      "---\n",
      "\n",
      "# -- I/O -----------------------------------------------------------------\n",
      "\n",
      "# Directories for input catalogue(s) and output measurement(s).\n",
      "# The paths can be either absolute or relative to the working directory.\n",
      "# If unset, the current working directory is assumed.\n",
      "directories:\n",
      "  catalogues:\n",
      "  measurements:\n",
      "\n",
      "# Filenames (with extension) of input catalogues.  These are relative\n",
      "# to the catalogue directory.\n",
      "files:\n",
      "  data_catalogue:\n",
      "  rand_catalogue:\n",
      "\n",
      "# FUTURE: This parameter currently has no effect in the Python interface.\n",
      "# Field names of catalogue data columns as a list in the order of\n",
      "# appearance.  If unset, the catalogue files are assumed to contain\n",
      "# an appropriate header.\n",
      "catalogue_columns: []\n",
      "\n",
      "# Tags to be appended as an input/output filename suffix.\n",
      "tags:\n",
      "  output:\n",
      "\n",
      "\n",
      "# -- Mesh sampling -------------------------------------------------------\n",
      "\n",
      "# Box size in each dimension (in length units). [mandatory]\n",
      "boxsize:\n",
      "  x:\n",
      "  y:\n",
      "  z:\n",
      "\n",
      "# Grid cell number in each dimension. [mandatory]\n",
      "ngrid:\n",
      "  x:\n",
      "  y:\n",
      "  z:\n",
      "\n",
      "# Box alignment: {'centre' (default), 'pad'}.\n",
      "# The catalogues are either centred or padded from the\n",
      "# mininum-coordinate corner.\n",
      "alignment: centre\n",
      "\n",
      "# Padding scale: {'box' (default), 'grid'}.\n",
      "# The padding scale is either the box size or the grid cell size.\n",
      "# Only applicable if `alignment` is set to 'pad'.\n",
      "padscale: box\n",
      "\n",
      "# Padding factor as a multiple of the size of padding scale.\n",
      "# Only applicable if `alignment` is set to 'pad'.\n",
      "padfactor:\n",
      "\n",
      "# Mesh assignment scheme: {'ngp', 'cic', 'tsc' (default), 'pcs'}.\n",
      "assignment: tsc\n",
      "\n",
      "# Interlacing switch: {true/on, false/off (default))}.\n",
      "# The switch is overridden to `false` when measuring three-point statistics.\n",
      "interlace: off\n",
      "\n",
      "\n",
      "# -- Measurements --------------------------------------------------------\n",
      "\n",
      "# Type of catalogue(s): {'survey', 'random', 'sim', 'none'}.\n",
      "# If of type 'sim', global-plane-parallel measurements are made;\n",
      "# otherwise, local-plane-parallel measurements are made.\n",
      "catalogue_type:\n",
      "\n",
      "# Type of measurement: {\n",
      "#   'powspec', '2pcf', '2pcf-win',\n",
      "#   'bispec', '3pcf', '3pcf-win', '3pcf-win-wa',\n",
      "#   'modes', 'pairs'\n",
      "# }.\n",
      "statistic_type:\n",
      "\n",
      "# Degrees of the multipoles.\n",
      "degrees:\n",
      "  ell1:\n",
      "  ell2:\n",
      "  ELL:\n",
      "\n",
      "# Orders of wide-angle corrections.\n",
      "wa_orders:\n",
      "  i:\n",
      "  j:\n",
      "\n",
      "# Form of three-point statistic measurements:\n",
      "# {'full', 'diag' (default), 'off-diag', 'row'}.\n",
      "form: diag\n",
      "\n",
      "# Normalisation convention: {\n",
      "#   'none', 'particle' (default), 'mesh',\n",
      "#   'mesh-mixed' (two-point statistics only)\n",
      "# }.\n",
      "norm_convention: particle\n",
      "\n",
      "# Binning scheme: {'lin' (default), 'log', 'linpad', 'logpad', 'custom'}.\n",
      "binning: lin\n",
      "\n",
      "# Range of measurement scales.\n",
      "# The binning coordinate is either wavenumbers in Fourier space,\n",
      "# or separations in configuration space. [mandatory]\n",
      "range: [~, ~]\n",
      "\n",
      "# Number of measurement bins (i.e. data vector dimension).\n",
      "# Must be >=2, or >=7 if padding is used in binning. [mandatory]\n",
      "num_bins:\n",
      "\n",
      "# Fixed bin index when the `form` of three-point statistics measurements\n",
      "# is set to 'off-diag' or 'row'.  If 'off-diag', the bin index is the\n",
      "# positive off-diagonal index; if `form` is set to 'row', the bin index\n",
      "# is the row index.\n",
      "idx_bin:\n",
      "\n",
      "\n",
      "# -- Misc ----------------------------------------------------------------\n",
      "\n",
      "# FFTW scheme: {'estimate', 'measure' (default), 'patient'}.\n",
      "# This corresponds to the FFTW planner flags.\n",
      "fftw_scheme: measure\n",
      "\n",
      "# Use FFTW wisdom: {false (default)/off, <path-to-dir>}.\n",
      "# If not `false` or non-empty, then this is the path to\n",
      "# the FFTW wisdom directory; the FFTW wisdom file is either imported\n",
      "# from there or exported there if the wisdom file does not yet exist;\n",
      "# `fftw_scheme` must be set to 'measure' or higher (i.e. 'patient').\n",
      "use_fftw_wisdom: false\n",
      "\n",
      "# FUTURE: This parameter currently has no effect in the Python interface.\n",
      "# Save binning details to file:\n",
      "# {true/on, false/off (default), <relpath-to-file>}.\n",
      "# If a path is provided, it is relative to the measurement directory.\n",
      "# An empty path is equivalent to false/off.\n",
      "save_binned_vectors: false\n",
      "\n",
      "# Logging verbosity level: a non-negative integer.\n",
      "# Typical values are: {\n",
      "#   0 (NSET, unset), 10 (DBUG, debug), 20 (STAT, status) (default),\n",
      "#   30 (INFO, info), 40 (WARN, warning), 50 (ERRO, error)\n",
      "# }.\n",
      "verbose: 20\n",
      "\n",
      "# Progress bar display switch: {true/on, false/off (default), <%-points>}.\n",
      "# If a float is provided, the progress bar is update/displayed\n",
      "# at that percentage-point interval, e.g. 10. for every 10%.\n",
      "progbar: off\n",
      "\n",
      "...\n",
      "\n"
     ]
    }
   ],
   "source": [
    "parameter_template = fetch_paramset_template('text')\n",
    "\n",
    "print(parameter_template)  # DEMO"
   ]
  },
  {
   "attachments": {},
   "cell_type": "markdown",
   "metadata": {},
   "source": [
    "which you can save to a `.yml` file (named ``\"parameter_template.yml\"``\n",
    "in the current working directory below),"
   ]
  },
  {
   "cell_type": "code",
   "execution_count": 4,
   "metadata": {},
   "outputs": [],
   "source": [
    "parameter_filepath = \"parameter_template.yml\"\n",
    "with open(parameter_filepath, 'w') as parameter_file:\n",
    "    parameter_file.write(parameter_template)"
   ]
  },
  {
   "attachments": {},
   "cell_type": "markdown",
   "metadata": {},
   "source": [
    "### Python dictionary template"
   ]
  },
  {
   "attachments": {},
   "cell_type": "markdown",
   "metadata": {},
   "source": [
    "Alternatively, one could use the Python dictionary template:"
   ]
  },
  {
   "cell_type": "code",
   "execution_count": 5,
   "metadata": {},
   "outputs": [
    {
     "name": "stdout",
     "output_type": "stream",
     "text": [
      "{'alignment': 'centre',\n",
      " 'assignment': 'tsc',\n",
      " 'binning': 'lin',\n",
      " 'boxsize': {'x': None, 'y': None, 'z': None},\n",
      " 'catalogue_columns': [],\n",
      " 'catalogue_type': None,\n",
      " 'degrees': {'ELL': None, 'ell1': None, 'ell2': None},\n",
      " 'directories': {'catalogues': None, 'measurements': None},\n",
      " 'fftw_scheme': 'measure',\n",
      " 'files': {'data_catalogue': None, 'rand_catalogue': None},\n",
      " 'form': 'diag',\n",
      " 'idx_bin': None,\n",
      " 'interlace': False,\n",
      " 'ngrid': {'x': None, 'y': None, 'z': None},\n",
      " 'norm_convention': 'particle',\n",
      " 'num_bins': None,\n",
      " 'padfactor': None,\n",
      " 'padscale': 'box',\n",
      " 'progbar': False,\n",
      " 'range': [None, None],\n",
      " 'save_binned_vectors': False,\n",
      " 'statistic_type': None,\n",
      " 'tags': {'output': None},\n",
      " 'use_fftw_wisdom': False,\n",
      " 'verbose': 20,\n",
      " 'wa_orders': {'i': None, 'j': None}}\n"
     ]
    }
   ],
   "source": [
    "parameter_dict = fetch_paramset_template('dict')\n",
    "\n",
    "# DEMO: format printing of dictionaries.\n",
    "from pprint import pprint\n",
    "pprint(parameter_dict)"
   ]
  },
  {
   "attachments": {},
   "cell_type": "markdown",
   "metadata": {},
   "source": [
    "## Initialisation"
   ]
  },
  {
   "attachments": {},
   "cell_type": "markdown",
   "metadata": {},
   "source": [
    "### From a YAML file"
   ]
  },
  {
   "attachments": {},
   "cell_type": "markdown",
   "metadata": {},
   "source": [
    "To initialise a parameter set from the YAML file template, let's try:"
   ]
  },
  {
   "cell_type": "code",
   "execution_count": 6,
   "metadata": {},
   "outputs": [
    {
     "name": "stdout",
     "output_type": "stream",
     "text": [
      "InvalidParameterError('`boxsize` parameters must be set.')\n"
     ]
    }
   ],
   "source": [
    "from triumvirate.parameters import InvalidParameterError  # DEMO\n",
    "\n",
    "try:\n",
    "    paramset = ParameterSet(param_filepath=parameter_filepath)\n",
    "except InvalidParameterError as exception:  # DEMO\n",
    "    print(repr(exception))"
   ]
  },
  {
   "attachments": {},
   "cell_type": "markdown",
   "metadata": {},
   "source": [
    "As one could see, {py:class}`~triumvirate.parameters.ParameterSet` performs\n",
    "validation checks on parameter values, and unset mandatory parameters\n",
    "result in the exception {py:exc}`~triumvirate.parameters.InvalidParameterError`\n",
    "above. To fix this, (externally) edit the file ``\"parameter_template.yml\"``\n",
    "saved above to make sure all parameters marked by ``[mandatory]`` in the file\n",
    "comments are set, e.g. with the following line changes:\n",
    "\n",
    "```{code-block} yaml\n",
    ":caption: parameter_template.yml\n",
    "\n",
    "boxsize:\n",
    "  x: 1000.\n",
    "  y: 1000.\n",
    "  z: 1000.\n",
    "  \n",
    "ngrid:\n",
    "  x: 64\n",
    "  y: 64\n",
    "  z: 64\n",
    "  \n",
    "range: [0.005, 0.105]\n",
    "\n",
    "num_bins: 10\n",
    "```"
   ]
  },
  {
   "cell_type": "code",
   "execution_count": 7,
   "metadata": {
    "tags": [
     "remove-input"
    ]
   },
   "outputs": [],
   "source": [
    "# DEMO: generally one would reproduce the steps below by editing the\n",
    "# \"parameter_template.yml\" file externally.\n",
    "\n",
    "def replace_yaml_template_parameter(str_original, str_new):\n",
    "    global parameter_template\n",
    "    parameter_template = parameter_template.replace(str_original, str_new)\n",
    "\n",
    "parameter_replacements = [\n",
    "    (\n",
    "        \"boxsize:\\n  x:\\n  y:\\n  z:\\n\",\n",
    "        \"boxsize:\\n  x: 1000.\\n  y: 1000.\\n  z: 1000.\\n\"\n",
    "    ),\n",
    "    (\n",
    "        \"ngrid:\\n  x:\\n  y:\\n  z:\\n\",\n",
    "        \"ngrid:\\n  x: 64\\n  y: 64\\n  z: 64\\n\"\n",
    "    ),\n",
    "    # (\n",
    "    #     \"catalogue_type:\",\n",
    "    #     \"catalogue_type: sim\"\n",
    "    # ),\n",
    "    # (\n",
    "    #     \"statistic_type:\",\n",
    "    #     \"statistic_type: bispec\"\n",
    "    # ),\n",
    "    # (\n",
    "    #     \"ell1:\",\n",
    "    #     \"ell1: 0\"\n",
    "    # ),\n",
    "    # (\n",
    "    #     \"ell2:\",\n",
    "    #     \"ell2: 0\"\n",
    "    # ),\n",
    "    # (\n",
    "    #     \"ELL:\",\n",
    "    #     \"ELL: 0\"\n",
    "    # ),\n",
    "    (\n",
    "        \"range: [~, ~]\",\n",
    "        \"range: [0.005, 0.105]\"\n",
    "    ),\n",
    "    (\n",
    "        \"num_bins:\",\n",
    "        \"num_bins: 10\"\n",
    "    ),\n",
    "]\n",
    "\n",
    "for replacement in parameter_replacements:\n",
    "    replace_yaml_template_parameter(*replacement)\n",
    "\n",
    "with open(parameter_filepath, 'w') as parameter_file:\n",
    "    parameter_file.write(parameter_template)"
   ]
  },
  {
   "attachments": {},
   "cell_type": "markdown",
   "metadata": {},
   "source": [
    "Now let's try to initialise the parameter set again:"
   ]
  },
  {
   "cell_type": "code",
   "execution_count": 8,
   "metadata": {
    "tags": [
     "remove-output"
    ]
   },
   "outputs": [
    {
     "name": "stdout",
     "output_type": "stream",
     "text": [
      "[2024-08-19 01:33:27 (+00:00:00) STAT C++] Parameters validated.\n"
     ]
    }
   ],
   "source": [
    "parameter_set = ParameterSet(param_filepath=parameter_filepath)"
   ]
  },
  {
   "attachments": {},
   "cell_type": "markdown",
   "metadata": {},
   "source": [
    "### From a Python dictionary"
   ]
  },
  {
   "attachments": {},
   "cell_type": "markdown",
   "metadata": {},
   "source": [
    "Similarly, one can initialise the parameter set from the Python dictionary\n",
    "template, but only after all the mandatory parameters have been set:"
   ]
  },
  {
   "cell_type": "code",
   "execution_count": 9,
   "metadata": {},
   "outputs": [],
   "source": [
    "for ax_name in ['x', 'y', 'z']:\n",
    "    parameter_dict['boxsize'][ax_name] = 1000.\n",
    "    parameter_dict['ngrid'][ax_name] = 64.\n",
    "\n",
    "parameter_dict.update({\n",
    "    'range'   : [0.005, 0.105],\n",
    "    'num_bins': 10,\n",
    "})"
   ]
  },
  {
   "cell_type": "code",
   "execution_count": 10,
   "metadata": {
    "tags": [
     "remove-output"
    ]
   },
   "outputs": [
    {
     "name": "stdout",
     "output_type": "stream",
     "text": [
      "[2024-08-19 01:33:27 (+00:00:00) STAT C++] Parameters validated.\n"
     ]
    }
   ],
   "source": [
    "parameter_set = ParameterSet(param_dict=parameter_dict)"
   ]
  },
  {
   "attachments": {},
   "cell_type": "markdown",
   "metadata": {},
   "source": [
    "## Parameter access"
   ]
  },
  {
   "attachments": {},
   "cell_type": "markdown",
   "metadata": {},
   "source": [
    "One can access individual parameters from\n",
    "{py:class}`~triumvirate.parameters.ParameterSet` either as an attribute, or\n",
    "like a dictionary by key or with the\n",
    "{py:meth}`~triumvirate.parameters.ParameterSet.get` method:"
   ]
  },
  {
   "cell_type": "code",
   "execution_count": 11,
   "metadata": {},
   "outputs": [
    {
     "name": "stdout",
     "output_type": "stream",
     "text": [
      "Binning scheme: lin\n",
      "Binning scheme: lin\n",
      "Binning scheme: lin\n"
     ]
    }
   ],
   "source": [
    "print(\"Binning scheme:\", parameter_set['binning'])\n",
    "print(\"Binning scheme:\", parameter_set.get('binning'))  # equivalent\n",
    "print(\"Binning scheme:\", parameter_set.binning)         # equivalent"
   ]
  },
  {
   "attachments": {},
   "cell_type": "markdown",
   "metadata": {},
   "source": [
    "One can also extract all parameters like a dictionary using the\n",
    "{py:meth}`~triumvirate.parameters.ParameterSet.items` method:"
   ]
  },
  {
   "cell_type": "code",
   "execution_count": 12,
   "metadata": {},
   "outputs": [
    {
     "name": "stdout",
     "output_type": "stream",
     "text": [
      "{'alignment': 'centre',\n",
      " 'assignment': 'tsc',\n",
      " 'assignment_order': 3,\n",
      " 'binning': 'lin',\n",
      " 'boxsize': {'x': 1000.0, 'y': 1000.0, 'z': 1000.0},\n",
      " 'catalogue_columns': [],\n",
      " 'catalogue_type': None,\n",
      " 'degrees': {'ELL': None, 'ell1': None, 'ell2': None},\n",
      " 'directories': {'catalogues': '', 'measurements': ''},\n",
      " 'fftw_planner_flag': 0,\n",
      " 'fftw_scheme': 'measure',\n",
      " 'fftw_wisdom_file_b': '',\n",
      " 'fftw_wisdom_file_f': '',\n",
      " 'files': {'data_catalogue': '', 'rand_catalogue': ''},\n",
      " 'form': 'diag',\n",
      " 'idx_bin': None,\n",
      " 'interlace': False,\n",
      " 'ngrid': {'x': 64.0, 'y': 64.0, 'z': 64.0},\n",
      " 'norm_convention': 'particle',\n",
      " 'npoint': '',\n",
      " 'num_bins': 10,\n",
      " 'padfactor': None,\n",
      " 'padscale': 'box',\n",
      " 'progbar': False,\n",
      " 'range': [0.005, 0.105],\n",
      " 'save_binned_vectors': False,\n",
      " 'space': '',\n",
      " 'statistic_type': None,\n",
      " 'tags': {'output': ''},\n",
      " 'use_fftw_wisdom': False,\n",
      " 'verbose': 20,\n",
      " 'wa_orders': {'i': None, 'j': None}}\n"
     ]
    }
   ],
   "source": [
    "pprint(dict(parameter_set.items()))"
   ]
  },
  {
   "attachments": {},
   "cell_type": "markdown",
   "metadata": {},
   "source": [
    "## Passing as an argument"
   ]
  },
  {
   "attachments": {},
   "cell_type": "markdown",
   "metadata": {},
   "source": [
    "Now whenever a callable in {{ Triumvirate }} accepts the `paramset` argument,\n",
    "you can pass `parameter_set` above to it. Depending on the set-up, you may\n",
    "need to make further modifications to your `parameter_set` to suit the data\n",
    "and/or algorithm you are using."
   ]
  }
 ],
 "metadata": {
  "kernelspec": {
   "display_name": "dev-trv",
   "language": "python",
   "name": "python3"
  },
  "language_info": {
   "codemirror_mode": {
    "name": "ipython",
    "version": 3
   },
   "file_extension": ".py",
   "mimetype": "text/x-python",
   "name": "python",
   "nbconvert_exporter": "python",
   "pygments_lexer": "ipython3",
   "version": "3.11.9"
  },
  "orig_nbformat": 4
 },
 "nbformat": 4,
 "nbformat_minor": 2
}
