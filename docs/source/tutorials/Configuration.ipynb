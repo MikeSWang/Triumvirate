{
 "cells": [
  {
   "attachments": {},
   "cell_type": "markdown",
   "metadata": {},
   "source": [
    "# Parameter Configuration"
   ]
  },
  {
   "attachments": {},
   "cell_type": "markdown",
   "metadata": {},
   "source": [
    "This tutorials explains the role of each parameter in the parameter files\n",
    "used to run both the Python and C++ routines. The Python parameter file\n",
    "is in the YAML format, whereas the C++ parameter file is in the (pseudo-)INI\n",
    "format. For each parameter mentioned below, the configurations for both formats\n",
    "are listed.\n",
    "\n",
    "For the Python parameter set class {py:class}`~triumvirate.parameters.ParameterSet`, see the ['Parameter Set'](./Parameters.ipynb) tutorial for\n",
    "more details."
   ]
  },
  {
   "attachments": {},
   "cell_type": "markdown",
   "metadata": {},
   "source": [
    "## System I/O"
   ]
  },
  {
   "attachments": {},
   "cell_type": "markdown",
   "metadata": {},
   "source": [
    "To set the catalogue directory from which catalogue files are read and\n",
    "the measurement directory to which measurement files are saved, insert the\n",
    "absolute or relative (to the working directory) paths in the following parts.\n",
    "If left empty, the current working directory is assumed. Quotation marks\n",
    "are not necessary.\n",
    "\n",
    "YAML---\n",
    "```yaml\n",
    "directory:\n",
    "  catalogues: # [absolute_or_relative_path]: str\n",
    "  measurement_dir: # [absolute_or_relative_path]: str\n",
    "```\n",
    "\n",
    "INI---\n",
    "```ini\n",
    "catalogue_dir = # [absolute_or_relative_path]: str\n",
    "measurement_dir = # [absolute_or_relative_path]: str\n",
    "```"
   ]
  },
  {
   "attachments": {},
   "cell_type": "markdown",
   "metadata": {},
   "source": [
    "To set the data and random catalogue files (inside the catalogue directory\n",
    "specified as above) for which clustering measurements are made, insert the\n",
    "file names with extension in the following parts.\n",
    "\n",
    "YAML---\n",
    "```yaml\n",
    "files:\n",
    "  data_catalogue: # <filename_stem.ext>: str\n",
    "  rand_catalogue: # <filename_stem.ext>: str\n",
    "```\n",
    "\n",
    "INI---\n",
    "```ini\n",
    "data_catalogue_file = # <filename_stem.ext>: str\n",
    "rand_catalogue_file = # <filename_stem.ext>: str\n",
    "```"
   ]
  },
  {
   "attachments": {},
   "cell_type": "markdown",
   "metadata": {},
   "source": [
    "For the INI parameter file for C++ routines, the catalogue data columns\n",
    "need to be specified as a non-breaking comma-separated string\n",
    "in the following part.\n",
    "```ini\n",
    "catalogue_columns = # <non_breaking_comma_separated_names>: str\n",
    "```\n",
    "\n",
    "For the Python catalogue class {py:class}`~triumvirate.catalogue.ParticleCatalogue`, see the ['Particle Catalogue'](./Catalogue.ipynb) tutorial\n",
    "for more details."
   ]
  },
  {
   "attachments": {},
   "cell_type": "markdown",
   "metadata": {},
   "source": [
    "## Mesh sampling"
   ]
  },
  {
   "attachments": {},
   "cell_type": "markdown",
   "metadata": {},
   "source": [
    "All catalogue particles are weighted and assigned to a mesh grid as\n",
    "discrete sampling of a continuous field. The mesh grid box has sizes\n",
    "(typically in $h^{-1}\\,\\mathrm{Mpc}$ units) specified in the following parts.\n",
    "\n",
    "YAML---\n",
    "```yaml\n",
    "boxsize:\n",
    "  x: # <boxsize_Lx>: float\n",
    "  y: # <boxsize_Ly>: float\n",
    "  z: # <boxsize_Lz>: float\n",
    "```\n",
    "\n",
    "INI---\n",
    "```ini\n",
    "boxsize_x = # <boxsize_Lx>: float\n",
    "boxsize_y = # <boxsize_Ly>: float\n",
    "boxsize_z = # <boxsize_Lz>: float\n",
    "```"
   ]
  },
  {
   "attachments": {},
   "cell_type": "markdown",
   "metadata": {},
   "source": [
    "The number of grid cells in each dimension is specified in the following parts.\n",
    "\n",
    "YAML---\n",
    "```yaml\n",
    "ngrid:\n",
    "  x: # <ngrid_Nx>: int\n",
    "  y: # <ngrid_Ny>: int\n",
    "  z: # <ngrid_Nz>: int\n",
    "```\n",
    "\n",
    "INI---\n",
    "```ini\n",
    "ngrid_x = # <ngrid_Nx>: int\n",
    "ngrid_y = # <ngrid_Ny>: int\n",
    "ngrid_z = # <ngrid_Nz>: int\n",
    "```"
   ]
  },
  {
   "attachments": {},
   "cell_type": "markdown",
   "metadata": {},
   "source": [
    "The particle coordinates are offset to box coordinates in $[0, L]$ in length\n",
    "units. The ``alignment`` of particles in the box has two options: their\n",
    "mid-point either coincides with the box centre ('centre'), or their coordinate\n",
    "minima are padded from the origin corner of the box ('pad').\n",
    "\n",
    "If the padding option is used, the amount of padding is determined as\n",
    "a multiple ``padfactor`` of the ``padscale``, which is either the box size\n",
    "('box') or the grid cell size in each dimension ('grid').\n",
    "\n",
    "This is specified in the following parts.\n",
    "\n",
    "YAML---\n",
    "```yaml\n",
    "alignment: # [{centre}|pad]: str\n",
    "padscale: # [{box}|grid]: str\n",
    "padfactor: # <pad_factor>: float\n",
    "```\n",
    "\n",
    "INI---\n",
    "```ini\n",
    "alignment = # [{centre}|pad]: str\n",
    "padscale = # [{box}|grid]: str\n",
    "padfactor = # <pad_factor>: float\n",
    "```"
   ]
  },
  {
   "attachments": {},
   "cell_type": "markdown",
   "metadata": {},
   "source": [
    "Mesh ``assignment`` schemes from order 1 to 4 are supported: nearest grid point\n",
    "('ngp'), cloud-in-cell ('cic'), triangular-shaped cloud ('tsc') and\n",
    "piecewise cubic spline ('pcs').\n",
    "\n",
    "The interlacing technique can be used to reduce aliasing in discrete Fourier\n",
    "transforms for two-point clustering statistics.\n",
    "\n",
    "These are specified in the following parts.\n",
    "\n",
    "YAML---\n",
    "```yaml\n",
    "assignment: # [ngp|cic|{tsc}|pcs]: str\n",
    "interlace: # [[true|on]|[false|off]]: bool\n",
    "```\n",
    "\n",
    "INI---\n",
    "```ini\n",
    "assignment = # [ngp|cic|{tsc}|pcs]: str\n",
    "interlace = # [[true|on]|[false|off]]: str\n",
    "```"
   ]
  },
  {
   "attachments": {},
   "cell_type": "markdown",
   "metadata": {},
   "source": [
    "## Measurements"
   ]
  },
  {
   "attachments": {},
   "cell_type": "markdown",
   "metadata": {},
   "source": [
    "To specify the statistic being measured in local/global plane-parallel\n",
    "(LPP/GPP) approximations or as the window function, insert\n",
    "\n",
    "- the relevant catalogue type---\n",
    "\n",
    "  - 'survey' for LPP,\n",
    "  - 'sim' for GPP, and\n",
    "  - 'random' for window functions---and\n",
    "\n",
    "- the statistic type---\n",
    "\n",
    "  - 'powspec' for power spectrum,\n",
    "  - '2pcf' for correlation function,\n",
    "  - '2pcf-win' for correlation function window,\n",
    "  - 'bispec' for bispectrum,\n",
    "  - '3pcf' for three-point correlation function,\n",
    "  - '3pcf-win' for three-point correlation function window,\n",
    "  - '3pcf-win-wa' for three-point correlation function window\n",
    "    wide-angle terms---\n",
    "\n",
    "in the following parts.\n",
    "\n",
    "YAML---\n",
    "```yaml\n",
    "catalogue_type: # [survey|random|sim]: str\n",
    "statistic_type: # [powspec|2pcf|2pcf-win|bispec|3pcf|3pcf-win|3pcf-win-wa]: str\n",
    "```\n",
    "\n",
    "INI---\n",
    "```ini\n",
    "catalogue_type = # [survey|random|sim]: str\n",
    "statistic_type = # [powspec|2pcf|2pcf-win|bispec|3pcf|3pcf-win|3pcf-win-wa]: str\n",
    "```"
   ]
  },
  {
   "attachments": {},
   "cell_type": "markdown",
   "metadata": {},
   "source": [
    "The normalisation factor can be computed either as a sum over catalogue\n",
    "particles ('particle') or as a sum over the mesh grid ('mesh'), and\n",
    "is specified in the following parts.\n",
    "\n",
    "YAML---\n",
    "```yaml\n",
    "norm_convention: # [{particle}|grid]\n",
    "```\n",
    "\n",
    "INI---\n",
    "```ini\n",
    "norm_convention = # [{particle}|grid]\n",
    "```"
   ]
  },
  {
   "attachments": {},
   "cell_type": "markdown",
   "metadata": {},
   "source": [
    "Three-point clustering statistic measurements have two forms: 'full' (2-d\n",
    "coordinates) or 'diagonal' (reduced to 1-d coordinates). This is specified in\n",
    "the following parts.\n",
    "\n",
    "YAML---\n",
    "```yaml\n",
    "form: # [{diag}|full]\n",
    "```\n",
    "\n",
    "INI---\n",
    "```ini\n",
    "form = # [{diag}|full]\n",
    "```"
   ]
  },
  {
   "attachments": {},
   "cell_type": "markdown",
   "metadata": {},
   "source": [
    "The coordinates at which the statistics are measured and binned are determined\n",
    "by a `binning` scheme: linear ('lin') spacing, logarithmic ('log') spacing,\n",
    "linear spacing with additional lower-end padding for 5 linear intervals\n",
    "('linpad'), logarithmic spacing with additional lower-end padding for\n",
    "5 linear intervals ('logpad'), and customised bins ('custom') (for which the\n",
    "user needs to supply the binning class object explicitly). The padding\n",
    "intervals are $10^{-3}$ (assuming $h\\,\\mathrm{Mpc}^{-1} units) in Fourier\n",
    "space and $10$ (assuming $h^{-1}\\,\\mathrm{Mpc} units) in configuration space.\n",
    "The total number of bins should be no lower than 2 (or 7 with padding), and\n",
    "the binning range are the lower and upper edges of the bins. In addition,\n",
    "for 'full' ``form`` three-point clustering statistics, the first coordinate\n",
    "is fixed with the bin index specified.\n",
    "\n",
    "YAML---\n",
    "```yaml\n",
    "binning: # [{lin}|log|linpad|logpad|custom]: str\n",
    "range: # [<bin_min>, <bin_max>]: list of float\n",
    "num_bins: # <num_bins>: int\n",
    "idx_bin: # <idx_bin>: int\n",
    "```\n",
    "\n",
    "INI---\n",
    "```ini\n",
    "binning = # [{lin}|log|linpad|logpad|custom]: str\n",
    "bin_min = # <bin_min>: float\n",
    "bin_max = # <bin_max>: float\n",
    "num_bins = # <num_bins>: int\n",
    "idx_bin = # <idx_bin>: int\n",
    "```"
   ]
  },
  {
   "attachments": {},
   "cell_type": "markdown",
   "metadata": {},
   "source": [
    "For the Python binning class {py:class}`~triumvirate.dataobjs.Binning`,\n",
    "see the ['Binning Scheme'](./Binning.ipynb) tutorial for more details.\n",
    "The equivalent C++ class is {cpp:class}`trv::Binning`."
   ]
  },
  {
   "attachments": {},
   "cell_type": "markdown",
   "metadata": {},
   "source": [
    "## Miscellaneous"
   ]
  },
  {
   "attachments": {},
   "cell_type": "markdown",
   "metadata": {},
   "source": [
    "The C++ backend/program comes with a logger ({cpp:class}`trv::sys::Logger`)\n",
    "for which the verbosity/logging level can be specified in the following parts.\n",
    "\n",
    "YAML---\n",
    "```yaml\n",
    "verbose: # <logging_level>: int\n",
    "```\n",
    "\n",
    "INI---\n",
    "```ini\n",
    "verbose = # <logging_level>: int\n",
    "```"
   ]
  }
 ],
 "metadata": {
  "kernelspec": {
   "display_name": "Python 3",
   "language": "python",
   "name": "python3"
  },
  "language_info": {
   "name": "python",
   "version": "3.10.6"
  },
  "orig_nbformat": 4,
  "vscode": {
   "interpreter": {
    "hash": "e7370f93d1d0cde622a1f8e1c04877d8463912d04d973331ad4851f04de6915a"
   }
  }
 },
 "nbformat": 4,
 "nbformat_minor": 2
}
