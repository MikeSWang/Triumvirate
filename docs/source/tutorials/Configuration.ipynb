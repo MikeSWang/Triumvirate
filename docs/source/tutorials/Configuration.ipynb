{
 "cells": [
  {
   "attachments": {},
   "cell_type": "markdown",
   "metadata": {},
   "source": [
    "# Parameter Configuration"
   ]
  },
  {
   "attachments": {},
   "cell_type": "markdown",
   "metadata": {},
   "source": [
    "This tutorials explains the role of each parameter in the parameter files\n",
    "used to run the Python and C++ routines. The Python parameter file is in the\n",
    "YAML format, whereas the C++ parameter file is in the INI format.\n",
    "For each parameter mentioned below, the configurations for both formats\n",
    "are listed.\n",
    "\n",
    "For the Python parameter set class\n",
    "{py:class}`~triumvirate.parameters.ParameterSet`, see the\n",
    "['Parameter Set'](./Parameters.ipynb) tutorial for more details. The equivalent\n",
    "C++ class is {cpp:class}`~trv::ParameterSet`.\n",
    "\n",
    "```{hint}\n",
    "Entry values in the parameter file snippets below are written in a\n",
    "pseudo [extended Backus--Naur form](https://en.wikipedia.org/wiki/Extended_Backus–Naur_form),\n",
    "where\n",
    "\n",
    "- angled brackets ``<`` and ``>`` delimit mandatory entries;\n",
    "- square brackets ``[`` and ``]`` delimit optional entries;\n",
    "- braces ``{`` and ``}`` delimit repeated entries;\n",
    "- round brackets ``(`` and ``)`` delimit a grouping;\n",
    "- a vertical bar ``|`` separates mutually exclusive options;\n",
    "- an equal sign ``=`` inside optional entries denotes the default value;\n",
    "- a colon ``:`` inside an entry is followed by the data type.\n",
    "```"
   ]
  },
  {
   "attachments": {},
   "cell_type": "markdown",
   "metadata": {},
   "source": [
    "## System I/O"
   ]
  },
  {
   "attachments": {},
   "cell_type": "markdown",
   "metadata": {},
   "source": [
    "### Directories"
   ]
  },
  {
   "attachments": {},
   "cell_type": "markdown",
   "metadata": {},
   "source": [
    "To set the catalogue directory from which catalogue files are read and\n",
    "the measurement directory to which measurement files are saved, insert the\n",
    "absolute or relative (to the working directory) paths in the following parts.\n",
    "\n",
    "```yaml\n",
    "# YAML\n",
    "directories:\n",
    "  catalogues: [<directory: str>]\n",
    "  measurements: [<directory: str>]\n",
    "```\n",
    "\n",
    "```ini\n",
    "# INI\n",
    "catalogue_dir = [<directory: str>]\n",
    "measurement_dir = [<directory: str>]\n",
    "```\n",
    "\n",
    "```{hint}\n",
    "If left empty, the current working directory is assumed. Quotation marks\n",
    "are not necessary for strings.\n",
    "```"
   ]
  },
  {
   "attachments": {},
   "cell_type": "markdown",
   "metadata": {},
   "source": [
    "### Files"
   ]
  },
  {
   "attachments": {},
   "cell_type": "markdown",
   "metadata": {},
   "source": [
    "To set the data and random catalogue files (inside the catalogue directory\n",
    "specified as above) for which clustering measurements are made, insert the\n",
    "file names with extension in the following parts.\n",
    "\n",
    "```yaml\n",
    "# YAML\n",
    "files:\n",
    "  data_catalogue: [<filename-stem.ext: str>]\n",
    "  rand_catalogue: [<filename-stem.ext: str>]\n",
    "```\n",
    "\n",
    "```ini\n",
    "# INI\n",
    "data_catalogue_file = <filename-stem.ext: str>\n",
    "rand_catalogue_file = <filename-stem.ext: str>\n",
    "```"
   ]
  },
  {
   "attachments": {},
   "cell_type": "markdown",
   "metadata": {},
   "source": [
    "For C++ routines, the catalogue data columns need to be specified as a\n",
    "non-breaking comma-separated string in the following part.\n",
    "\n",
    "```ini\n",
    "# INI\n",
    "catalogue_columns = <column-name: str> {\",\" <column-name: str>}\n",
    "```\n",
    "\n",
    "For the Python catalogue class\n",
    "{py:class}`~triumvirate.catalogue.ParticleCatalogue`, see the\n",
    "['Particle Catalogue'](./Catalogue.ipynb) tutorial for more details. The\n",
    "equivalent C++ class is {cpp:class}`~trv::ParticleCatalogue`."
   ]
  },
  {
   "attachments": {},
   "cell_type": "markdown",
   "metadata": {},
   "source": [
    "## Mesh sampling"
   ]
  },
  {
   "attachments": {},
   "cell_type": "markdown",
   "metadata": {},
   "source": [
    "### Physical properties"
   ]
  },
  {
   "attachments": {},
   "cell_type": "markdown",
   "metadata": {},
   "source": [
    "All catalogue particles are weighted and assigned to a mesh grid as\n",
    "discrete sampling of a continuous field. The mesh grid box has sizes\n",
    "(typically in $h^{-1}\\,\\mathrm{Mpc}$ units) specified in the following parts.\n",
    "\n",
    "```yaml\n",
    "# YAML\n",
    "boxsize:\n",
    "  x: <boxsize: float>\n",
    "  y: <boxsize: float>\n",
    "  z: <boxsize: float>\n",
    "```\n",
    "\n",
    "```ini\n",
    "# INI\n",
    "boxsize_x = <boxsize: float>\n",
    "boxsize_y = <boxsize: float>\n",
    "boxsize_z = <boxsize: float>\n",
    "```"
   ]
  },
  {
   "attachments": {},
   "cell_type": "markdown",
   "metadata": {},
   "source": [
    "```{hint}\n",
    "Make sure the box sizes are large enough for the catalogues.\n",
    "```"
   ]
  },
  {
   "attachments": {},
   "cell_type": "markdown",
   "metadata": {},
   "source": [
    "The number of grid cells in each dimension is specified in the following parts.\n",
    "\n",
    "```yaml\n",
    "# YAML\n",
    "ngrid:\n",
    "  x: <grid-number: int>\n",
    "  y: <grid-number: int>\n",
    "  z: <grid-number: int>\n",
    "```\n",
    "\n",
    "```ini\n",
    "# INI\n",
    "ngrid_x = <grid-number: int>\n",
    "ngrid_y = <grid-number: int>\n",
    "ngrid_z = <grid-number: int>\n",
    "```"
   ]
  },
  {
   "attachments": {},
   "cell_type": "markdown",
   "metadata": {},
   "source": [
    "```{hint}\n",
    "Mesh grid numbers are even and typically a power of 2 for\n",
    "fast Fourier transforms.\n",
    "```"
   ]
  },
  {
   "attachments": {},
   "cell_type": "markdown",
   "metadata": {},
   "source": [
    "### Alignment"
   ]
  },
  {
   "attachments": {},
   "cell_type": "markdown",
   "metadata": {},
   "source": [
    "The particle coordinates are offset to box coordinates in length\n",
    "units. The ``alignment`` of particles in the box has two options: their\n",
    "mid-point either coincides with the box centre ('centre'), or their coordinate\n",
    "minima are padded from the origin corner of the box ('pad').\n",
    "\n",
    "If the padding option is used, the amount of padding is determined as\n",
    "a multiple ``padfactor`` of ``padscale``, which is either the box size\n",
    "('box') or the grid cell size in each dimension ('grid').\n",
    "\n",
    "This is specified in the following parts.\n",
    "\n",
    "```yaml\n",
    "# YAML\n",
    "alignment: [= centre | pad]\n",
    "padscale: [= box | grid]\n",
    "padfactor: <pad-factor: float>\n",
    "```\n",
    "\n",
    "```ini\n",
    "# INI\n",
    "alignment = [= centre | pad]\n",
    "padscale = [= box | grid]\n",
    "padfactor = <pad-factor: float>\n",
    "```"
   ]
  },
  {
   "attachments": {},
   "cell_type": "markdown",
   "metadata": {},
   "source": [
    "### Assignment"
   ]
  },
  {
   "attachments": {},
   "cell_type": "markdown",
   "metadata": {},
   "source": [
    "Mesh ``assignment`` schemes from order 1 to 4 are supported: nearest grid point\n",
    "('ngp'), cloud-in-cell ('cic'), triangular-shaped cloud ('tsc') and\n",
    "piecewise cubic spline ('pcs').\n",
    "\n",
    "The interlacing technique can be used to reduce aliasing in discrete Fourier\n",
    "transforms for two-point clustering statistics.\n",
    "\n",
    "These are specified in the following parts.\n",
    "\n",
    "```yaml\n",
    "# YAML\n",
    "assignment: [ngp | cic | = tsc | pcs]\n",
    "interlace: [(true | on | false | = off): bool]\n",
    "```\n",
    "\n",
    "```ini\n",
    "# INI\n",
    "assignment = [ngp | cic | = tsc | pcs]\n",
    "interlace = [(true | on | false | = off): str]\n",
    "```"
   ]
  },
  {
   "attachments": {},
   "cell_type": "markdown",
   "metadata": {},
   "source": [
    "## Measurements"
   ]
  },
  {
   "attachments": {},
   "cell_type": "markdown",
   "metadata": {},
   "source": [
    "### Types"
   ]
  },
  {
   "attachments": {},
   "cell_type": "markdown",
   "metadata": {},
   "source": [
    "To specify the statistic being measured in local/global plane-parallel\n",
    "(LPP/GPP) approximations or as the window function, insert the relevant\n",
    "catalogue type,\n",
    "\n",
    "  - 'survey' for LPP,\n",
    "  - 'sim' for GPP, and\n",
    "  - 'random' for window functions,\n",
    "\n",
    "and the statistic type,\n",
    "\n",
    "  - 'powspec' for power spectrum,\n",
    "  - '2pcf' for correlation function,\n",
    "  - '2pcf-win' for correlation function window,\n",
    "  - 'bispec' for bispectrum,\n",
    "  - '3pcf' for three-point correlation function,\n",
    "  - '3pcf-win' for three-point correlation function window, and\n",
    "  - '3pcf-win-wa' for three-point correlation function window\n",
    "    wide-angle terms,\n",
    "\n",
    "in the following parts.\n",
    "\n",
    "```yaml\n",
    "# YAML\n",
    "catalogue_type: survey | random | sim\n",
    "statistic_type: powspec | 2pcf | 2pcf-win | bispec | 3pcf | 3pcf-win | 3pcf-win-wa\n",
    "```\n",
    "\n",
    "```ini\n",
    "# INI\n",
    "catalogue_type = survey | random | sim\n",
    "statistic_type = powspec | 2pcf | 2pcf-win | bispec | 3pcf | 3pcf-win | 3pcf-win-wa\n",
    "```"
   ]
  },
  {
   "attachments": {},
   "cell_type": "markdown",
   "metadata": {},
   "source": [
    "### Indexing"
   ]
  },
  {
   "attachments": {},
   "cell_type": "markdown",
   "metadata": {},
   "source": [
    "Each clustering statistic is indexed by (a) multipole degree(s) $L$\n",
    "(and $\\ell_1, \\ell_2$ for three-point clustering statistics), and wide-angle\n",
    "terms are indexed by orders. These are specified in the following parts.\n",
    "\n",
    "```yaml\n",
    "# YAML\n",
    "degrees:\n",
    "  ell1: [<degree-1: int>]\n",
    "  ell2: [<degree-2: int>]\n",
    "  ELL: <degree: int>\n",
    "\n",
    "wa_orders:\n",
    "  i: [<order-i: int>]\n",
    "  j: [<order-j: int>]\n",
    "```\n",
    "\n",
    "```ini\n",
    "# INI\n",
    "ell1 = [<degree-1: int>]\n",
    "ell2 = [<degree-2: int>]\n",
    "ELL = <degree: int>\n",
    "\n",
    "i_wa = [<order-i: int>]\n",
    "j_wa = [<order-j: int>]\n",
    "```"
   ]
  },
  {
   "attachments": {},
   "cell_type": "markdown",
   "metadata": {},
   "source": [
    "### Choices"
   ]
  },
  {
   "attachments": {},
   "cell_type": "markdown",
   "metadata": {},
   "source": [
    "Three-point clustering statistic measurements have two forms: 'full' (2-d\n",
    "coordinates) or 'diagonal' (reduced to 1-d coordinates). This is specified in\n",
    "the following parts.\n",
    "\n",
    "```yaml\n",
    "# YAML\n",
    "form: [= diag | full]\n",
    "```\n",
    "\n",
    "```ini\n",
    "# INI\n",
    "form = [= diag | full]\n",
    "```"
   ]
  },
  {
   "attachments": {},
   "cell_type": "markdown",
   "metadata": {},
   "source": [
    "The normalisation factor can be computed either as a sum over catalogue\n",
    "particles ('particle') or as a sum over the mesh grid ('mesh'), and\n",
    "is specified in the following parts.\n",
    "\n",
    "```yaml\n",
    "# YAML\n",
    "norm_convention: [= particle | mesh]\n",
    "```\n",
    "\n",
    "```ini\n",
    "# INI\n",
    "norm_convention = [= particle | mesh]\n",
    "```"
   ]
  },
  {
   "attachments": {},
   "cell_type": "markdown",
   "metadata": {},
   "source": [
    "### Coordinate binning"
   ]
  },
  {
   "attachments": {},
   "cell_type": "markdown",
   "metadata": {},
   "source": [
    "The coordinates at which the statistics are measured and binned are determined\n",
    "by a ``binning`` scheme: linear ('lin') spacing, logarithmic ('log') spacing,\n",
    "linear spacing with additional lower-end padding for 5 linear intervals\n",
    "('linpad'), logarithmic spacing with additional lower-end padding for 5 linear\n",
    "intervals ('logpad'), and customised bins ('custom') (for which the user needs\n",
    "to supply the binning class object explicitly). The padding intervals are\n",
    "$10^{-3}$ (assuming $h\\,\\mathrm{Mpc}^{-1}$ units) in Fourier space and $10$\n",
    "(assuming $h^{-1}\\,\\mathrm{Mpc}$ units) in configuration space. The total\n",
    "number of bins, ``num_bins``, should be no lower than 2 (or 7 with padding),\n",
    "and the binning ``range`` are the lower and upper edges ``bin_min`` and\n",
    "``bin_max`` of the bins. In addition, for 'full' ``form`` three-point\n",
    "clustering statistics, the first coordinate is fixed with the bin index\n",
    "``idx_bin`` specified.\n",
    "\n",
    "```yaml\n",
    "# YAML\n",
    "binning: [= lin | log | linpad | logpad | custom]\n",
    "range: \"[\"<bin-min>\",\" <bin-max>\"]\"\n",
    "num_bins: <bin-number>: int>\n",
    "idx_bin: <bin-index: int>\n",
    "```\n",
    "\n",
    "```ini\n",
    "# INI\n",
    "binning = [= lin | log | linpad | logpad | custom]\n",
    "bin_min = <bin-min: float>\n",
    "bin_max = <bin-max: float>\n",
    "num_bins = <bin-number: int>\n",
    "idx_bin = <bin-index: int>\n",
    "```"
   ]
  },
  {
   "attachments": {},
   "cell_type": "markdown",
   "metadata": {},
   "source": [
    "For the Python binning class {py:class}`~triumvirate.dataobjs.Binning`,\n",
    "see the ['Binning Scheme'](./Binning.ipynb) tutorial for more details.\n",
    "The equivalent C++ class is {cpp:class}`~trv::Binning`."
   ]
  },
  {
   "attachments": {},
   "cell_type": "markdown",
   "metadata": {},
   "source": [
    "## Miscellaneous"
   ]
  },
  {
   "attachments": {},
   "cell_type": "markdown",
   "metadata": {},
   "source": [
    "### Logging"
   ]
  },
  {
   "attachments": {},
   "cell_type": "markdown",
   "metadata": {},
   "source": [
    "The C++ backend/program comes with a logger ({cpp:class}`~trv::sys::Logger`)\n",
    "for which the verbosity/logging level can be specified in the following parts.\n",
    "\n",
    "```yaml\n",
    "# YAML\n",
    "verbose: <logging-level: int>\n",
    "```\n",
    "\n",
    "```ini\n",
    "# INI\n",
    "verbose = <logging-level: int>\n",
    "```"
   ]
  }
 ],
 "metadata": {
  "kernelspec": {
   "display_name": "Python 3",
   "language": "python",
   "name": "python3"
  },
  "language_info": {
   "name": "python",
   "version": "3.10.6"
  },
  "orig_nbformat": 4,
  "vscode": {
   "interpreter": {
    "hash": "e7370f93d1d0cde622a1f8e1c04877d8463912d04d973331ad4851f04de6915a"
   }
  }
 },
 "nbformat": 4,
 "nbformat_minor": 2
}
