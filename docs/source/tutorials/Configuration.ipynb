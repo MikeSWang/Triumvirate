{
 "cells": [
  {
   "attachments": {},
   "cell_type": "markdown",
   "metadata": {},
   "source": [
    "# Parameter Configuration"
   ]
  },
  {
   "attachments": {},
   "cell_type": "markdown",
   "metadata": {},
   "source": [
    "This tutorials explains the role of each parameter in the parameter files\n",
    "used to run the Python and C++ routines. The Python parameter file is in the\n",
    "YAML format, whereas the C++ parameter file is in the INI format.\n",
    "For each parameter mentioned below, the configurations for both formats\n",
    "are listed.\n",
    "\n",
    "```{seealso}\n",
    "For the Python parameter set class\n",
    "{py:class}`~triumvirate.parameters.ParameterSet`, see\n",
    "[Parameter Set](./Parameters.ipynb) for more details. The equivalent\n",
    "C++ class is {cpp:class}`~trv::ParameterSet`.\n",
    "```\n",
    "\n",
    "```{note}\n",
    "Entry values in the parameter file snippets below are written in a\n",
    "pseudo [extended Backus--Naur form](https://en.wikipedia.org/wiki/Extended_Backus–Naur_form),\n",
    "where\n",
    "  - angled brackets ``<`` and ``>`` denotes a parameter value;\n",
    "  - square brackets ``[`` and ``]`` delimit an optional entry;\n",
    "  - braces ``{`` and ``}`` delimit repetitions;\n",
    "  - round brackets ``(`` and ``)`` delimit a grouping;\n",
    "  - a vertical bar ``|`` separates mutually exclusive options;\n",
    "  - an equal sign ``=`` inside optional entries denotes the default value;\n",
    "  - a colon ``:`` inside an entry is followed by the data type.\n",
    "```"
   ]
  },
  {
   "attachments": {},
   "cell_type": "markdown",
   "metadata": {},
   "source": [
    "## System I/O"
   ]
  },
  {
   "attachments": {},
   "cell_type": "markdown",
   "metadata": {},
   "source": [
    "### Directories"
   ]
  },
  {
   "attachments": {},
   "cell_type": "markdown",
   "metadata": {
    "tags": [
     "full-width"
    ]
   },
   "source": [
    "To set the catalogue directory from which catalogue files are read and\n",
    "the measurement directory to which measurement files are saved, insert the\n",
    "absolute or relative (to the working directory) paths in the following parts.\n",
    "\n",
    "````{eval-rst}\n",
    ".. tab-set-code::\n",
    "\n",
    "    .. code-block:: yaml\n",
    "\n",
    "        directories:\n",
    "          catalogues: [<directory: str>]\n",
    "          measurements: [<directory: str>]\n",
    "\n",
    "    .. code-block:: ini\n",
    "        \n",
    "        catalogue_dir = [<directory: string>]\n",
    "        measurement_dir = [<directory: string>]\n",
    "\n",
    "````\n",
    "\n",
    "```{hint}\n",
    "If left empty, the current working directory is assumed. The catalogue\n",
    "directory can be unset if no catalogues are to be loaded.\n",
    "```"
   ]
  },
  {
   "attachments": {},
   "cell_type": "markdown",
   "metadata": {},
   "source": [
    "### Files"
   ]
  },
  {
   "attachments": {},
   "cell_type": "markdown",
   "metadata": {
    "tags": [
     "full-width"
    ]
   },
   "source": [
    "To set the data and random catalogue files (inside the catalogue directory\n",
    "specified as above) for which clustering measurements are made, insert the\n",
    "file names with extension in the following parts.\n",
    "\n",
    "````{eval-rst}\n",
    ".. tab-set-code::\n",
    "\n",
    "    .. code-block:: yaml\n",
    "\n",
    "        files:\n",
    "          data_catalogue: [<filename-stem.ext: str>]\n",
    "          rand_catalogue: [<filename-stem.ext: str>]\n",
    "\n",
    "    .. code-block:: ini\n",
    "        \n",
    "        data_catalogue_file = [<filename-stem.ext: string>]\n",
    "        rand_catalogue_file = [<filename-stem.ext: string>]\n",
    "\n",
    "````\n",
    "\n",
    "```{hint}\n",
    "If no data/random catalogue(s) is/are to be loaded by the program, then\n",
    "the corresponding parameter has no effect/can be unset.\n",
    "```"
   ]
  },
  {
   "attachments": {},
   "cell_type": "markdown",
   "metadata": {},
   "source": [
    "For C++ routines, the catalogue data columns need to be specified as a\n",
    "non-breaking comma-separated string in the following part in the INI file.\n",
    "For the Python program, <strike>this is specified as a list of strings in the\n",
    "YAML file</strike>this is a future feature, currently has no effect and can be\n",
    "unset in the YAML file.\n",
    "\n",
    "```{code-block} ini\n",
    ":caption: INI\n",
    "catalogue_columns = [<column-name: string>{\",\"<column-name: string>}]\n",
    "```\n",
    "\n",
    "```{hint}\n",
    "This parameter is required in the INI file when a catalogue file is to be\n",
    "loaded by the C++ program<strike>, or when the Python catalogue reader\n",
    "cannot infer the data columns</strike>.\n",
    "```\n",
    "\n",
    "```{seealso}\n",
    "For the Python catalogue class\n",
    "{py:class}`~triumvirate.catalogue.ParticleCatalogue`, see\n",
    "[Particle Catalogue](./Catalogue.ipynb) for more details. The\n",
    "equivalent C++ class is {cpp:class}`~trv::ParticleCatalogue`.\n",
    "```"
   ]
  },
  {
   "attachments": {},
   "cell_type": "markdown",
   "metadata": {},
   "source": [
    "## Mesh sampling"
   ]
  },
  {
   "attachments": {},
   "cell_type": "markdown",
   "metadata": {},
   "source": [
    "### Physical properties"
   ]
  },
  {
   "attachments": {},
   "cell_type": "markdown",
   "metadata": {
    "tags": [
     "full-width"
    ]
   },
   "source": [
    "All catalogue particles are weighted and assigned to a mesh grid as\n",
    "discrete sampling of a continuous field. The mesh grid box has sizes\n",
    "(typically in $h^{-1}\\,\\mathrm{Mpc}$ units) specified in the following parts.\n",
    "\n",
    "````{eval-rst}\n",
    ".. tab-set-code::\n",
    "\n",
    "    .. code-block:: yaml\n",
    "\n",
    "        boxsize:\n",
    "          x: <boxsize: float>\n",
    "          y: <boxsize: float>\n",
    "          z: <boxsize: float>\n",
    "\n",
    "    .. code-block:: ini\n",
    "        \n",
    "        boxsize_x = <boxsize: double>\n",
    "        boxsize_y = <boxsize: double>\n",
    "        boxsize_z = <boxsize: double>\n",
    "\n",
    "````\n",
    "\n",
    "```{hint}\n",
    "Make sure the box sizes are large enough for the catalogue(s).\n",
    "```"
   ]
  },
  {
   "attachments": {},
   "cell_type": "markdown",
   "metadata": {
    "tags": [
     "full-width"
    ]
   },
   "source": [
    "The number of grid cells in each dimension is specified in the following parts.\n",
    "\n",
    "````{eval-rst}\n",
    ".. tab-set-code::\n",
    "\n",
    "    .. code-block:: yaml\n",
    "\n",
    "        ngrid:\n",
    "          x: <grid-number: int>\n",
    "          y: <grid-number: int>\n",
    "          z: <grid-number: int>\n",
    "\n",
    "    .. code-block:: ini\n",
    "        \n",
    "        ngrid_x = <grid-number: int>\n",
    "        ngrid_y = <grid-number: int>\n",
    "        ngrid_z = <grid-number: int>\n",
    "\n",
    "````\n",
    "\n",
    "```{hint}\n",
    "Mesh grid numbers should be even and often a power of 2 for\n",
    "fast Fourier transforms.\n",
    "```"
   ]
  },
  {
   "cell_type": "markdown",
   "metadata": {},
   "source": [
    "If the box sizes are to be determined after loading the particle catalogue(s),\n",
    "the box expansion factor can be specified such that the box size in each\n",
    "dimension is the particle coordinate span multiplied by it.\n",
    "\n",
    "````{eval-rst}\n",
    ".. tab-set-code::\n",
    "\n",
    "    .. code-block:: yaml\n",
    "\n",
    "        expand: <box-expansion: float>\n",
    "\n",
    "    .. code-block:: ini\n",
    "        \n",
    "        expand = <box-expansion: double>\n",
    "\n",
    "````\n",
    "\n",
    "```{hint}\n",
    "The expansion factor is typically unity for cubic-box simulation-like\n",
    "catalogues whose clustering statistics are computed in the global\n",
    "plane-parallel approximation, and greater than one for survey-like catalogues\n",
    "in the local plane-parallel approximation.\n",
    "```"
   ]
  },
  {
   "attachments": {},
   "cell_type": "markdown",
   "metadata": {},
   "source": [
    "### Alignment"
   ]
  },
  {
   "attachments": {},
   "cell_type": "markdown",
   "metadata": {
    "tags": [
     "full-width"
    ]
   },
   "source": [
    "The particle coordinates are offset to box coordinates in length\n",
    "units. The ``alignment`` of particles in the box has two options: their\n",
    "mid-point either coincides with the box centre ('centre'), or their coordinate\n",
    "minima are padded from the origin corner of the box ('pad').\n",
    "\n",
    "If the padding option is used, the amount of padding is determined as\n",
    "a multiple ``padfactor`` of ``padscale``, which is either the box size\n",
    "('box') or the grid cell size in each dimension ('grid').\n",
    "\n",
    "This is specified in the following parts.\n",
    "\n",
    "````{eval-rst}\n",
    ".. tab-set-code::\n",
    "\n",
    "    .. code-block:: yaml\n",
    "\n",
    "        alignment: [=centre | pad]\n",
    "        padscale: [=box | grid]\n",
    "        padfactor: [<pad-factor: float>]\n",
    "\n",
    "    .. code-block:: ini\n",
    "        \n",
    "        alignment = [=centre | pad]\n",
    "        padscale = [=box | grid]\n",
    "        padfactor = [<pad-factor: double>]\n",
    "\n",
    "````"
   ]
  },
  {
   "attachments": {},
   "cell_type": "markdown",
   "metadata": {},
   "source": [
    "### Assignment"
   ]
  },
  {
   "attachments": {},
   "cell_type": "markdown",
   "metadata": {
    "tags": [
     "full-width"
    ]
   },
   "source": [
    "Mesh ``assignment`` schemes from order 1 to 4 are supported: nearest grid point\n",
    "('ngp'), cloud-in-cell ('cic'), triangular-shaped cloud ('tsc') and\n",
    "piecewise cubic spline ('pcs').\n",
    "\n",
    "The interlacing technique can be used to reduce aliasing in discrete Fourier\n",
    "transforms for two-point clustering statistics only.\n",
    "\n",
    "These are specified in the following parts.\n",
    "\n",
    "````{eval-rst}\n",
    ".. tab-set-code::\n",
    "\n",
    "    .. code-block:: yaml\n",
    "\n",
    "        assignment: [ngp | cic | =tsc | pcs]\n",
    "        interlace: [(true | on | false | =off): bool]\n",
    "\n",
    "    .. code-block:: ini\n",
    "        \n",
    "        assignment = [ngp | cic | =tsc | pcs]\n",
    "        interlace = [(true | on | false | =off): string]\n",
    "\n",
    "````"
   ]
  },
  {
   "attachments": {},
   "cell_type": "markdown",
   "metadata": {},
   "source": [
    "## Measurements"
   ]
  },
  {
   "attachments": {},
   "cell_type": "markdown",
   "metadata": {},
   "source": [
    "### Types"
   ]
  },
  {
   "attachments": {},
   "cell_type": "markdown",
   "metadata": {
    "tags": [
     "full-width"
    ]
   },
   "source": [
    "To specify the statistic being measured in local/global plane-parallel\n",
    "(LPP/GPP) approximations or as the window function, insert the relevant\n",
    "catalogue type,\n",
    "\n",
    "  - 'survey' for LPP,\n",
    "  - 'sim' for GPP, and\n",
    "  - 'random' for window functions,\n",
    "  - 'none' for other statistics (e.g. mesh grid binning),\n",
    "\n",
    "and the statistic type,\n",
    "\n",
    "  - 'powspec' for power spectrum,\n",
    "  - '2pcf' for correlation function,\n",
    "  - '2pcf-win' for correlation function window,\n",
    "  - 'bispec' for bispectrum,\n",
    "  - '3pcf' for three-point correlation function,\n",
    "  - '3pcf-win' for three-point correlation function window,\n",
    "  - '3pcf-win-wa' for three-point correlation function window wide-angle terms,\n",
    "  - 'modes' for the binning of wavevector modes,\n",
    "  - 'pairs' for the binning of separation pairs,\n",
    "\n",
    "in the following parts.\n",
    "\n",
    "````{eval-rst}\n",
    ".. tab-set-code::\n",
    "\n",
    "    .. code-block:: yaml\n",
    "\n",
    "        catalogue_type: [survey | random | sim | none]\n",
    "        statistic_type: [powspec | 2pcf | 2pcf-win | bispec | 3pcf | 3pcf-win | 3pcf-win-wa | modes | pairs]\n",
    "\n",
    "    .. code-block:: ini\n",
    "        \n",
    "        catalogue_type = survey | random | sim | none\n",
    "        statistic_type = powspec | 2pcf | 2pcf-win | bispec | 3pcf | 3pcf-win | 3pcf-win-wa\n",
    "\n",
    "````"
   ]
  },
  {
   "attachments": {},
   "cell_type": "markdown",
   "metadata": {},
   "source": [
    "### Indexing"
   ]
  },
  {
   "attachments": {},
   "cell_type": "markdown",
   "metadata": {
    "tags": [
     "full-width"
    ]
   },
   "source": [
    "Each clustering statistic is indexed by (a) multipole degree(s) $L$\n",
    "(and $\\ell_1, \\ell_2$ for three-point statistics), and wide-angle\n",
    "terms are indexed by orders $i, j$. These are specified in the following parts.\n",
    "\n",
    "````{eval-rst}\n",
    ".. tab-set-code::\n",
    "\n",
    "    .. code-block:: yaml\n",
    "\n",
    "        degrees:\n",
    "          ell1: [<degree-1: int>]\n",
    "          ell2: [<degree-2: int>]  \n",
    "          ELL: [<degree: int>]\n",
    "\n",
    "        wa_orders:\n",
    "          i: [<order-i: int>]\n",
    "          j: [<order-j: int>]\n",
    "\n",
    "    .. code-block:: ini\n",
    "        \n",
    "        ell1 = [<degree-1: int>]\n",
    "        ell2 = [<degree-2: int>]\n",
    "        ELL = [<degree: int>]\n",
    "\n",
    "        i_wa = [<order-i: int>]\n",
    "        j_wa = [<order-j: int>]\n",
    "\n",
    "````\n",
    "\n",
    "```{hint}\n",
    "These indices can be unset if no actual clustering measurements are being made,\n",
    "e.g. when 'statistic_type' is 'modes' or 'pairs' for obtaining the mesh grid\n",
    "binning details only.\n",
    "```"
   ]
  },
  {
   "attachments": {},
   "cell_type": "markdown",
   "metadata": {},
   "source": [
    "### Choices"
   ]
  },
  {
   "attachments": {},
   "cell_type": "markdown",
   "metadata": {
    "tags": [
     "full-width"
    ]
   },
   "source": [
    "Three-point clustering statistic measurements have four forms:\n",
    "'diag' (diagonal), 'off-diag' (off-diagonal) and 'row', which all have reduced\n",
    "1-d coordinate binning, and 'full', which has flattened 2-d coordinate\n",
    "binning. This is specified in the following parts.\n",
    "\n",
    "````{eval-rst}\n",
    ".. tab-set-code::\n",
    "\n",
    "    .. code-block:: yaml\n",
    "\n",
    "        form: [=diag | off-diag | row | full]\n",
    "\n",
    "    .. code-block:: ini\n",
    "        \n",
    "        form = [=diag | off-diag | row | full]\n",
    "\n",
    "````\n",
    "\n",
    "```{hint}\n",
    "The 'off-diag' form returns an off-diagonal in the upper triangular matrix\n",
    "of the 2-d full form. The 'full' form concatenates entries of each row\n",
    "in the upper triangular matrix.\n",
    "```"
   ]
  },
  {
   "attachments": {},
   "cell_type": "markdown",
   "metadata": {
    "tags": [
     "full-width"
    ]
   },
   "source": [
    "The normalisation factor can be computed either as a sum over catalogue\n",
    "particles ('particle') or as a sum over the mesh grid ('mesh'), or\n",
    "unspecified ('none') equivalent to unity normalisation. For two-point\n",
    "clustering statistics only,\n",
    "[`pypower`-like mixed-mesh normalisation](https://pypower.readthedocs.io/en/latest/api/api.html#pypower.fft_power.normalization)\n",
    "is available as 'mesh-mixed'. The normalisation convention is specified in\n",
    "the following parts.\n",
    "\n",
    "````{eval-rst}\n",
    ".. tab-set-code::\n",
    "\n",
    "    .. code-block:: yaml\n",
    "\n",
    "        norm_convention: [=particle | mesh | mesh-mixed | none]\n",
    "\n",
    "    .. code-block:: ini\n",
    "        \n",
    "        norm_convention = [=particle | mesh | mesh-mixed | none]\n",
    "\n",
    "````"
   ]
  },
  {
   "attachments": {},
   "cell_type": "markdown",
   "metadata": {},
   "source": [
    "### Coordinate binning"
   ]
  },
  {
   "attachments": {},
   "cell_type": "markdown",
   "metadata": {
    "tags": [
     "full-width"
    ]
   },
   "source": [
    "The coordinates at which the statistics are measured and binned are determined\n",
    "by a ``binning`` scheme: linear ('lin') spacing, logarithmic ('log') spacing,\n",
    "linear spacing with additional lower-end padding for 5 linear intervals\n",
    "('linpad'), logarithmic spacing with additional lower-end padding for 5 linear\n",
    "intervals ('logpad'), and customised bins ('custom') (for which the user needs\n",
    "to supply the binning class object explicitly). The padding intervals are\n",
    "$10^{-3}$ (wavenumber units) in Fourier space and $10$ (length units) in\n",
    "configuration space. The total number of bins, ``num_bins``, should be no\n",
    "lower than 2 (or 7 with padding), and the binning ``range`` are the lower and\n",
    "upper edges ``bin_min`` and ``bin_max`` of the bins.\n",
    "\n",
    "In addition, for 'row' ``form`` three-point statistics, the first coordinate\n",
    "is fixed with the bin index ``idx_bin`` specified; for 'off-diag' ``form``\n",
    "three-point statistics, the off-diagonal index is specified by ``idx_bin``\n",
    "as well.\n",
    "\n",
    "````{eval-rst}\n",
    ".. tab-set-code::\n",
    "\n",
    "    .. code-block:: yaml\n",
    "\n",
    "        binning: [=lin | log | linpad | logpad | custom]\n",
    "        range: \"[\"<bin-min: float>\",\" <bin-max: float>\"]\"\n",
    "        num_bins: <bin-number: int>\n",
    "        idx_bin: <bin-index: int>\n",
    "\n",
    "    .. code-block:: ini\n",
    "        \n",
    "        binning = [=lin | log | linpad | logpad | custom]\n",
    "        bin_min = <bin-min: double>\n",
    "        bin_max = <bin-max: double>\n",
    "        num_bins = <bin-number: int>\n",
    "        idx_bin = <bin-index: int>\n",
    "\n",
    "````"
   ]
  },
  {
   "attachments": {},
   "cell_type": "markdown",
   "metadata": {},
   "source": [
    "```{seealso}\n",
    "For the Python binning class {py:class}`~triumvirate.dataobjs.Binning`,\n",
    "see [Binning Scheme](./Binning.ipynb) for more details.\n",
    "The equivalent C++ class is {cpp:class}`~trv::Binning`.\n",
    "```"
   ]
  },
  {
   "attachments": {},
   "cell_type": "markdown",
   "metadata": {},
   "source": [
    "## Miscellaneous"
   ]
  },
  {
   "cell_type": "markdown",
   "metadata": {},
   "source": [
    "### Optimisation\n",
    "\n",
    "To adapt the FFTW planner algorithm which has different 'rigour' and\n",
    "optimisation levels, pass a supported `fftw_scheme` value below, which\n",
    "corresponds to a FFTW planner flag.\n",
    "\n",
    "````{eval-rst}\n",
    ".. tab-set-code::\n",
    "\n",
    "    .. code-block:: yaml\n",
    "\n",
    "        fftw_scheme: [estimate | =measure | patient]\n",
    "\n",
    "    .. code-block:: ini\n",
    "        \n",
    "        fftw_scheme = [estimate | =measure | patient]\n",
    "\n",
    "````\n",
    "\n",
    "```{seealso}\n",
    "For more information about FFTW planner flags, see the official\n",
    "[documentation page](https://www.fftw.org/fftw3_doc/Planner-Flags.html).\n",
    "```\n",
    "\n",
    "FFT operations can be sped up using FFTW wisdom which accumulates runtime\n",
    "performance feedback into pre-optimised plans tuned to specific data sizes\n",
    "and hardware.\n",
    "\n",
    "To disable FFTW wisdom, set the `use_fftw_wisdom` parameter to 'false'\n",
    "or leave it empty.  To enable FFTW wisdom, pass a directory path\n",
    "to `use_fftw_wisdom` so that the program either imports wisdom files from\n",
    "prior runs or exports wisdom files from the current run.\n",
    "\n",
    "````{eval-rst}\n",
    ".. tab-set-code::\n",
    "\n",
    "    .. code-block:: yaml\n",
    "\n",
    "        use_fftw_wisdom: [=false | off | <directory: str>]\n",
    "\n",
    "    .. code-block:: ini\n",
    "        \n",
    "        use_fftw_wisdom = [=false | <directory: string>]\n",
    "\n",
    "````\n",
    "\n",
    "```{hint}\n",
    "The filename pattern is pre-determined by the program:\n",
    "`fftw[_omp]_ci<direction>_<ngrid_x>x<ngrid_y>x<ngrid_z>.wisdom`,\n",
    "where the `_omp` suffix denotes OpenMP-capable routines,\n",
    "`<direction>` is either 'f' (forward) or 'b' (backward),\n",
    "`<ngrid_(x|y|z)>` is the mesh grid cell number, and 'c' and 'i' stand for\n",
    "complex-to-complex, in-place transforms.\n",
    "```\n",
    "\n",
    "```{warning}\n",
    "If a FFTW wisdom file is imported and used, it should have been generated\n",
    "with a FFTW planner flag higher than or equal to that of `fftw_scheme`.\n",
    "If a new one is generated and exported, it will inherit the FFTW planner\n",
    "flag from `fftw_scheme`.  If a FFTW wisdom file has been generated\n",
    "with/without OpenMP multithreading, it can only be reused by a routine\n",
    "similarly with/without OpenMP multithreading; the thread number does not\n",
    "matter.\n",
    "```\n",
    "\n",
    "```{seealso}\n",
    "For more information about FFTW wisdom, see the official\n",
    "[documentation page](https://www.fftw.org/fftw3_doc/Wisdom.html).\n",
    "```"
   ]
  },
  {
   "cell_type": "markdown",
   "metadata": {
    "vscode": {
     "languageId": "plaintext"
    }
   },
   "source": [
    "### I/O\n",
    "\n",
    "The C++ program can save the details of the binning of wavevector modes or\n",
    "separation pairs from a mesh grid when measuring clustering statistics to\n",
    "a file in the following part in the INI file. For the Python program, this is\n",
    "a future feature, currently has no effect and can be unset in the YAML file.\n",
    "\n",
    "```{code-block} ini\n",
    ":caption: INI\n",
    "save_binned_vectors = [=false | true | <file-path: string>]\n",
    "```\n",
    "\n",
    "```{hint}\n",
    "When `save_binned_vectors` is 'true', a default file path in the\n",
    "measurement directory is used to save the binned vectors; if it is a string\n",
    "(not 'false'), then that is used as the saved file path (relative to\n",
    "the measurement directory).\n",
    "```"
   ]
  },
  {
   "attachments": {},
   "cell_type": "markdown",
   "metadata": {},
   "source": [
    "### Logging"
   ]
  },
  {
   "attachments": {},
   "cell_type": "markdown",
   "metadata": {
    "tags": [
     "full-width"
    ]
   },
   "source": [
    "The C++ backend/program comes with a logger ({cpp:class}`~trv::sys::Logger`)\n",
    "for which the verbosity/logging level can be specified in the following parts.\n",
    "\n",
    "````{eval-rst}\n",
    ".. tab-set-code::\n",
    "\n",
    "    .. code-block:: yaml\n",
    "\n",
    "        verbose: [=20 | <logging-level: int>]\n",
    "\n",
    "    .. code-block:: ini\n",
    "        \n",
    "        verbose = [=20 | <logging-level: int>]\n",
    "\n",
    "````"
   ]
  },
  {
   "cell_type": "markdown",
   "metadata": {},
   "source": [
    "The C++ backend/program also comes with an optional progress bar\n",
    "({cpp:class}`~trv::sys::ProgressBar`) for which the update interval can be\n",
    "specified in terms of percentage  points if an integer\n",
    "(or integer-like string) is passed.\n",
    "\n",
    "````{eval-rst}\n",
    ".. tab-set-code::\n",
    "\n",
    "    .. code-block:: yaml\n",
    "\n",
    "        progbar: [false | true | =off | on | <%-points: float>]\n",
    "\n",
    "    .. code-block:: ini\n",
    "        \n",
    "        progbar = [=false | true | <%-points: float>]\n",
    "\n",
    "````"
   ]
  }
 ],
 "metadata": {
  "kernelspec": {
   "display_name": "Python 3",
   "language": "python",
   "name": "python3"
  },
  "language_info": {
   "name": "python",
   "version": "3.11.9"
  },
  "orig_nbformat": 4,
  "vscode": {
   "interpreter": {
    "hash": "e7370f93d1d0cde622a1f8e1c04877d8463912d04d973331ad4851f04de6915a"
   }
  }
 },
 "nbformat": 4,
 "nbformat_minor": 2
}
