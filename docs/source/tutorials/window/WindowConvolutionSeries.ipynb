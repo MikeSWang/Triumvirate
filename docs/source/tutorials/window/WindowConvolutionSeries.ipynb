{
 "cells": [
  {
   "cell_type": "markdown",
   "metadata": {},
   "source": [
    "# Window Convolution Series"
   ]
  },
  {
   "cell_type": "markdown",
   "metadata": {},
   "source": [
    "Load modules."
   ]
  },
  {
   "cell_type": "code",
   "execution_count": 1,
   "metadata": {},
   "outputs": [],
   "source": [
    "import warnings\n",
    "from itertools import product\n",
    "\n",
    "warnings.filterwarnings('ignore')\n",
    "\n",
    "import numpy as np\n",
    "import matplotlib.pyplot as plt\n",
    "from matplotlib.colors import LogNorm\n",
    "from mpl_toolkits.axes_grid1 import make_axes_locatable\n",
    "from scipy.interpolate import InterpolatedUnivariateSpline\n",
    "from triumvirate._arrayops import reshape_threept_datatab\n",
    "from triumvirate.transforms import resample_lglin\n",
    "from triumvirate.winconv import (\n",
    "    BispecWinConv,\n",
    "    Multipole,\n",
    "    ThreePointWindow,\n",
    "    WinConvFormulae,\n",
    ")\n",
    "\n",
    "from config import DATADIR"
   ]
  },
  {
   "cell_type": "markdown",
   "metadata": {},
   "source": [
    "Set I/O.\n",
    "\n",
    "**NOTE**:\n",
    "- Change `MULTIPOLE` to `'000'` for subfigures (a) (monopole), and `'202'` for subfigures (b) (quadrupole);\n",
    "- Change `METRIC` to `'remove'` for Figure 6, and `'cascade'` for Figure 7."
   ]
  },
  {
   "cell_type": "code",
   "execution_count": 2,
   "metadata": {},
   "outputs": [],
   "source": [
    "MULTIPOLE = '000'  # '202'\n",
    "METRIC = 'remove'  # 'cascade'"
   ]
  },
  {
   "cell_type": "code",
   "execution_count": 3,
   "metadata": {},
   "outputs": [],
   "source": [
    "SUFFIX_BOX = \"cubicbox_LRG_z0.500_mocks\"\n",
    "SUFFIX_SKY = \"LRG_altmtl_SGC_0.4z0.6_mocks\"\n",
    "SUFFIX_PROXY = SUFFIX_BOX\n",
    "SUFFIX_WIN = f\"{SUFFIX_SKY}_18xF\".replace('mocks', 'mock0')"
   ]
  },
  {
   "cell_type": "code",
   "execution_count": 4,
   "metadata": {},
   "outputs": [],
   "source": [
    "# NOTE: Because 25 realisations are limited in number for covariance estimation,\n",
    "# 12 bins are subselected.\n",
    "BINIDX = list(range(1, 24, 2))\n",
    "DDOF = len(BINIDX) - 1"
   ]
  },
  {
   "cell_type": "markdown",
   "metadata": {},
   "source": [
    "Define window convolution formulae."
   ]
  },
  {
   "cell_type": "code",
   "execution_count": 5,
   "metadata": {},
   "outputs": [],
   "source": [
    "WINCONV_FORMULAE_REF = WinConvFormulae({\n",
    "    '000': [\n",
    "        ('000', '000', '1'),\n",
    "        ('000', 'ic', '-1'),\n",
    "        ('110', '110', '1/3'),\n",
    "        ('220', '220', '1/5'),\n",
    "        ('022', '022', '1/5'),\n",
    "        ('202', '202', '1/5'),\n",
    "        ('112', '112', '1/6'),\n",
    "        ('132', '132', '1/9'),\n",
    "        ('312', '312', '1/9'),\n",
    "    ],\n",
    "    '202': [\n",
    "        ('000', '202', '1'),\n",
    "        ('202', '000', '1'),\n",
    "        ('202', 'ic', '-1'),\n",
    "        ('110', '112', '1/3'),\n",
    "        ('112', '110', '1/3'),\n",
    "        ('110', '312', '1/3'),\n",
    "        ('312', '110', '1/3'),\n",
    "        ('202', '202', '2/7'),\n",
    "        ('022', '220', '1/5'),\n",
    "        ('220', '022', '1/5'),\n",
    "        ('112', '112', '1/6'),\n",
    "        ('312', '312', '8/63'),\n",
    "        ('112', '312', '1/21'),\n",
    "        ('312', '112', '1/21'),\n",
    "        ('132', '132', '1/6'),\n",
    "    ],\n",
    "})\n",
    "\n",
    "if MULTIPOLE == '000':\n",
    "    WINCONV_FORMULAE_LEAD = WinConvFormulae({\n",
    "        '000': [\n",
    "            ('000', '000', '1'),\n",
    "        ],\n",
    "        '202': [\n",
    "            ('000', '202', '1'),\n",
    "            ('202', '000', '1'),\n",
    "            ('110', '112', '1/3'),\n",
    "            ('112', '110', '1/3'),\n",
    "            ('110', '312', '1/3'),\n",
    "            ('312', '110', '1/3'),\n",
    "            ('202', '202', '2/7'),\n",
    "            ('022', '220', '1/5'),\n",
    "            ('220', '022', '1/5'),\n",
    "            ('112', '112', '1/6'),\n",
    "            ('312', '312', '8/63'),\n",
    "            ('112', '312', '1/21'),\n",
    "            ('312', '112', '1/21'),\n",
    "            ('132', '132', '1/6'),\n",
    "            ('202', 'ic', '-1'),\n",
    "        ],\n",
    "    })\n",
    "elif MULTIPOLE == '202':\n",
    "    WINCONV_FORMULAE_LEAD = WinConvFormulae({\n",
    "        '000': [\n",
    "            ('000', '000', '1'),\n",
    "            ('110', '110', '1/3'),\n",
    "            ('220', '220', '1/5'),\n",
    "            ('022', '022', '1/5'),\n",
    "            ('202', '202', '1/5'),\n",
    "            ('112', '112', '1/6'),\n",
    "            ('132', '132', '1/9'),\n",
    "            ('312', '312', '1/9'),\n",
    "            ('000', 'ic', '-1'),\n",
    "        ],\n",
    "        '202': [\n",
    "            ('000', '202', '1'),\n",
    "        ],\n",
    "    })"
   ]
  },
  {
   "cell_type": "markdown",
   "metadata": {},
   "source": [
    "Load unwindowed cubic-box and windowed cut-sky measurements."
   ]
  },
  {
   "cell_type": "code",
   "execution_count": 6,
   "metadata": {},
   "outputs": [],
   "source": [
    "results_bk_box = {}\n",
    "results_bk_sky = {}\n",
    "for multipole in WINCONV_FORMULAE_REF.multipoles:\n",
    "    results_bk_box[multipole] = np.load(\n",
    "        DATADIR / \"common\" / \"unwindowed\" /\n",
    "        f\"bk{multipole.abstr}_diag_{SUFFIX_BOX}.npy\",\n",
    "        allow_pickle=True,\n",
    "    ).item()\n",
    "    results_bk_sky[multipole] = np.load(\n",
    "        DATADIR / \"common\" / \"windowed\" /\n",
    "        f\"bk{multipole.abstr}_diag_{SUFFIX_SKY}.npy\",\n",
    "        allow_pickle=True,\n",
    "    ).item()\n",
    "\n",
    "bk_box = {}\n",
    "dbk_box = {}\n",
    "for multipole in results_bk_box.keys():\n",
    "    N_box = len(results_bk_box[multipole]['stats'])\n",
    "    k_box = results_bk_box[multipole]['coords']\n",
    "    bk_box[multipole] = results_bk_box[multipole]['stats_mean']\n",
    "    dbk_box[multipole] = results_bk_box[multipole]['stats_std'] / np.sqrt(N_box)\n",
    "\n",
    "bk_sky = {}\n",
    "dbk_sky = {}\n",
    "for multipole in results_bk_sky.keys():\n",
    "    N_sky = len(results_bk_sky[multipole]['stats'])\n",
    "    k_sky = results_bk_sky[multipole]['coords']\n",
    "    bk_sky[multipole] = results_bk_sky[multipole]['stats_mean']\n",
    "    dbk_sky[multipole] = results_bk_sky[multipole]['stats_std'] / np.sqrt(N_sky)"
   ]
  },
  {
   "cell_type": "markdown",
   "metadata": {},
   "source": [
    "Estimate precision matrix."
   ]
  },
  {
   "cell_type": "code",
   "execution_count": 7,
   "metadata": {},
   "outputs": [],
   "source": [
    "invcov_sky = {}\n",
    "for multipole in WINCONV_FORMULAE_REF.multipoles:\n",
    "    invcov_sky[multipole] = np.linalg.inv(np.cov(\n",
    "        np.subtract(\n",
    "            results_bk_sky[multipole]['stats'],\n",
    "            results_bk_sky[multipole]['stats_sn']\n",
    "        )[:, BINIDX],\n",
    "        rowvar=False\n",
    "    ))"
   ]
  },
  {
   "cell_type": "markdown",
   "metadata": {},
   "source": [
    "Load proxy model and resample log-linearly."
   ]
  },
  {
   "cell_type": "code",
   "execution_count": 8,
   "metadata": {},
   "outputs": [],
   "source": [
    "def load_model(winconv_formulae):\n",
    "\n",
    "    results_bkk_proxy = {\n",
    "        multipole: np.load(\n",
    "            DATADIR / \"common\" / \"model-proxy\" /\n",
    "            f\"bk{multipole.abstr}_full_{SUFFIX_PROXY}.npy\",\n",
    "            allow_pickle=True,\n",
    "        ).item()\n",
    "        for multipole in winconv_formulae._multipoles_Z_true\n",
    "    }\n",
    "\n",
    "    k_proxy = None\n",
    "    bkk_proxy = {}\n",
    "    for multipole in winconv_formulae._multipoles_Z_true:\n",
    "        k_proxy, bkk_proxy[multipole] = reshape_threept_datatab(\n",
    "            results_bkk_proxy[multipole]['coords'],\n",
    "            results_bkk_proxy[multipole]['stats_mean'],\n",
    "            shape='triu' if multipole._issym() else 'full'\n",
    "        )\n",
    "\n",
    "    nsamp = 2 ** int(np.round(np.log2(k_proxy.size)))\n",
    "\n",
    "    k_in = None\n",
    "    bkk_in = {}\n",
    "    for multipole in winconv_formulae._multipoles_Z_true:\n",
    "        (k_in, _), bkk_in[multipole] = resample_lglin(\n",
    "            k_proxy, bkk_proxy[multipole], nsamp, spline=1\n",
    "        )\n",
    "\n",
    "    return k_in, bkk_in"
   ]
  },
  {
   "cell_type": "markdown",
   "metadata": {},
   "source": [
    "Load window function."
   ]
  },
  {
   "cell_type": "code",
   "execution_count": 9,
   "metadata": {},
   "outputs": [],
   "source": [
    "windows = ThreePointWindow.load_from_file(\n",
    "    DATADIR / \"common\" / \"windows\" /\n",
    "    f\"zetaw_full_{SUFFIX_WIN}.npz\"\n",
    ")"
   ]
  },
  {
   "cell_type": "markdown",
   "metadata": {},
   "source": [
    "Define loss function."
   ]
  },
  {
   "cell_type": "code",
   "execution_count": 10,
   "metadata": {},
   "outputs": [],
   "source": [
    "def loss_func(bk_conv_pole, bk_sky_pole, invcov_sky_pole, beta=0.):\n",
    "    return (\n",
    "        ((1 + beta) * bk_conv_pole - bk_sky_pole)[BINIDX].T\n",
    "        @ invcov_sky_pole\n",
    "        @ ((1 + beta) * bk_conv_pole - bk_sky_pole)[BINIDX]\n",
    "    )"
   ]
  },
  {
   "cell_type": "markdown",
   "metadata": {},
   "source": [
    "Evaluate loss function."
   ]
  },
  {
   "cell_type": "code",
   "execution_count": 11,
   "metadata": {},
   "outputs": [],
   "source": [
    "k_in, bkk_in = load_model(WINCONV_FORMULAE_REF)\n",
    "\n",
    "winconv_ref = BispecWinConv(\n",
    "    WINCONV_FORMULAE_REF, windows.r, windows.Q,\n",
    "    k_in=k_in,\n",
    "    transform_kwargs={\n",
    "        'extrap': 5,\n",
    "        'extrap2d': False,\n",
    "    }\n",
    ")\n",
    "\n",
    "k_conv = winconv_ref.k_out\n",
    "bkk_conv = winconv_ref.convolve(bkk_in, ret_zeta=False)\n",
    "\n",
    "bk_conv_pole = InterpolatedUnivariateSpline(\n",
    "    k_conv, np.diag(bkk_conv[Multipole(MULTIPOLE)]).real\n",
    ")(k_sky)\n",
    "loss_ref = loss_func(\n",
    "    bk_conv_pole,\n",
    "    bk_sky[Multipole(MULTIPOLE)],\n",
    "    invcov_sky[Multipole(MULTIPOLE)]\n",
    ")"
   ]
  },
  {
   "cell_type": "code",
   "execution_count": 12,
   "metadata": {},
   "outputs": [],
   "source": [
    "loss_full = loss_func(\n",
    "    np.zeros_like(bk_conv_pole),\n",
    "    bk_sky[Multipole(MULTIPOLE)],\n",
    "    invcov_sky[Multipole(MULTIPOLE)]\n",
    ")"
   ]
  },
  {
   "cell_type": "code",
   "execution_count": 13,
   "metadata": {},
   "outputs": [],
   "source": [
    "k_in, bkk_in = load_model(WINCONV_FORMULAE_LEAD)\n",
    "\n",
    "winconv_lead = BispecWinConv(\n",
    "    WINCONV_FORMULAE_LEAD, windows.r, windows.Q,\n",
    "    k_in=k_in,\n",
    "    transform_kwargs={\n",
    "        'extrap': 5,\n",
    "        'extrap2d': False,\n",
    "    }\n",
    ")\n",
    "\n",
    "k_conv = winconv_lead.k_out\n",
    "bkk_conv = winconv_lead.convolve(bkk_in, ret_zeta=False)\n",
    "\n",
    "bk_conv_pole = InterpolatedUnivariateSpline(\n",
    "    k_conv, np.diag(bkk_conv[Multipole(MULTIPOLE)]).real\n",
    ")(k_sky)\n",
    "loss_lead = loss_func(\n",
    "    bk_conv_pole,\n",
    "    bk_sky[Multipole(MULTIPOLE)],\n",
    "    invcov_sky[Multipole(MULTIPOLE)]\n",
    ")"
   ]
  },
  {
   "cell_type": "markdown",
   "metadata": {},
   "source": [
    "Evaluate contributions."
   ]
  },
  {
   "cell_type": "code",
   "execution_count": 14,
   "metadata": {},
   "outputs": [],
   "source": [
    "partial_winconv_formulae = {}\n",
    "\n",
    "if METRIC == 'remove':\n",
    "    partial_winconv_formulae = {}\n",
    "    for idx_term, term in enumerate(WINCONV_FORMULAE_REF[MULTIPOLE]):\n",
    "        partial_formula = WinConvFormulae(WINCONV_FORMULAE_REF.get_dict())\n",
    "        partial_formula[MULTIPOLE].pop(idx_term)\n",
    "        partial_winconv_formulae[str(term)] = partial_formula\n",
    "\n",
    "if METRIC == 'cascade':\n",
    "    last_formula = WINCONV_FORMULAE_LEAD\n",
    "    for idx_term, term in enumerate(WINCONV_FORMULAE_REF[MULTIPOLE]):\n",
    "        current_formula = WinConvFormulae(last_formula.get_dict())\n",
    "        if term not in last_formula[MULTIPOLE]:\n",
    "            current_formula[MULTIPOLE].append(term)\n",
    "        partial_winconv_formulae[str(term)] = current_formula\n",
    "        last_formula = current_formula"
   ]
  },
  {
   "cell_type": "code",
   "execution_count": 15,
   "metadata": {},
   "outputs": [],
   "source": [
    "losses_by_term = {}\n",
    "for term in WINCONV_FORMULAE_REF[MULTIPOLE]:\n",
    "    partial_formula_ = partial_winconv_formulae[str(term)]\n",
    "    k_in_, bkk_in_ = load_model(partial_formula_)\n",
    "\n",
    "    winconv_ = BispecWinConv(\n",
    "        partial_formula_, windows.r, windows.Q,\n",
    "        k_in=k_in_,\n",
    "        transform_kwargs={\n",
    "            'extrap': 5,\n",
    "            'extrap2d': False,\n",
    "        }\n",
    "    )\n",
    "\n",
    "    k_conv_ = winconv_.k_out\n",
    "    bkk_conv_ = winconv_.convolve(bkk_in_, ret_zeta=False)\n",
    "    bk_conv_pole_ = InterpolatedUnivariateSpline(\n",
    "        k_conv_, np.diag(bkk_conv_[Multipole(MULTIPOLE)]).real\n",
    "    )(k_sky)\n",
    "\n",
    "    loss_value = loss_func(\n",
    "        bk_conv_pole_,\n",
    "        bk_sky[Multipole(MULTIPOLE)],\n",
    "        invcov_sky[Multipole(MULTIPOLE)]\n",
    "    )\n",
    "    losses_by_term[str(term)] = loss_value"
   ]
  },
  {
   "cell_type": "code",
   "execution_count": 16,
   "metadata": {},
   "outputs": [],
   "source": [
    "contribs = {}\n",
    "for term in WINCONV_FORMULAE_REF[MULTIPOLE]:\n",
    "    if METRIC == 'remove':\n",
    "        contribs[str(term)] = 100 * (losses_by_term[str(term)] - loss_ref) / (loss_full - loss_ref)\n",
    "    if METRIC == 'cascade':\n",
    "        contribs[str(term)] = 100 * (loss_full - losses_by_term[str(term)]) / (loss_full - loss_ref)"
   ]
  },
  {
   "cell_type": "code",
   "execution_count": 17,
   "metadata": {},
   "outputs": [],
   "source": [
    "winconv_formula_ref = WinConvFormulae({MULTIPOLE: WINCONV_FORMULAE_REF[MULTIPOLE]})\n",
    "\n",
    "heatmat = np.zeros((\n",
    "    len(winconv_formula_ref.multipoles_Z),\n",
    "    len(winconv_formula_ref.multipoles_Q),\n",
    "))\n",
    "\n",
    "for ((idx_Z, multipole_Z), (idx_Q, multipole_Q)) in product(\n",
    "    enumerate(winconv_formula_ref.multipoles_Z),\n",
    "    enumerate(winconv_formula_ref.multipoles_Q),\n",
    "):\n",
    "    for term_ in WINCONV_FORMULAE_REF[MULTIPOLE]:\n",
    "        if (term_.multipole_Z, term_.multipole_Q) == (multipole_Z, multipole_Q):\n",
    "            term = term_\n",
    "            break\n",
    "    else:\n",
    "        heatmat[idx_Z, idx_Q] = 0.\n",
    "        continue\n",
    "\n",
    "    if METRIC == 'add' and term in WINCONV_FORMULAE_LEAD[MULTIPOLE]:\n",
    "        continue\n",
    "    heatmat[idx_Z, idx_Q] = np.abs(contribs[str(term)])\n",
    "\n",
    "np.save(\n",
    "    DATADIR / \"Figure_6\" / f\"winconv-contrib-weighting-{MULTIPOLE}.npy\",\n",
    "    heatmat\n",
    ")\n",
    "\n",
    "heatmat = np.ma.masked_where(heatmat == 0., heatmat)"
   ]
  },
  {
   "cell_type": "code",
   "execution_count": 18,
   "metadata": {},
   "outputs": [
    {
     "data": {
      "image/png": "[encoded data removed]",
      "text/plain": [
       "<Figure size 825x825 with 2 Axes>"
      ]
     },
     "metadata": {},
     "output_type": "display_data"
    }
   ],
   "source": [
    "if METRIC != 'cascade':\n",
    "    fig, ax = plt.subplots(figsize=(5.5, 5.5), dpi=150.)\n",
    "\n",
    "    cax = ax.matshow(\n",
    "        heatmat,\n",
    "        norm=LogNorm(vmin=heatmat.min(), vmax=150.),\n",
    "        cmap='YlOrRd',\n",
    "    )\n",
    "\n",
    "    if MULTIPOLE == '000':\n",
    "        divider = make_axes_locatable(ax)\n",
    "        cbar_ax = divider.append_axes('top', size='5%', pad=0.45)\n",
    "        cbar = fig.colorbar(cax, cax=cbar_ax, orientation='horizontal')\n",
    "\n",
    "    for i in range(len(winconv_formula_ref.multipoles_Z)):\n",
    "        for j in range(len(winconv_formula_ref.multipoles_Q)):\n",
    "            if heatmat[i, j] > 80.:\n",
    "                ax.text(\n",
    "                    j, i,\n",
    "                    f\"{heatmat[i, j]:.2f}\",\n",
    "                    ha='center', va='center',\n",
    "                    fontsize=8,\n",
    "                    color='white',\n",
    "                )\n",
    "            else:\n",
    "                ax.text(\n",
    "                    j, i,\n",
    "                    f\"{heatmat[i, j]:.2f}\",\n",
    "                    ha='center', va='center',\n",
    "                    fontsize=8,\n",
    "                )\n",
    "\n",
    "    ax.get_xaxis().set_ticks(range(len(winconv_formula_ref.multipoles_Q)))\n",
    "    ax.get_yaxis().set_ticks(range(len(winconv_formula_ref.multipoles_Z)))\n",
    "\n",
    "    xtick_labels = []\n",
    "    for multipole_Q_ in winconv_formula_ref.multipoles_Q:\n",
    "        xtick_labels.append(fr\"$Q_{{{multipole_Q_.abstr}}}$\")\n",
    "\n",
    "    ytick_labels = []\n",
    "    for multipole_Z_ in winconv_formula_ref.multipoles_Z:\n",
    "        try:\n",
    "            ytick_labels.append(fr\"$\\zeta_{{{multipole_Z_.abstr}}}$\")\n",
    "        except AttributeError:\n",
    "            if multipole_Z_ == 'ic':\n",
    "                ytick_labels.append(r\"$\\bar{\\zeta}$\")\n",
    "            else:\n",
    "                ytick_labels.append(fr\"$\\zeta_{{{multipole_Z_}}}$\")\n",
    "\n",
    "    ax.get_xaxis().set_ticklabels(xtick_labels);\n",
    "    ax.get_yaxis().set_ticklabels(ytick_labels);\n",
    "\n",
    "    if MULTIPOLE == '000':\n",
    "        cbar.ax.xaxis.set_label_position('top')\n",
    "        cbar.ax.xaxis.set_ticks_position('top')\n",
    "        cbar.set_label(r\"$100\\left\\vert\\gamma_{\\ell_1 \\ell_2 L}\\right\\vert$\", labelpad=10)"
   ]
  },
  {
   "cell_type": "code",
   "execution_count": 19,
   "metadata": {},
   "outputs": [],
   "source": [
    "if METRIC == 'cascade':\n",
    "\n",
    "    fig, ax = plt.subplots(figsize=(4.5, 2.75), dpi=150.)\n",
    "\n",
    "    x, y = [], []\n",
    "    for idx_term, term in enumerate(WINCONV_FORMULAE_REF[MULTIPOLE]):\n",
    "        x.append(idx_term)\n",
    "        y.append(contribs[str(term)])\n",
    "\n",
    "    np.save(\n",
    "        DATADIR / \"Figure_7\" / f\"winconv-contrib-cumweight-{MULTIPOLE}.npy\",\n",
    "        y\n",
    "    )\n",
    "\n",
    "    ax.plot(\n",
    "        x, y,\n",
    "        marker='o', markersize=5, color='C0', mfc='none',\n",
    "        label=r\"$\\tilde{B}_{202}$\"\n",
    "    )\n",
    "    ax.grid(axis='y', linestyle=':', linewidth=0.5)\n",
    "\n",
    "    xtick_labels = []\n",
    "    for idx_term, term in enumerate(WINCONV_FORMULAE_REF[MULTIPOLE]):\n",
    "        if term.multipole_Z == 'ic':\n",
    "            xlab = fr\"$Q_{{{term.multipole_Q.abstr}}} \\bar{{\\zeta}}$\"\n",
    "        else:\n",
    "            xlab = fr\"$Q_{{{term.multipole_Q.abstr}}} \\zeta_{{{term.multipole_Z.abstr}}}$\"\n",
    "        if idx_term > 0:\n",
    "            xlab = '+' + xlab\n",
    "        xtick_labels.append(xlab)\n",
    "\n",
    "    ax.set_xticks(x)\n",
    "    ax.set_xticklabels([])\n",
    "\n",
    "    for i, xlab in enumerate(xtick_labels):\n",
    "        ax.text(\n",
    "            i - 0.2 if MULTIPOLE == '000' else i - 0.3,\n",
    "            99.825 if MULTIPOLE == '000' else 99.825,\n",
    "            xlab, ha='left', va='top',\n",
    "            rotation=-45 if MULTIPOLE == '000' else -60\n",
    "        )\n",
    "\n",
    "    ax.set_ylabel(fr\"$100(1 - \\gamma_{{{MULTIPOLE}}})$\")"
   ]
  }
 ],
 "metadata": {
  "kernelspec": {
   "display_name": "dev-trv",
   "language": "python",
   "name": "python3"
  },
  "language_info": {
   "codemirror_mode": {
    "name": "ipython",
    "version": 3
   },
   "file_extension": ".py",
   "mimetype": "text/x-python",
   "name": "python",
   "nbconvert_exporter": "python",
   "pygments_lexer": "ipython3",
   "version": "3.12.7"
  }
 },
 "nbformat": 4,
 "nbformat_minor": 2
}
