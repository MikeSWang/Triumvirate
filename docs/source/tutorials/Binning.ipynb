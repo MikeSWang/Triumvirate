{
 "cells": [
  {
   "attachments": {},
   "cell_type": "markdown",
   "metadata": {},
   "source": [
    "# Binning Scheme"
   ]
  },
  {
   "attachments": {},
   "cell_type": "markdown",
   "metadata": {},
   "source": [
    "$N$-point statistics are usually binned in coordinates (either separation\n",
    "in configuration space or wavenumber in Fourier space). {{ Triumvirate }}\n",
    "allows flexible binning schemes to be used through the\n",
    "{py:class}`~triumvirate.dataobjs.Binning` class."
   ]
  },
  {
   "cell_type": "code",
   "execution_count": 1,
   "metadata": {},
   "outputs": [],
   "source": [
    "from triumvirate.dataobjs import Binning"
   ]
  },
  {
   "attachments": {},
   "cell_type": "markdown",
   "metadata": {},
   "source": [
    "## Initialisation"
   ]
  },
  {
   "attachments": {},
   "cell_type": "markdown",
   "metadata": {},
   "source": [
    "A {py:class}`~triumvirate.dataobjs.Binning` instance can be initialised in\n",
    "two ways: from a set of arguments or through a\n",
    "{py:class}`~triumvirate.parameters.ParameterSet` object."
   ]
  },
  {
   "attachments": {},
   "cell_type": "markdown",
   "metadata": {},
   "source": [
    "### With arguments"
   ]
  },
  {
   "attachments": {},
   "cell_type": "markdown",
   "metadata": {},
   "source": [
    "Initialisation with arguments is simple: one needs to specify whether the\n",
    "binning scheme applies in configuration (``'config'``) or Fourier\n",
    "(``'fourier'``) space, what the bin range is (from `bin_min` to `bin_max`),\n",
    "how many bins (`num_bins`), and what binning scheme to use, e.g. linear\n",
    "(``'lin'``) or logarithmic (``'log'``) (see \n",
    "{py:class}`~triumvirate.dataobjs.Binning` for all pre-set options)."
   ]
  },
  {
   "cell_type": "code",
   "execution_count": 2,
   "metadata": {},
   "outputs": [],
   "source": [
    "binning = Binning('fourier', 'lin', bin_min=0.005, bin_max=0.105, num_bins=10)"
   ]
  },
  {
   "attachments": {},
   "cell_type": "markdown",
   "metadata": {},
   "source": [
    "### From a parameter set"
   ]
  },
  {
   "attachments": {},
   "cell_type": "markdown",
   "metadata": {},
   "source": [
    "```{seealso}\n",
    "For more information about the {py:class}`~triumvirate.parameters.ParameterSet`\n",
    "class, see ['Parameter Set'](./Parameters.ipynb).\n",
    "```\n",
    "\n",
    "For this example, we reuse the Python dictionary template to create\n",
    "a valid parameter set:"
   ]
  },
  {
   "cell_type": "code",
   "execution_count": 3,
   "metadata": {
    "tags": [
     "remove-output"
    ]
   },
   "outputs": [
    {
     "name": "stdout",
     "output_type": "stream",
     "text": [
      "[2023-03-14 17:30:39 (+00:00:00) STAT C++] Parameters validated.\n"
     ]
    }
   ],
   "source": [
    "# DEMO: reuse a parameter template and set valid parameter values.\n",
    "\n",
    "from triumvirate.parameters import (\n",
    "    ParameterSet, fetch_paramset_template\n",
    ")\n",
    "\n",
    "param_dict = fetch_paramset_template('dict')\n",
    "\n",
    "for ax_name in ['x', 'y', 'z']:  # not relevant here\n",
    "    param_dict['boxsize'][ax_name] = 1000.\n",
    "    param_dict['ngrid'][ax_name] = 64.\n",
    "\n",
    "param_dict.update({\n",
    "    'binning' : 'lin',                                   # default already set \n",
    "    'degrees' : {'ell1': None, 'ell2': None, 'ELL': 0},  # irrelevant here\n",
    "    'range'   : [0.005, 0.105],\n",
    "    'num_bins': 10,\n",
    "})\n",
    "\n",
    "paramset = ParameterSet(param_dict=param_dict)"
   ]
  },
  {
   "attachments": {},
   "cell_type": "markdown",
   "metadata": {},
   "source": [
    "Now, we can use the\n",
    "{py:meth}`~triumvirate.dataobjs.Binning.from_parameter_set` classmethod\n",
    "to instantiate:"
   ]
  },
  {
   "cell_type": "code",
   "execution_count": 4,
   "metadata": {},
   "outputs": [],
   "source": [
    "binning = Binning.from_parameter_set(paramset)"
   ]
  },
  {
   "attachments": {},
   "cell_type": "markdown",
   "metadata": {},
   "source": [
    "```{hint}\n",
    "Arguments `bin_min`, `bin_max` and `num_bins` are self-evidently set by\n",
    "``'range'`` and ``'num_bins'`` keys in the dictionary, and `scheme` by\n",
    "``'binning'``. The coordinate `space` is inferred from ``'statistic_type'``.\n",
    "```"
   ]
  },
  {
   "attachments": {},
   "cell_type": "markdown",
   "metadata": {},
   "source": [
    "## Attributes"
   ]
  },
  {
   "attachments": {},
   "cell_type": "markdown",
   "metadata": {},
   "source": [
    "In the examples above, we have set 10 wavenumber bins for $k \\in [0.005, 0.105]$\n",
    "(in whatever unit in the context, typically $h\\,\\mathrm{Mpc}^{-1}$).\n",
    "\n",
    "One could check the attributes of this binning scheme are as expected:"
   ]
  },
  {
   "cell_type": "code",
   "execution_count": 5,
   "metadata": {},
   "outputs": [
    {
     "name": "stdout",
     "output_type": "stream",
     "text": [
      "Coordinate space: \n",
      "Binning scheme: lin\n",
      "Bin range: [0.005 0.105]\n",
      "Bin centres: [0.01 0.02 0.03 0.04 0.05 0.06 0.07 0.08 0.09 0.1 ]\n",
      "Bin edges: [0.005 0.015 0.025 0.035 0.045 0.055 0.065 0.075 0.085 0.095 0.105]\n",
      "Bin widths: [0.01 0.01 0.01 0.01 0.01 0.01 0.01 0.01 0.01 0.01] (should be uniform)\n",
      "Number of bins: 10\n"
     ]
    }
   ],
   "source": [
    "# DEMO: use `numpy` for formatted printing of floats.\n",
    "import numpy as np\n",
    "np.set_printoptions(precision=6)\n",
    "\n",
    "print(\"Coordinate space:\", binning.space)\n",
    "print(\"Binning scheme:\", binning.scheme)\n",
    "print(\"Bin range:\", np.asarray([binning.bin_min, binning.bin_max]))\n",
    "print(\"Bin centres:\", np.asarray(binning.bin_centres))\n",
    "print(\"Bin edges:\", np.asarray(binning.bin_edges))\n",
    "print(\"Bin widths:\", np.asarray( binning.bin_widths), \"(should be uniform)\")\n",
    "print(\"Number of bins:\", binning.num_bins)"
   ]
  },
  {
   "attachments": {},
   "cell_type": "markdown",
   "metadata": {},
   "source": [
    "## Reset"
   ]
  },
  {
   "attachments": {},
   "cell_type": "markdown",
   "metadata": {},
   "source": [
    "For a given binning scheme and coordinate space, one could reset the binning\n",
    "range and number of bins using\n",
    "{py:meth}`~triumvirate.dataobjs.Binning.set_bins`:"
   ]
  },
  {
   "cell_type": "code",
   "execution_count": 6,
   "metadata": {},
   "outputs": [],
   "source": [
    "bin_min_new, bin_max_new = 0.005, 0.205\n",
    "num_bins_new = 5\n",
    "\n",
    "binning.set_bins(bin_min_new, bin_max_new, num_bins_new)"
   ]
  },
  {
   "attachments": {},
   "cell_type": "markdown",
   "metadata": {},
   "source": [
    "The bin edges, centres and widths are automatically recalculated:"
   ]
  },
  {
   "cell_type": "code",
   "execution_count": 7,
   "metadata": {},
   "outputs": [
    {
     "name": "stdout",
     "output_type": "stream",
     "text": [
      "Bin range: [0.005 0.205]\n",
      "Bin centres: [0.025 0.065 0.105 0.145 0.185]\n",
      "Bin edges: [0.005 0.045 0.085 0.125 0.165 0.205]\n",
      "Bin widths: [0.04 0.04 0.04 0.04 0.04]\n",
      "Number of bins: 5\n"
     ]
    }
   ],
   "source": [
    "print(\"Bin range:\", np.asarray([binning.bin_min, binning.bin_max]))\n",
    "print(\"Bin centres:\", np.asarray(binning.bin_centres))\n",
    "print(\"Bin edges:\", np.asarray(binning.bin_edges))\n",
    "print(\"Bin widths:\",np.asarray( binning.bin_widths))\n",
    "print(\"Number of bins:\", binning.num_bins)"
   ]
  },
  {
   "attachments": {},
   "cell_type": "markdown",
   "metadata": {},
   "source": [
    "## Customisation"
   ]
  },
  {
   "attachments": {},
   "cell_type": "markdown",
   "metadata": {},
   "source": [
    "Finally, one could completely specify the binning by providing the\n",
    "bin edges (with {py:attr}`~triumvirate.dataobjs.Binning.space` fixed and\n",
    "{py:attr}`~triumvirate.dataobjs.Binning.scheme` changed to ``'custom'``).\n",
    "The rest of bin attributes are automatically updated.\n",
    "\n",
    "As an example:"
   ]
  },
  {
   "cell_type": "code",
   "execution_count": 8,
   "metadata": {},
   "outputs": [],
   "source": [
    "bin_edges = np.logspace(-3., -1., num=6, base=10)\n",
    "\n",
    "binning.set_custom_bins(bin_edges)"
   ]
  },
  {
   "attachments": {},
   "cell_type": "markdown",
   "metadata": {},
   "source": [
    "Again, we could check the automatically update attributes:"
   ]
  },
  {
   "cell_type": "code",
   "execution_count": 9,
   "metadata": {},
   "outputs": [
    {
     "name": "stdout",
     "output_type": "stream",
     "text": [
      "Binning scheme: custom\n",
      "Bin range: [0.001 0.1  ]\n",
      "Bin centres: [0.001756 0.004411 0.011079 0.02783  0.069905]\n",
      "Bin edges: [0.001    0.002512 0.00631  0.015849 0.039811 0.1     ]\n",
      "Bin widths: [0.001512 0.003798 0.009539 0.023962 0.060189]\n",
      "Number of bins: 5\n"
     ]
    }
   ],
   "source": [
    "print(\"Binning scheme:\", binning.scheme)\n",
    "print(\"Bin range:\", np.asarray([binning.bin_min, binning.bin_max]))\n",
    "print(\"Bin centres:\", np.asarray(binning.bin_centres))\n",
    "print(\"Bin edges:\", np.asarray(binning.bin_edges))\n",
    "print(\"Bin widths:\", np.asarray( binning.bin_widths))\n",
    "print(\"Number of bins:\", binning.num_bins)"
   ]
  },
  {
   "attachments": {},
   "cell_type": "markdown",
   "metadata": {},
   "source": [
    "## Passing as an argument"
   ]
  },
  {
   "attachments": {},
   "cell_type": "markdown",
   "metadata": {},
   "source": [
    "Whenever a callable in {{ Triumvirate }} accepts the `binning` argument, you\n",
    "can pass an instance like `binning` above to it."
   ]
  }
 ],
 "metadata": {
  "kernelspec": {
   "display_name": "cosmo",
   "language": "python",
   "name": "python3"
  },
  "language_info": {
   "codemirror_mode": {
    "name": "ipython",
    "version": 3
   },
   "file_extension": ".py",
   "mimetype": "text/x-python",
   "name": "python",
   "nbconvert_exporter": "python",
   "pygments_lexer": "ipython3",
   "version": "3.8.10"
  },
  "orig_nbformat": 4,
  "vscode": {
   "interpreter": {
    "hash": "4a7a1cba6a5ad1075172442d744886e76565787fe92f2df44113e5c941b518c1"
   }
  }
 },
 "nbformat": 4,
 "nbformat_minor": 2
}
