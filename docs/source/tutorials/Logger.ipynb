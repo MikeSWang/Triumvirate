{
 "cells": [
  {
   "attachments": {},
   "cell_type": "markdown",
   "metadata": {},
   "source": [
    "# Customised Logger"
   ]
  },
  {
   "attachments": {},
   "cell_type": "markdown",
   "metadata": {},
   "source": [
    "{{ Triumvirate }} provides a customised {py:class}`logging.Logger`, which can\n",
    "be accessed from the {py:mod}`~triumvirate.logger` module."
   ]
  },
  {
   "cell_type": "code",
   "execution_count": 1,
   "metadata": {},
   "outputs": [],
   "source": [
    "from triumvirate.logger import setup_logger"
   ]
  },
  {
   "attachments": {},
   "cell_type": "markdown",
   "metadata": {},
   "source": [
    "## Verbosity"
   ]
  },
  {
   "attachments": {},
   "cell_type": "markdown",
   "metadata": {},
   "source": [
    "When setting up the logger, one could choose the verbosity level by\n",
    "passing an integer or logging level variable. By default, the logging level is\n",
    "set at {py:const}`logging.INFO` (see\n",
    "['Logging Levels'](https://docs.python.org/3/library/logging.html#logging-levels))."
   ]
  },
  {
   "cell_type": "code",
   "execution_count": 2,
   "metadata": {},
   "outputs": [],
   "source": [
    "trv_logger = setup_logger(log_level=20)  # HINT: logging.INFO = 20"
   ]
  },
  {
   "attachments": {},
   "cell_type": "markdown",
   "metadata": {},
   "source": [
    "## Log format"
   ]
  },
  {
   "attachments": {},
   "cell_type": "markdown",
   "metadata": {},
   "source": [
    "This logger behaves like a typical Python logger but with customised log\n",
    "message format ``[{local-timestamp}<YYYY-MM-DD HH:MM:SS> ({elapsed-time}<+HH:MM:SS>) {level}] {message}``.\n",
    "\n",
    "It also includes a C++ state indicator which is used to inform the user that\n",
    "the Cython-wrapped C++ backend is running."
   ]
  },
  {
   "cell_type": "code",
   "execution_count": 3,
   "metadata": {},
   "outputs": [
    {
     "name": "stdout",
     "output_type": "stream",
     "text": [
      "[2023-03-05 23:35:15 (+00:00:00) INFO] This is a logged INFO-level message.\n",
      "[2023-03-05 23:35:15 (+00:00:00) INFO] This log entry indicates C++ backend is running. (in C++)\n"
     ]
    }
   ],
   "source": [
    "trv_logger.info(\"This is a logged INFO-level message.\")\n",
    "trv_logger.debug(\"This is an unlogged DEBUG-level message.\")\n",
    "trv_logger.info(\n",
    "    \"This log entry indicates C++ backend is running.\",\n",
    "    cpp_state=True\n",
    ")"
   ]
  },
  {
   "attachments": {},
   "cell_type": "markdown",
   "metadata": {},
   "source": [
    "## Warning capture"
   ]
  },
  {
   "attachments": {},
   "cell_type": "markdown",
   "metadata": {},
   "source": [
    "The logger also captures warning messages and records them in a customised\n",
    "format."
   ]
  },
  {
   "cell_type": "code",
   "execution_count": 4,
   "metadata": {},
   "outputs": [
    {
     "name": "stdout",
     "output_type": "stream",
     "text": [
      "[2023-03-05 23:35:15 (+00:00:00) WARN] This is a warning message captured as a log entry. (/tmp/ipykernel_424485/2246887521.py:3:UserWarning --> \"warnings.warn(\"This is a warning message captured as a log entry.\")\")\n"
     ]
    }
   ],
   "source": [
    "# DEMO: capture warning with the logger.\n",
    "import warnings\n",
    "warnings.warn(\"This is a warning message captured as a log entry.\")"
   ]
  },
  {
   "attachments": {},
   "cell_type": "markdown",
   "metadata": {},
   "source": [
    "## C++ backend logger"
   ]
  },
  {
   "attachments": {},
   "cell_type": "markdown",
   "metadata": {},
   "source": [
    "Some callables in {{ Triumvirate }} calls C++ routines in the backend, which\n",
    "has its own logger. Any log-like entry in `stdout` with the format\n",
    "``[{local-timestamp}<YYYY-MM-DD HH:MM:SS> ({elapsed-time}<+HH:MM:SS>) {level} C++] {message}``\n",
    "(note the inclusion of 'C++') is a log message recorded by that logger.\n",
    "\n",
    "By default this logger is alway present, but one can control its\n",
    "verbosity/logging level with the ``verbose`` parameter/attribute in a\n",
    "{py:class}`~triumvirate.parameters.ParameterSet` object passed to the\n",
    "callable."
   ]
  },
  {
   "attachments": {},
   "cell_type": "markdown",
   "metadata": {},
   "source": [
    "## Passing as an argument"
   ]
  },
  {
   "attachments": {},
   "cell_type": "markdown",
   "metadata": {},
   "source": [
    "Now, whenever a callable in {{ Triumvirate }} accepts a `logger` argument, you\n",
    "can pass `trv_logger` above to it. You can modify it further to suit your needs\n",
    "(see {py:mod}`logging`)."
   ]
  }
 ],
 "metadata": {
  "kernelspec": {
   "display_name": "cosmo",
   "language": "python",
   "name": "cosmo"
  },
  "language_info": {
   "codemirror_mode": {
    "name": "ipython",
    "version": 3
   },
   "file_extension": ".py",
   "mimetype": "text/x-python",
   "name": "python",
   "nbconvert_exporter": "python",
   "pygments_lexer": "ipython3",
   "version": "3.8.10"
  },
  "orig_nbformat": 4,
  "vscode": {
   "interpreter": {
    "hash": "4a7a1cba6a5ad1075172442d744886e76565787fe92f2df44113e5c941b518c1"
   }
  }
 },
 "nbformat": 4,
 "nbformat_minor": 2
}
