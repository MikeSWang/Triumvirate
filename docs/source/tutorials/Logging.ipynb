{
 "cells": [
  {
   "attachments": {},
   "cell_type": "markdown",
   "metadata": {},
   "source": [
    "# Logging Set-up"
   ]
  },
  {
   "attachments": {},
   "cell_type": "markdown",
   "metadata": {},
   "source": [
    "{{ Triumvirate }} provides a customised {py:class}`logging.Logger`, which can\n",
    "be accessed from the {py:mod}`~triumvirate.logger` module:"
   ]
  },
  {
   "cell_type": "code",
   "execution_count": 1,
   "metadata": {},
   "outputs": [],
   "source": [
    "from triumvirate.logger import setup_logger\n",
    "\n",
    "trv_logger = setup_logger()"
   ]
  },
  {
   "attachments": {},
   "cell_type": "markdown",
   "metadata": {},
   "source": [
    "This logger behaves like a typical Python logger but with customised log\n",
    "message format ``[{local-timestamp}<YYYY-MM-DD HH:MM:SS> ({elapsed-time}<+HH:MM:SS>) {level}] {message}``.\n",
    "\n",
    "It captures warning messages and records them. It also includes a C++ state\n",
    "indicator which is used to inform the user that the Cython-wrapped C++ backend\n",
    "is running. By default, the logging level is set at {py:const}`logging.INFO`\n",
    "(see ['Logging Levels'](https://docs.python.org/3/library/logging.html#logging-levels))."
   ]
  },
  {
   "cell_type": "code",
   "execution_count": 2,
   "metadata": {},
   "outputs": [
    {
     "name": "stdout",
     "output_type": "stream",
     "text": [
      "[2023-02-17 10:33:02 (+00:00:00) WARN] This is a warning message captured as a log entry. (/tmp/ipykernel_10810/684356868.py:3:UserWarning --> \"warnings.warn(\"This is a warning message captured as a log entry.\")\")\n",
      "[2023-02-17 10:33:02 (+00:00:00) INFO] This is a logged INFO-level message.\n",
      "[2023-02-17 10:33:02 (+00:00:00) INFO] This log entry indicates C++ backend is running. (in C++)\n"
     ]
    }
   ],
   "source": [
    "import warnings  # for demo only\n",
    "\n",
    "warnings.warn(\"This is a warning message captured as a log entry.\")\n",
    "\n",
    "trv_logger.info(\"This is a logged INFO-level message.\")\n",
    "trv_logger.debug(\"This is an unlogged DEBUG-level message.\")\n",
    "\n",
    "trv_logger.info(\n",
    "    \"This log entry indicates C++ backend is running.\",\n",
    "    cpp_state=True\n",
    ")"
   ]
  },
  {
   "attachments": {},
   "cell_type": "markdown",
   "metadata": {},
   "source": [
    "Now, whenever a callable in {{ Triumvirate }} accepts a `logger` argument, you\n",
    "can pass `trv_logger` above to it. You can adapt it further to suit your needs\n",
    "(see {py:mod}`logging`)."
   ]
  }
 ],
 "metadata": {
  "kernelspec": {
   "display_name": "cosmo",
   "language": "python",
   "name": "cosmo"
  },
  "language_info": {
   "codemirror_mode": {
    "name": "ipython",
    "version": 3
   },
   "file_extension": ".py",
   "mimetype": "text/x-python",
   "name": "python",
   "nbconvert_exporter": "python",
   "pygments_lexer": "ipython3",
   "version": "3.8.10"
  },
  "orig_nbformat": 4,
  "vscode": {
   "interpreter": {
    "hash": "e7370f93d1d0cde622a1f8e1c04877d8463912d04d973331ad4851f04de6915a"
   }
  }
 },
 "nbformat": 4,
 "nbformat_minor": 2
}
