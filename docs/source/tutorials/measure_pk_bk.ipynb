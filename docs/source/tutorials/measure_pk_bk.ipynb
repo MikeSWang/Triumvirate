{
 "cells": [
  {
   "cell_type": "markdown",
   "metadata": {},
   "source": [
    "# Bispectrum and Power Spectrum Measurements"
   ]
  },
  {
   "cell_type": "markdown",
   "metadata": {},
   "source": [
    "Load the relevant modules for setting up the measurement parameters, loading\n",
    "the catalogues and making the desired measurement with the choice of a logger."
   ]
  },
  {
   "cell_type": "code",
   "execution_count": 1,
   "metadata": {},
   "outputs": [],
   "source": [
    "from triumvirate.catalogue import ParticleCatalogue\n",
    "from triumvirate.logger import setup_logger\n",
    "from triumvirate.parameters import ParameterSet\n",
    "from triumvirate.twopt import compute_powspec, compute_powspec_in_gpp_box\n",
    "from triumvirate.threept import compute_bispec, compute_bispec_in_gpp_box"
   ]
  },
  {
   "cell_type": "markdown",
   "metadata": {},
   "source": [
    "## Set-up"
   ]
  },
  {
   "cell_type": "markdown",
   "metadata": {},
   "source": [
    "Set up logger."
   ]
  },
  {
   "cell_type": "code",
   "execution_count": 2,
   "metadata": {},
   "outputs": [],
   "source": [
    "logger = setup_logger()"
   ]
  },
  {
   "cell_type": "markdown",
   "metadata": {},
   "source": [
    "Load parameter file."
   ]
  },
  {
   "cell_type": "code",
   "execution_count": 3,
   "metadata": {},
   "outputs": [
    {
     "name": "stdout",
     "output_type": "stream",
     "text": [
      "[2022-07-20 14:18:25 (+0:00:02) INFO] (C++ start) Validating parameters...\n",
      "[2022-07-20 14:18:25 (+0:00:02) INFO] (C++ end) ... validated parameters.\n",
      "[2022-07-20 14:18:25 (+00:00:00) STAT] Parameters validated.\n"
     ]
    }
   ],
   "source": [
    "# Change the parameter file path here to yours.\n",
    "PARAMETER_FILE = \"../storage/input/params/params_example.yml\"\n",
    "\n",
    "pars = ParameterSet(PARAMETER_FILE, logger=logger)"
   ]
  },
  {
   "cell_type": "markdown",
   "metadata": {},
   "source": [
    "## Data I/O"
   ]
  },
  {
   "cell_type": "markdown",
   "metadata": {},
   "source": [
    "Load catalogues."
   ]
  },
  {
   "cell_type": "code",
   "execution_count": null,
   "metadata": {},
   "outputs": [],
   "source": [
    "cat_data = ParticleCatalogue.read_from_file(\n",
    "    \"{}/{}\".format(\n",
    "        pars['directories']['catalogues'],\n",
    "        pars['files']['data_catalogue']\n",
    "    ),\n",
    "    names=['x', 'y', 'z', 'ws'],\n",
    "    logger=logger\n",
    ")\n",
    "if pars['catalogue_type'] != 'sim':\n",
    "    cat_rand = ParticleCatalogue.read_from_file(\n",
    "        \"{}/{}\".format(\n",
    "            pars['directories']['catalogues'],\n",
    "            pars['files']['rand_catalogue']\n",
    "        ),\n",
    "        names=['x', 'y', 'z', 'ws'],\n",
    "        logger=logger\n",
    "    )"
   ]
  },
  {
   "cell_type": "markdown",
   "metadata": {},
   "source": [
    "## Measurements"
   ]
  },
  {
   "cell_type": "markdown",
   "metadata": {},
   "source": [
    "Measure the power spectrum."
   ]
  },
  {
   "cell_type": "code",
   "execution_count": null,
   "metadata": {},
   "outputs": [],
   "source": [
    "if pars['catalogue_type'] != 'sim':\n",
    "    measurements_pk = compute_powspec(\n",
    "        cat_data, cat_rand, pars, box_align='pad', boxsize_pad=0.05,\n",
    "        save=True, logger=logger\n",
    "    )\n",
    "else:\n",
    "    measurements_pk = compute_powspec_in_gpp_box(cat_data, pars, logger=logger)"
   ]
  },
  {
   "cell_type": "markdown",
   "metadata": {},
   "source": [
    "Measure the bispectrum."
   ]
  },
  {
   "cell_type": "code",
   "execution_count": null,
   "metadata": {},
   "outputs": [],
   "source": [
    "if pars['catalogue_type'] != 'sim':\n",
    "    measurements_bk = compute_bispec(\n",
    "        cat_data, cat_rand, pars, box_align='pad', boxsize_pad=0.05,\n",
    "        save=True, logger=logger\n",
    "    )\n",
    "else:\n",
    "    measurements_bk = compute_bispec_in_gpp_box(cat_data, pars, logger=logger)"
   ]
  }
 ],
 "metadata": {
  "kernelspec": {
   "display_name": "Python 3.8.10 ('cosmo')",
   "language": "python",
   "name": "python3"
  },
  "language_info": {
   "codemirror_mode": {
    "name": "ipython",
    "version": 3
   },
   "file_extension": ".py",
   "mimetype": "text/x-python",
   "name": "python",
   "nbconvert_exporter": "python",
   "pygments_lexer": "ipython3",
   "version": "3.8.10"
  },
  "vscode": {
   "interpreter": {
    "hash": "4a7a1cba6a5ad1075172442d744886e76565787fe92f2df44113e5c941b518c1"
   }
  }
 },
 "nbformat": 4,
 "nbformat_minor": 2
}
